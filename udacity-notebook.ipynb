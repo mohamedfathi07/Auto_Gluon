{
 "cells": [
  {
   "cell_type": "markdown",
   "id": "74a28538",
   "metadata": {
    "papermill": {
     "duration": 0.018889,
     "end_time": "2022-08-01T09:48:33.926953",
     "exception": false,
     "start_time": "2022-08-01T09:48:33.908064",
     "status": "completed"
    },
    "tags": []
   },
   "source": [
    "# Predict Bike Sharing Demand with AutoGluon Template"
   ]
  },
  {
   "cell_type": "markdown",
   "id": "30327c93",
   "metadata": {
    "papermill": {
     "duration": 0.017099,
     "end_time": "2022-08-01T09:48:33.961612",
     "exception": false,
     "start_time": "2022-08-01T09:48:33.944513",
     "status": "completed"
    },
    "tags": []
   },
   "source": [
    "## Project: Predict Bike Sharing Demand with AutoGluon\n",
    "This notebook is a template with each step that you need to complete for the project.\n",
    "\n",
    "Please fill in your code where there are explicit `?` markers in the notebook. You are welcome to add more cells and code as you see fit.\n",
    "\n",
    "Once you have completed all the code implementations, please export your notebook as a HTML file so the reviews can view your code. Make sure you have all outputs correctly outputted.\n",
    "\n",
    "`File-> Export Notebook As... -> Export Notebook as HTML`\n",
    "\n",
    "There is a writeup to complete as well after all code implememtation is done. Please answer all questions and attach the necessary tables and charts. You can complete the writeup in either markdown or PDF.\n",
    "\n",
    "Completing the code template and writeup template will cover all of the rubric points for this project.\n",
    "\n",
    "The rubric contains \"Stand Out Suggestions\" for enhancing the project beyond the minimum requirements. The stand out suggestions are optional. If you decide to pursue the \"stand out suggestions\", you can include the code in this notebook and also discuss the results in the writeup file."
   ]
  },
  {
   "cell_type": "markdown",
   "id": "6612fce0",
   "metadata": {
    "papermill": {
     "duration": 0.016977,
     "end_time": "2022-08-01T09:48:33.997856",
     "exception": false,
     "start_time": "2022-08-01T09:48:33.980879",
     "status": "completed"
    },
    "tags": []
   },
   "source": [
    "## Step 1: Create an account with Kaggle"
   ]
  },
  {
   "cell_type": "markdown",
   "id": "0b936cb5",
   "metadata": {
    "papermill": {
     "duration": 0.017067,
     "end_time": "2022-08-01T09:48:34.032475",
     "exception": false,
     "start_time": "2022-08-01T09:48:34.015408",
     "status": "completed"
    },
    "tags": []
   },
   "source": [
    "### Create Kaggle Account and download API key\n",
    "Below is example of steps to get the API username and key. Each student will have their own username and key."
   ]
  },
  {
   "cell_type": "markdown",
   "id": "2107c813",
   "metadata": {
    "papermill": {
     "duration": 0.017053,
     "end_time": "2022-08-01T09:48:34.067172",
     "exception": false,
     "start_time": "2022-08-01T09:48:34.050119",
     "status": "completed"
    },
    "tags": []
   },
   "source": [
    "## Step 2: Download the Kaggle dataset using the kaggle python library"
   ]
  },
  {
   "cell_type": "markdown",
   "id": "7347d0ba",
   "metadata": {
    "papermill": {
     "duration": 0.01703,
     "end_time": "2022-08-01T09:48:34.101476",
     "exception": false,
     "start_time": "2022-08-01T09:48:34.084446",
     "status": "completed"
    },
    "tags": []
   },
   "source": [
    "### Open up Sagemaker Studio and use starter template"
   ]
  },
  {
   "cell_type": "markdown",
   "id": "b1c3ae26",
   "metadata": {
    "papermill": {
     "duration": 0.017229,
     "end_time": "2022-08-01T09:48:34.136092",
     "exception": false,
     "start_time": "2022-08-01T09:48:34.118863",
     "status": "completed"
    },
    "tags": []
   },
   "source": [
    "1. Notebook should be using a `ml.t3.medium` instance (2 vCPU + 4 GiB)\n",
    "2. Notebook should be using kernal: `Python 3 (MXNet 1.8 Python 3.7 CPU Optimized)`"
   ]
  },
  {
   "cell_type": "markdown",
   "id": "cd10520c",
   "metadata": {
    "papermill": {
     "duration": 0.016985,
     "end_time": "2022-08-01T09:48:34.170797",
     "exception": false,
     "start_time": "2022-08-01T09:48:34.153812",
     "status": "completed"
    },
    "tags": []
   },
   "source": [
    "### Install packages"
   ]
  },
  {
   "cell_type": "code",
   "execution_count": 1,
   "id": "8c2e64fb",
   "metadata": {
    "execution": {
     "iopub.execute_input": "2022-08-01T09:48:34.208857Z",
     "iopub.status.busy": "2022-08-01T09:48:34.207990Z",
     "iopub.status.idle": "2022-08-01T09:48:34.224639Z",
     "shell.execute_reply": "2022-08-01T09:48:34.223731Z"
    },
    "papermill": {
     "duration": 0.038233,
     "end_time": "2022-08-01T09:48:34.226799",
     "exception": false,
     "start_time": "2022-08-01T09:48:34.188566",
     "status": "completed"
    },
    "tags": []
   },
   "outputs": [
    {
     "name": "stdout",
     "output_type": "stream",
     "text": [
      "/kaggle/input/bike-sharing-demand/sampleSubmission.csv\n",
      "/kaggle/input/bike-sharing-demand/train.csv\n",
      "/kaggle/input/bike-sharing-demand/test.csv\n"
     ]
    }
   ],
   "source": [
    "# This Python 3 environment comes with many helpful analytics libraries installed\n",
    "# It is defined by the kaggle/python Docker image: https://github.com/kaggle/docker-python\n",
    "# For example, here's several helpful packages to load\n",
    "\n",
    "import numpy as np # linear algebra\n",
    "import pandas as pd # data processing, CSV file I/O (e.g. pd.read_csv)\n",
    "\n",
    "# Input data files are available in the read-only \"../input/\" directory\n",
    "# For example, running this (by clicking run or pressing Shift+Enter) will list all files under the input directory\n",
    "\n",
    "import os\n",
    "for dirname, _, filenames in os.walk('/kaggle/input'):\n",
    "    for filename in filenames:\n",
    "        print(os.path.join(dirname, filename))\n",
    "\n",
    "# You can write up to 20GB to the current directory (/kaggle/working/) that gets preserved as output when you create a version using \"Save & Run All\" \n",
    "# You can also write temporary files to /kaggle/temp/, but they won't be saved outside of the current session"
   ]
  },
  {
   "cell_type": "code",
   "execution_count": 2,
   "id": "dc8cfa86",
   "metadata": {
    "execution": {
     "iopub.execute_input": "2022-08-01T09:48:34.265498Z",
     "iopub.status.busy": "2022-08-01T09:48:34.264878Z",
     "iopub.status.idle": "2022-08-01T09:50:32.336402Z",
     "shell.execute_reply": "2022-08-01T09:50:32.335407Z"
    },
    "papermill": {
     "duration": 118.094507,
     "end_time": "2022-08-01T09:50:32.339075",
     "exception": false,
     "start_time": "2022-08-01T09:48:34.244568",
     "status": "completed"
    },
    "tags": []
   },
   "outputs": [
    {
     "name": "stdout",
     "output_type": "stream",
     "text": [
      "Requirement already satisfied: pip in /opt/conda/lib/python3.7/site-packages (22.1.2)\r\n",
      "Collecting pip\r\n",
      "  Downloading pip-22.2.1-py3-none-any.whl (2.0 MB)\r\n",
      "\u001b[2K     \u001b[90m━━━━━━━━━━━━━━━━━━━━━━━━━━━━━━━━━━━━━━━━\u001b[0m \u001b[32m2.0/2.0 MB\u001b[0m \u001b[31m6.4 MB/s\u001b[0m eta \u001b[36m0:00:00\u001b[0m\r\n",
      "\u001b[?25hInstalling collected packages: pip\r\n",
      "  Attempting uninstall: pip\r\n",
      "    Found existing installation: pip 22.1.2\r\n",
      "    Uninstalling pip-22.1.2:\r\n",
      "      Successfully uninstalled pip-22.1.2\r\n",
      "Successfully installed pip-22.2.1\r\n",
      "\u001b[33mWARNING: Running pip as the 'root' user can result in broken permissions and conflicting behaviour with the system package manager. It is recommended to use a virtual environment instead: https://pip.pypa.io/warnings/venv\u001b[0m\u001b[33m\r\n",
      "\u001b[0mRequirement already satisfied: setuptools in /opt/conda/lib/python3.7/site-packages (59.8.0)\r\n",
      "Collecting setuptools\r\n",
      "  Downloading setuptools-63.3.0-py3-none-any.whl (1.2 MB)\r\n",
      "\u001b[2K     \u001b[90m━━━━━━━━━━━━━━━━━━━━━━━━━━━━━━━━━━━━━━━━\u001b[0m \u001b[32m1.2/1.2 MB\u001b[0m \u001b[31m4.2 MB/s\u001b[0m eta \u001b[36m0:00:00\u001b[0m\r\n",
      "\u001b[?25hRequirement already satisfied: wheel in /opt/conda/lib/python3.7/site-packages (0.37.1)\r\n",
      "Installing collected packages: setuptools\r\n",
      "  Attempting uninstall: setuptools\r\n",
      "    Found existing installation: setuptools 59.8.0\r\n",
      "    Uninstalling setuptools-59.8.0:\r\n",
      "      Successfully uninstalled setuptools-59.8.0\r\n",
      "\u001b[31mERROR: pip's dependency resolver does not currently take into account all the packages that are installed. This behaviour is the source of the following dependency conflicts.\r\n",
      "dask-cudf 21.10.1 requires cupy-cuda114, which is not installed.\r\n",
      "beatrix-jupyterlab 3.1.7 requires google-cloud-bigquery-storage, which is not installed.\r\n",
      "dask-cudf 21.10.1 requires dask==2021.09.1, but you have dask 2022.2.0 which is incompatible.\r\n",
      "dask-cudf 21.10.1 requires distributed==2021.09.1, but you have distributed 2022.2.0 which is incompatible.\r\n",
      "allennlp 2.10.0 requires protobuf==3.20.0, but you have protobuf 3.19.4 which is incompatible.\u001b[0m\u001b[31m\r\n",
      "\u001b[0mSuccessfully installed setuptools-63.3.0\r\n",
      "\u001b[33mWARNING: Running pip as the 'root' user can result in broken permissions and conflicting behaviour with the system package manager. It is recommended to use a virtual environment instead: https://pip.pypa.io/warnings/venv\u001b[0m\u001b[33m\r\n",
      "\u001b[0mCollecting mxnet<2.0.0\r\n",
      "  Downloading mxnet-1.9.1-py3-none-manylinux2014_x86_64.whl (49.1 MB)\r\n",
      "\u001b[2K     \u001b[90m━━━━━━━━━━━━━━━━━━━━━━━━━━━━━━━━━━━━━━━━\u001b[0m \u001b[32m49.1/49.1 MB\u001b[0m \u001b[31m20.2 MB/s\u001b[0m eta \u001b[36m0:00:00\u001b[0m\r\n",
      "\u001b[?25hCollecting bokeh==2.0.1\r\n",
      "  Downloading bokeh-2.0.1.tar.gz (8.6 MB)\r\n",
      "\u001b[2K     \u001b[90m━━━━━━━━━━━━━━━━━━━━━━━━━━━━━━━━━━━━━━━━\u001b[0m \u001b[32m8.6/8.6 MB\u001b[0m \u001b[31m39.1 MB/s\u001b[0m eta \u001b[36m0:00:00\u001b[0m\r\n",
      "\u001b[?25h  Preparing metadata (setup.py) ... \u001b[?25l-\b \b\\\b \bdone\r\n",
      "\u001b[?25hRequirement already satisfied: PyYAML>=3.10 in /opt/conda/lib/python3.7/site-packages (from bokeh==2.0.1) (6.0)\r\n",
      "Requirement already satisfied: python-dateutil>=2.1 in /opt/conda/lib/python3.7/site-packages (from bokeh==2.0.1) (2.8.2)\r\n",
      "Requirement already satisfied: Jinja2>=2.7 in /opt/conda/lib/python3.7/site-packages (from bokeh==2.0.1) (3.1.2)\r\n",
      "Requirement already satisfied: numpy>=1.11.3 in /opt/conda/lib/python3.7/site-packages (from bokeh==2.0.1) (1.21.6)\r\n",
      "Requirement already satisfied: pillow>=4.0 in /opt/conda/lib/python3.7/site-packages (from bokeh==2.0.1) (9.1.1)\r\n",
      "Requirement already satisfied: packaging>=16.8 in /opt/conda/lib/python3.7/site-packages (from bokeh==2.0.1) (21.3)\r\n",
      "Requirement already satisfied: tornado>=5 in /opt/conda/lib/python3.7/site-packages (from bokeh==2.0.1) (6.1)\r\n",
      "Requirement already satisfied: typing_extensions>=3.7.4 in /opt/conda/lib/python3.7/site-packages (from bokeh==2.0.1) (4.1.1)\r\n",
      "Requirement already satisfied: requests<3,>=2.20.0 in /opt/conda/lib/python3.7/site-packages (from mxnet<2.0.0) (2.28.1)\r\n",
      "Requirement already satisfied: graphviz<0.9.0,>=0.8.1 in /opt/conda/lib/python3.7/site-packages (from mxnet<2.0.0) (0.8.4)\r\n",
      "Requirement already satisfied: MarkupSafe>=2.0 in /opt/conda/lib/python3.7/site-packages (from Jinja2>=2.7->bokeh==2.0.1) (2.0.1)\r\n",
      "Requirement already satisfied: pyparsing!=3.0.5,>=2.0.2 in /opt/conda/lib/python3.7/site-packages (from packaging>=16.8->bokeh==2.0.1) (3.0.9)\r\n",
      "Requirement already satisfied: six>=1.5 in /opt/conda/lib/python3.7/site-packages (from python-dateutil>=2.1->bokeh==2.0.1) (1.16.0)\r\n",
      "Requirement already satisfied: certifi>=2017.4.17 in /opt/conda/lib/python3.7/site-packages (from requests<3,>=2.20.0->mxnet<2.0.0) (2022.6.15)\r\n",
      "Requirement already satisfied: urllib3<1.27,>=1.21.1 in /opt/conda/lib/python3.7/site-packages (from requests<3,>=2.20.0->mxnet<2.0.0) (1.26.9)\r\n",
      "Requirement already satisfied: charset-normalizer<3,>=2 in /opt/conda/lib/python3.7/site-packages (from requests<3,>=2.20.0->mxnet<2.0.0) (2.1.0)\r\n",
      "Requirement already satisfied: idna<4,>=2.5 in /opt/conda/lib/python3.7/site-packages (from requests<3,>=2.20.0->mxnet<2.0.0) (3.3)\r\n",
      "Building wheels for collected packages: bokeh\r\n",
      "  Building wheel for bokeh (setup.py) ... \u001b[?25l-\b \b\\\b \b|\b \b/\b \b-\b \b\\\b \b|\b \b/\b \b-\b \b\\\b \b|\b \b/\b \b-\b \b\\\b \b|\b \b/\b \b-\b \b\\\b \b|\b \b/\b \bdone\r\n",
      "\u001b[?25h  Created wheel for bokeh: filename=bokeh-2.0.1-py3-none-any.whl size=9080019 sha256=a33967bfd9bda45e5670db5d113c22fafb92b9286106c4d53cd8f9757b9bbf2e\r\n",
      "  Stored in directory: /root/.cache/pip/wheels/9f/9e/ac/f24f30e119df73511fde9af8aa747217ac8824e662037ba9a8\r\n",
      "Successfully built bokeh\r\n",
      "Installing collected packages: mxnet, bokeh\r\n",
      "  Attempting uninstall: bokeh\r\n",
      "    Found existing installation: bokeh 2.4.3\r\n",
      "    Uninstalling bokeh-2.4.3:\r\n",
      "      Successfully uninstalled bokeh-2.4.3\r\n",
      "\u001b[31mERROR: pip's dependency resolver does not currently take into account all the packages that are installed. This behaviour is the source of the following dependency conflicts.\r\n",
      "panel 0.13.1 requires bokeh<2.5.0,>=2.4.0, but you have bokeh 2.0.1 which is incompatible.\r\n",
      "geoviews 1.9.5 requires bokeh<2.5,>=2.4.0, but you have bokeh 2.0.1 which is incompatible.\u001b[0m\u001b[31m\r\n",
      "\u001b[0mSuccessfully installed bokeh-2.0.1 mxnet-1.9.1\r\n",
      "\u001b[33mWARNING: Running pip as the 'root' user can result in broken permissions and conflicting behaviour with the system package manager. It is recommended to use a virtual environment instead: https://pip.pypa.io/warnings/venv\u001b[0m\u001b[33m\r\n",
      "\u001b[0mCollecting autogluon\r\n",
      "  Downloading autogluon-0.5.2-py3-none-any.whl (9.6 kB)\r\n",
      "Collecting autogluon.core[all]==0.5.2\r\n",
      "  Downloading autogluon.core-0.5.2-py3-none-any.whl (210 kB)\r\n",
      "\u001b[2K     \u001b[90m━━━━━━━━━━━━━━━━━━━━━━━━━━━━━━━━━━━━━━━\u001b[0m \u001b[32m210.4/210.4 kB\u001b[0m \u001b[31m1.5 MB/s\u001b[0m eta \u001b[36m0:00:00\u001b[0m\r\n",
      "\u001b[?25hCollecting autogluon.features==0.5.2\r\n",
      "  Downloading autogluon.features-0.5.2-py3-none-any.whl (59 kB)\r\n",
      "\u001b[2K     \u001b[90m━━━━━━━━━━━━━━━━━━━━━━━━━━━━━━━━━━━━━━━━\u001b[0m \u001b[32m59.4/59.4 kB\u001b[0m \u001b[31m17.3 MB/s\u001b[0m eta \u001b[36m0:00:00\u001b[0m\r\n",
      "\u001b[?25hCollecting autogluon.text==0.5.2\r\n",
      "  Downloading autogluon.text-0.5.2-py3-none-any.whl (61 kB)\r\n",
      "\u001b[2K     \u001b[90m━━━━━━━━━━━━━━━━━━━━━━━━━━━━━━━━━━━━━━━━\u001b[0m \u001b[32m61.9/61.9 kB\u001b[0m \u001b[31m17.6 MB/s\u001b[0m eta \u001b[36m0:00:00\u001b[0m\r\n",
      "\u001b[?25hCollecting autogluon.tabular[all]==0.5.2\r\n",
      "  Downloading autogluon.tabular-0.5.2-py3-none-any.whl (274 kB)\r\n",
      "\u001b[2K     \u001b[90m━━━━━━━━━━━━━━━━━━━━━━━━━━━━━━━━━━━━━━━\u001b[0m \u001b[32m274.2/274.2 kB\u001b[0m \u001b[31m4.7 MB/s\u001b[0m eta \u001b[36m0:00:00\u001b[0m\r\n",
      "\u001b[?25hCollecting autogluon.timeseries[all]==0.5.2\r\n",
      "  Downloading autogluon.timeseries-0.5.2-py3-none-any.whl (65 kB)\r\n",
      "\u001b[2K     \u001b[90m━━━━━━━━━━━━━━━━━━━━━━━━━━━━━━━━━━━━━━━\u001b[0m \u001b[32m65.4/65.4 kB\u001b[0m \u001b[31m113.2 MB/s\u001b[0m eta \u001b[36m0:00:00\u001b[0m\r\n",
      "\u001b[?25hCollecting autogluon.vision==0.5.2\r\n",
      "  Downloading autogluon.vision-0.5.2-py3-none-any.whl (48 kB)\r\n",
      "\u001b[2K     \u001b[90m━━━━━━━━━━━━━━━━━━━━━━━━━━━━━━━━━━━━━━━━\u001b[0m \u001b[32m48.8/48.8 kB\u001b[0m \u001b[31m81.8 MB/s\u001b[0m eta \u001b[36m0:00:00\u001b[0m\r\n",
      "\u001b[?25hCollecting autogluon.multimodal==0.5.2\r\n",
      "  Downloading autogluon.multimodal-0.5.2-py3-none-any.whl (149 kB)\r\n",
      "\u001b[2K     \u001b[90m━━━━━━━━━━━━━━━━━━━━━━━━━━━━━━━━━━━━━━\u001b[0m \u001b[32m149.4/149.4 kB\u001b[0m \u001b[31m98.2 MB/s\u001b[0m eta \u001b[36m0:00:00\u001b[0m\r\n",
      "\u001b[?25hRequirement already satisfied: tqdm>=4.38.0 in /opt/conda/lib/python3.7/site-packages (from autogluon.core[all]==0.5.2->autogluon) (4.64.0)\r\n",
      "Requirement already satisfied: boto3 in /opt/conda/lib/python3.7/site-packages (from autogluon.core[all]==0.5.2->autogluon) (1.24.33)\r\n",
      "Requirement already satisfied: matplotlib in /opt/conda/lib/python3.7/site-packages (from autogluon.core[all]==0.5.2->autogluon) (3.5.2)\r\n",
      "Collecting autogluon.common==0.5.2\r\n",
      "  Downloading autogluon.common-0.5.2-py3-none-any.whl (37 kB)\r\n",
      "Collecting dask<=2021.11.2,>=2021.09.1\r\n",
      "  Downloading dask-2021.11.2-py3-none-any.whl (1.0 MB)\r\n",
      "\u001b[2K     \u001b[90m━━━━━━━━━━━━━━━━━━━━━━━━━━━━━━━━━━━━━━━━\u001b[0m \u001b[32m1.0/1.0 MB\u001b[0m \u001b[31m13.6 MB/s\u001b[0m eta \u001b[36m0:00:00\u001b[0m\r\n",
      "\u001b[?25hRequirement already satisfied: pandas!=1.4.0,<1.5,>=1.2.5 in /opt/conda/lib/python3.7/site-packages (from autogluon.core[all]==0.5.2->autogluon) (1.3.5)\r\n",
      "Requirement already satisfied: scipy<1.8.0,>=1.5.4 in /opt/conda/lib/python3.7/site-packages (from autogluon.core[all]==0.5.2->autogluon) (1.7.3)\r\n",
      "Requirement already satisfied: requests in /opt/conda/lib/python3.7/site-packages (from autogluon.core[all]==0.5.2->autogluon) (2.28.1)\r\n",
      "Requirement already satisfied: numpy<1.23,>=1.21 in /opt/conda/lib/python3.7/site-packages (from autogluon.core[all]==0.5.2->autogluon) (1.21.6)\r\n",
      "Collecting distributed<=2021.11.2,>=2021.09.1\r\n",
      "  Downloading distributed-2021.11.2-py3-none-any.whl (802 kB)\r\n",
      "\u001b[2K     \u001b[90m━━━━━━━━━━━━━━━━━━━━━━━━━━━━━━━━━━━━━━\u001b[0m \u001b[32m802.2/802.2 kB\u001b[0m \u001b[31m61.2 MB/s\u001b[0m eta \u001b[36m0:00:00\u001b[0m\r\n",
      "\u001b[?25hRequirement already satisfied: scikit-learn<1.1,>=1.0.0 in /opt/conda/lib/python3.7/site-packages (from autogluon.core[all]==0.5.2->autogluon) (1.0.2)\r\n",
      "Requirement already satisfied: ray<1.14,>=1.13 in /opt/conda/lib/python3.7/site-packages (from autogluon.core[all]==0.5.2->autogluon) (1.13.0)\r\n",
      "Requirement already satisfied: hyperopt<0.2.8,>=0.2.7 in /opt/conda/lib/python3.7/site-packages (from autogluon.core[all]==0.5.2->autogluon) (0.2.7)\r\n",
      "Requirement already satisfied: psutil<6,>=5.7.3 in /opt/conda/lib/python3.7/site-packages (from autogluon.features==0.5.2->autogluon) (5.9.1)\r\n",
      "Collecting torchmetrics<0.8.0,>=0.7.2\r\n",
      "  Downloading torchmetrics-0.7.3-py3-none-any.whl (398 kB)\r\n",
      "\u001b[2K     \u001b[90m━━━━━━━━━━━━━━━━━━━━━━━━━━━━━━━━━━━━━\u001b[0m \u001b[32m398.2/398.2 kB\u001b[0m \u001b[31m136.1 MB/s\u001b[0m eta \u001b[36m0:00:00\u001b[0m\r\n",
      "\u001b[?25hRequirement already satisfied: nltk<4.0.0,>=3.4.5 in /opt/conda/lib/python3.7/site-packages (from autogluon.multimodal==0.5.2->autogluon) (3.7)\r\n",
      "Requirement already satisfied: scikit-image<0.20.0,>=0.19.1 in /opt/conda/lib/python3.7/site-packages (from autogluon.multimodal==0.5.2->autogluon) (0.19.3)\r\n",
      "Requirement already satisfied: smart-open<5.3.0,>=5.2.1 in /opt/conda/lib/python3.7/site-packages (from autogluon.multimodal==0.5.2->autogluon) (5.2.1)\r\n",
      "Requirement already satisfied: torchvision<0.14.0 in /opt/conda/lib/python3.7/site-packages (from autogluon.multimodal==0.5.2->autogluon) (0.12.0)\r\n",
      "Requirement already satisfied: sentencepiece<0.2.0,>=0.1.95 in /opt/conda/lib/python3.7/site-packages (from autogluon.multimodal==0.5.2->autogluon) (0.1.96)\r\n",
      "Collecting Pillow<9.1.0,>=9.0.1\r\n",
      "  Downloading Pillow-9.0.1-cp37-cp37m-manylinux_2_17_x86_64.manylinux2014_x86_64.whl (4.3 MB)\r\n",
      "\u001b[2K     \u001b[90m━━━━━━━━━━━━━━━━━━━━━━━━━━━━━━━━━━━━━━━━\u001b[0m \u001b[32m4.3/4.3 MB\u001b[0m \u001b[31m50.9 MB/s\u001b[0m eta \u001b[36m0:00:00\u001b[0m\r\n",
      "\u001b[?25hCollecting omegaconf<2.2.0,>=2.1.1\r\n",
      "  Downloading omegaconf-2.1.2-py3-none-any.whl (74 kB)\r\n",
      "\u001b[2K     \u001b[90m━━━━━━━━━━━━━━━━━━━━━━━━━━━━━━━━━━━━━━━\u001b[0m \u001b[32m74.7/74.7 kB\u001b[0m \u001b[31m175.6 MB/s\u001b[0m eta \u001b[36m0:00:00\u001b[0m\r\n",
      "\u001b[?25hRequirement already satisfied: torchtext<0.14.0 in /opt/conda/lib/python3.7/site-packages (from autogluon.multimodal==0.5.2->autogluon) (0.12.0)\r\n",
      "Requirement already satisfied: fairscale<=0.4.6,>=0.4.5 in /opt/conda/lib/python3.7/site-packages (from autogluon.multimodal==0.5.2->autogluon) (0.4.6)\r\n",
      "Collecting nptyping<1.5.0,>=1.4.4\r\n",
      "  Downloading nptyping-1.4.4-py3-none-any.whl (31 kB)\r\n",
      "Requirement already satisfied: transformers<4.21.0,>=4.18.0 in /opt/conda/lib/python3.7/site-packages (from autogluon.multimodal==0.5.2->autogluon) (4.20.1)\r\n",
      "Collecting timm<0.6.0\r\n",
      "  Downloading timm-0.5.4-py3-none-any.whl (431 kB)\r\n",
      "\u001b[2K     \u001b[90m━━━━━━━━━━━━━━━━━━━━━━━━━━━━━━━━━━━━━\u001b[0m \u001b[32m431.5/431.5 kB\u001b[0m \u001b[31m205.1 MB/s\u001b[0m eta \u001b[36m0:00:00\u001b[0m\r\n",
      "\u001b[?25hCollecting nlpaug<=1.1.10,>=1.1.10\r\n",
      "  Downloading nlpaug-1.1.10-py3-none-any.whl (410 kB)\r\n",
      "\u001b[2K     \u001b[90m━━━━━━━━━━━━━━━━━━━━━━━━━━━━━━━━━━━━━\u001b[0m \u001b[32m410.8/410.8 kB\u001b[0m \u001b[31m213.5 MB/s\u001b[0m eta \u001b[36m0:00:00\u001b[0m\r\n",
      "\u001b[?25hCollecting protobuf<=3.18.1\r\n",
      "  Downloading protobuf-3.18.1-cp37-cp37m-manylinux_2_17_x86_64.manylinux2014_x86_64.whl (1.1 MB)\r\n",
      "\u001b[2K     \u001b[90m━━━━━━━━━━━━━━━━━━━━━━━━━━━━━━━━━━━━━━━━\u001b[0m \u001b[32m1.1/1.1 MB\u001b[0m \u001b[31m159.9 MB/s\u001b[0m eta \u001b[36m0:00:00\u001b[0m\r\n",
      "\u001b[?25hRequirement already satisfied: torch<1.13,>=1.9 in /opt/conda/lib/python3.7/site-packages (from autogluon.multimodal==0.5.2->autogluon) (1.11.0)\r\n",
      "Collecting pytorch-metric-learning<1.4.0,>=1.3.0\r\n",
      "  Downloading pytorch_metric_learning-1.3.2-py3-none-any.whl (109 kB)\r\n",
      "\u001b[2K     \u001b[90m━━━━━━━━━━━━━━━━━━━━━━━━━━━━━━━━━━━━━\u001b[0m \u001b[32m109.4/109.4 kB\u001b[0m \u001b[31m195.7 MB/s\u001b[0m eta \u001b[36m0:00:00\u001b[0m\r\n",
      "\u001b[?25hRequirement already satisfied: pytorch-lightning<1.7.0,>=1.6.0 in /opt/conda/lib/python3.7/site-packages (from autogluon.multimodal==0.5.2->autogluon) (1.6.5)\r\n",
      "Requirement already satisfied: networkx<3.0,>=2.3 in /opt/conda/lib/python3.7/site-packages (from autogluon.tabular[all]==0.5.2->autogluon) (2.5)\r\n",
      "Requirement already satisfied: lightgbm<3.4,>=3.3 in /opt/conda/lib/python3.7/site-packages (from autogluon.tabular[all]==0.5.2->autogluon) (3.3.2)\r\n",
      "Requirement already satisfied: catboost<1.1,>=1.0 in /opt/conda/lib/python3.7/site-packages (from autogluon.tabular[all]==0.5.2->autogluon) (1.0.6)\r\n",
      "Requirement already satisfied: fastai<2.8,>=2.3.1 in /opt/conda/lib/python3.7/site-packages (from autogluon.tabular[all]==0.5.2->autogluon) (2.7.7)\r\n",
      "Collecting xgboost<1.5,>=1.4\r\n",
      "  Downloading xgboost-1.4.2-py3-none-manylinux2010_x86_64.whl (166.7 MB)\r\n",
      "\u001b[2K     \u001b[90m━━━━━━━━━━━━━━━━━━━━━━━━━━━━━━━━━━━━━━\u001b[0m \u001b[32m166.7/166.7 MB\u001b[0m \u001b[31m53.4 MB/s\u001b[0m eta \u001b[36m0:00:00\u001b[0m\r\n",
      "\u001b[?25hCollecting autogluon-contrib-nlp==0.0.1b20220208\r\n",
      "  Downloading autogluon_contrib_nlp-0.0.1b20220208-py3-none-any.whl (157 kB)\r\n",
      "\u001b[2K     \u001b[90m━━━━━━━━━━━━━━━━━━━━━━━━━━━━━━━━━━━━━\u001b[0m \u001b[32m157.3/157.3 kB\u001b[0m \u001b[31m192.2 MB/s\u001b[0m eta \u001b[36m0:00:00\u001b[0m\r\n",
      "\u001b[?25hCollecting psutil<6,>=5.7.3\r\n",
      "  Downloading psutil-5.8.0-cp37-cp37m-manylinux2010_x86_64.whl (296 kB)\r\n",
      "\u001b[2K     \u001b[90m━━━━━━━━━━━━━━━━━━━━━━━━━━━━━━━━━━━━━\u001b[0m \u001b[32m296.3/296.3 kB\u001b[0m \u001b[31m208.4 MB/s\u001b[0m eta \u001b[36m0:00:00\u001b[0m\r\n",
      "\u001b[?25hCollecting gluonts<0.10.0,>=0.8.0\r\n",
      "  Downloading gluonts-0.9.6-py3-none-any.whl (2.8 MB)\r\n",
      "\u001b[2K     \u001b[90m━━━━━━━━━━━━━━━━━━━━━━━━━━━━━━━━━━━━━━━━\u001b[0m \u001b[32m2.8/2.8 MB\u001b[0m \u001b[31m207.1 MB/s\u001b[0m eta \u001b[36m0:00:00\u001b[0m\r\n",
      "\u001b[?25hCollecting sktime~=0.11.4\r\n",
      "  Downloading sktime-0.11.4-py3-none-any.whl (6.7 MB)\r\n",
      "\u001b[2K     \u001b[90m━━━━━━━━━━━━━━━━━━━━━━━━━━━━━━━━━━━━━━━━\u001b[0m \u001b[32m6.7/6.7 MB\u001b[0m \u001b[31m57.1 MB/s\u001b[0m eta \u001b[36m0:00:00\u001b[0m\r\n",
      "\u001b[?25hCollecting tbats~=1.1\r\n",
      "  Downloading tbats-1.1.0-py3-none-any.whl (43 kB)\r\n",
      "\u001b[2K     \u001b[90m━━━━━━━━━━━━━━━━━━━━━━━━━━━━━━━━━━━━━━━\u001b[0m \u001b[32m43.8/43.8 kB\u001b[0m \u001b[31m145.3 MB/s\u001b[0m eta \u001b[36m0:00:00\u001b[0m\r\n",
      "\u001b[?25hCollecting pmdarima~=1.8.2\r\n",
      "  Downloading pmdarima-1.8.5-cp37-cp37m-manylinux_2_17_x86_64.manylinux2014_x86_64.manylinux_2_24_x86_64.whl (1.4 MB)\r\n",
      "\u001b[2K     \u001b[90m━━━━━━━━━━━━━━━━━━━━━━━━━━━━━━━━━━━━━━━━\u001b[0m \u001b[32m1.4/1.4 MB\u001b[0m \u001b[31m210.3 MB/s\u001b[0m eta \u001b[36m0:00:00\u001b[0m\r\n",
      "\u001b[?25hRequirement already satisfied: gluoncv<0.10.6,>=0.10.5 in /opt/conda/lib/python3.7/site-packages (from autogluon.vision==0.5.2->autogluon) (0.10.5.post0)\r\n",
      "Requirement already satisfied: regex in /opt/conda/lib/python3.7/site-packages (from autogluon-contrib-nlp==0.0.1b20220208->autogluon.text==0.5.2->autogluon) (2021.11.10)\r\n",
      "Collecting sentencepiece<0.2.0,>=0.1.95\r\n",
      "  Downloading sentencepiece-0.1.95-cp37-cp37m-manylinux2014_x86_64.whl (1.2 MB)\r\n",
      "\u001b[2K     \u001b[90m━━━━━━━━━━━━━━━━━━━━━━━━━━━━━━━━━━━━━━━━\u001b[0m \u001b[32m1.2/1.2 MB\u001b[0m \u001b[31m212.8 MB/s\u001b[0m eta \u001b[36m0:00:00\u001b[0m\r\n",
      "\u001b[?25hRequirement already satisfied: flake8 in /opt/conda/lib/python3.7/site-packages (from autogluon-contrib-nlp==0.0.1b20220208->autogluon.text==0.5.2->autogluon) (4.0.1)\r\n",
      "Requirement already satisfied: yacs>=0.1.6 in /opt/conda/lib/python3.7/site-packages (from autogluon-contrib-nlp==0.0.1b20220208->autogluon.text==0.5.2->autogluon) (0.1.8)\r\n",
      "Requirement already satisfied: sacremoses>=0.0.38 in /opt/conda/lib/python3.7/site-packages (from autogluon-contrib-nlp==0.0.1b20220208->autogluon.text==0.5.2->autogluon) (0.0.53)\r\n",
      "Requirement already satisfied: pyarrow in /opt/conda/lib/python3.7/site-packages (from autogluon-contrib-nlp==0.0.1b20220208->autogluon.text==0.5.2->autogluon) (5.0.0)\r\n",
      "Collecting sacrebleu\r\n",
      "  Downloading sacrebleu-2.2.0-py3-none-any.whl (116 kB)\r\n",
      "\u001b[2K     \u001b[90m━━━━━━━━━━━━━━━━━━━━━━━━━━━━━━━━━━━━━\u001b[0m \u001b[32m116.6/116.6 kB\u001b[0m \u001b[31m189.5 MB/s\u001b[0m eta \u001b[36m0:00:00\u001b[0m\r\n",
      "\u001b[?25hRequirement already satisfied: tokenizers>=0.9.4 in /opt/conda/lib/python3.7/site-packages (from autogluon-contrib-nlp==0.0.1b20220208->autogluon.text==0.5.2->autogluon) (0.12.1)\r\n",
      "Collecting contextvars\r\n",
      "  Downloading contextvars-2.4.tar.gz (9.6 kB)\r\n",
      "  Preparing metadata (setup.py) ... \u001b[?25l-\b \b\\\b \bdone\r\n",
      "\u001b[?25hRequirement already satisfied: graphviz in /opt/conda/lib/python3.7/site-packages (from catboost<1.1,>=1.0->autogluon.tabular[all]==0.5.2->autogluon) (0.8.4)\r\n",
      "Requirement already satisfied: plotly in /opt/conda/lib/python3.7/site-packages (from catboost<1.1,>=1.0->autogluon.tabular[all]==0.5.2->autogluon) (5.9.0)\r\n",
      "Requirement already satisfied: six in /opt/conda/lib/python3.7/site-packages (from catboost<1.1,>=1.0->autogluon.tabular[all]==0.5.2->autogluon) (1.16.0)\r\n",
      "Requirement already satisfied: packaging>=20.0 in /opt/conda/lib/python3.7/site-packages (from dask<=2021.11.2,>=2021.09.1->autogluon.core[all]==0.5.2->autogluon) (21.3)\r\n",
      "Requirement already satisfied: partd>=0.3.10 in /opt/conda/lib/python3.7/site-packages (from dask<=2021.11.2,>=2021.09.1->autogluon.core[all]==0.5.2->autogluon) (1.2.0)\r\n",
      "Requirement already satisfied: fsspec>=0.6.0 in /opt/conda/lib/python3.7/site-packages (from dask<=2021.11.2,>=2021.09.1->autogluon.core[all]==0.5.2->autogluon) (2022.5.0)\r\n",
      "Requirement already satisfied: pyyaml in /opt/conda/lib/python3.7/site-packages (from dask<=2021.11.2,>=2021.09.1->autogluon.core[all]==0.5.2->autogluon) (6.0)\r\n",
      "Requirement already satisfied: cloudpickle>=1.1.1 in /opt/conda/lib/python3.7/site-packages (from dask<=2021.11.2,>=2021.09.1->autogluon.core[all]==0.5.2->autogluon) (2.1.0)\r\n",
      "Requirement already satisfied: toolz>=0.8.2 in /opt/conda/lib/python3.7/site-packages (from dask<=2021.11.2,>=2021.09.1->autogluon.core[all]==0.5.2->autogluon) (0.11.2)\r\n",
      "Requirement already satisfied: sortedcontainers!=2.0.0,!=2.0.1 in /opt/conda/lib/python3.7/site-packages (from distributed<=2021.11.2,>=2021.09.1->autogluon.core[all]==0.5.2->autogluon) (2.4.0)\r\n",
      "Requirement already satisfied: tornado>=5 in /opt/conda/lib/python3.7/site-packages (from distributed<=2021.11.2,>=2021.09.1->autogluon.core[all]==0.5.2->autogluon) (6.1)\r\n",
      "Requirement already satisfied: msgpack>=0.6.0 in /opt/conda/lib/python3.7/site-packages (from distributed<=2021.11.2,>=2021.09.1->autogluon.core[all]==0.5.2->autogluon) (1.0.4)\r\n",
      "Requirement already satisfied: tblib>=1.6.0 in /opt/conda/lib/python3.7/site-packages (from distributed<=2021.11.2,>=2021.09.1->autogluon.core[all]==0.5.2->autogluon) (1.7.0)\r\n",
      "Requirement already satisfied: click>=6.6 in /opt/conda/lib/python3.7/site-packages (from distributed<=2021.11.2,>=2021.09.1->autogluon.core[all]==0.5.2->autogluon) (8.0.4)\r\n",
      "Requirement already satisfied: setuptools in /opt/conda/lib/python3.7/site-packages (from distributed<=2021.11.2,>=2021.09.1->autogluon.core[all]==0.5.2->autogluon) (63.3.0)\r\n",
      "Requirement already satisfied: zict>=0.1.3 in /opt/conda/lib/python3.7/site-packages (from distributed<=2021.11.2,>=2021.09.1->autogluon.core[all]==0.5.2->autogluon) (2.2.0)\r\n",
      "Requirement already satisfied: jinja2 in /opt/conda/lib/python3.7/site-packages (from distributed<=2021.11.2,>=2021.09.1->autogluon.core[all]==0.5.2->autogluon) (3.1.2)\r\n",
      "Requirement already satisfied: pip in /opt/conda/lib/python3.7/site-packages (from fastai<2.8,>=2.3.1->autogluon.tabular[all]==0.5.2->autogluon) (22.2.1)\r\n",
      "Requirement already satisfied: fastprogress>=0.2.4 in /opt/conda/lib/python3.7/site-packages (from fastai<2.8,>=2.3.1->autogluon.tabular[all]==0.5.2->autogluon) (1.0.2)\r\n",
      "Requirement already satisfied: fastcore<1.6,>=1.4.5 in /opt/conda/lib/python3.7/site-packages (from fastai<2.8,>=2.3.1->autogluon.tabular[all]==0.5.2->autogluon) (1.5.6)\r\n",
      "Requirement already satisfied: fastdownload<2,>=0.0.5 in /opt/conda/lib/python3.7/site-packages (from fastai<2.8,>=2.3.1->autogluon.tabular[all]==0.5.2->autogluon) (0.0.7)\r\n",
      "Requirement already satisfied: spacy<4 in /opt/conda/lib/python3.7/site-packages (from fastai<2.8,>=2.3.1->autogluon.tabular[all]==0.5.2->autogluon) (3.3.1)\r\n",
      "Requirement already satisfied: opencv-python in /opt/conda/lib/python3.7/site-packages (from gluoncv<0.10.6,>=0.10.5->autogluon.vision==0.5.2->autogluon) (4.5.4.60)\r\n",
      "Requirement already satisfied: autocfg in /opt/conda/lib/python3.7/site-packages (from gluoncv<0.10.6,>=0.10.5->autogluon.vision==0.5.2->autogluon) (0.0.8)\r\n",
      "Requirement already satisfied: portalocker in /opt/conda/lib/python3.7/site-packages (from gluoncv<0.10.6,>=0.10.5->autogluon.vision==0.5.2->autogluon) (2.5.1)\r\n",
      "Requirement already satisfied: typing-extensions~=4.0 in /opt/conda/lib/python3.7/site-packages (from gluonts<0.10.0,>=0.8.0->autogluon.timeseries[all]==0.5.2->autogluon) (4.1.1)\r\n",
      "Requirement already satisfied: holidays>=0.9 in /opt/conda/lib/python3.7/site-packages (from gluonts<0.10.0,>=0.8.0->autogluon.timeseries[all]==0.5.2->autogluon) (0.14.2)\r\n",
      "Requirement already satisfied: pydantic~=1.1 in /opt/conda/lib/python3.7/site-packages (from gluonts<0.10.0,>=0.8.0->autogluon.timeseries[all]==0.5.2->autogluon) (1.8.2)\r\n",
      "Requirement already satisfied: future in /opt/conda/lib/python3.7/site-packages (from hyperopt<0.2.8,>=0.2.7->autogluon.core[all]==0.5.2->autogluon) (0.18.2)\r\n",
      "Requirement already satisfied: py4j in /opt/conda/lib/python3.7/site-packages (from hyperopt<0.2.8,>=0.2.7->autogluon.core[all]==0.5.2->autogluon) (0.10.9.5)\r\n",
      "Requirement already satisfied: wheel in /opt/conda/lib/python3.7/site-packages (from lightgbm<3.4,>=3.3->autogluon.tabular[all]==0.5.2->autogluon) (0.37.1)\r\n",
      "Requirement already satisfied: fonttools>=4.22.0 in /opt/conda/lib/python3.7/site-packages (from matplotlib->autogluon.core[all]==0.5.2->autogluon) (4.33.3)\r\n",
      "Requirement already satisfied: python-dateutil>=2.7 in /opt/conda/lib/python3.7/site-packages (from matplotlib->autogluon.core[all]==0.5.2->autogluon) (2.8.2)\r\n",
      "Requirement already satisfied: cycler>=0.10 in /opt/conda/lib/python3.7/site-packages (from matplotlib->autogluon.core[all]==0.5.2->autogluon) (0.11.0)\r\n",
      "Requirement already satisfied: kiwisolver>=1.0.1 in /opt/conda/lib/python3.7/site-packages (from matplotlib->autogluon.core[all]==0.5.2->autogluon) (1.4.3)\r\n",
      "Requirement already satisfied: pyparsing>=2.2.1 in /opt/conda/lib/python3.7/site-packages (from matplotlib->autogluon.core[all]==0.5.2->autogluon) (3.0.9)\r\n",
      "Requirement already satisfied: decorator>=4.3.0 in /opt/conda/lib/python3.7/site-packages (from networkx<3.0,>=2.3->autogluon.tabular[all]==0.5.2->autogluon) (5.1.1)\r\n",
      "Requirement already satisfied: joblib in /opt/conda/lib/python3.7/site-packages (from nltk<4.0.0,>=3.4.5->autogluon.multimodal==0.5.2->autogluon) (1.0.1)\r\n",
      "Collecting typish>=1.7.0\r\n",
      "  Downloading typish-1.9.3-py3-none-any.whl (45 kB)\r\n",
      "\u001b[2K     \u001b[90m━━━━━━━━━━━━━━━━━━━━━━━━━━━━━━━━━━━━━━━\u001b[0m \u001b[32m45.1/45.1 kB\u001b[0m \u001b[31m152.2 MB/s\u001b[0m eta \u001b[36m0:00:00\u001b[0m\r\n",
      "\u001b[?25hCollecting antlr4-python3-runtime==4.8\r\n",
      "  Downloading antlr4-python3-runtime-4.8.tar.gz (112 kB)\r\n",
      "\u001b[2K     \u001b[90m━━━━━━━━━━━━━━━━━━━━━━━━━━━━━━━━━━━━━\u001b[0m \u001b[32m112.4/112.4 kB\u001b[0m \u001b[31m203.3 MB/s\u001b[0m eta \u001b[36m0:00:00\u001b[0m\r\n",
      "\u001b[?25h  Preparing metadata (setup.py) ... \u001b[?25l-\b \b\\\b \bdone\r\n",
      "\u001b[?25hRequirement already satisfied: pytz>=2017.3 in /opt/conda/lib/python3.7/site-packages (from pandas!=1.4.0,<1.5,>=1.2.5->autogluon.core[all]==0.5.2->autogluon) (2022.1)\r\n",
      "Requirement already satisfied: urllib3 in /opt/conda/lib/python3.7/site-packages (from pmdarima~=1.8.2->autogluon.timeseries[all]==0.5.2->autogluon) (1.26.9)\r\n",
      "Requirement already satisfied: statsmodels!=0.12.0,>=0.11 in /opt/conda/lib/python3.7/site-packages (from pmdarima~=1.8.2->autogluon.timeseries[all]==0.5.2->autogluon) (0.13.2)\r\n",
      "Requirement already satisfied: Cython!=0.29.18,>=0.29 in /opt/conda/lib/python3.7/site-packages (from pmdarima~=1.8.2->autogluon.timeseries[all]==0.5.2->autogluon) (0.29.30)\r\n",
      "Requirement already satisfied: tensorboard>=2.2.0 in /opt/conda/lib/python3.7/site-packages (from pytorch-lightning<1.7.0,>=1.6.0->autogluon.multimodal==0.5.2->autogluon) (2.6.0)\r\n",
      "Requirement already satisfied: pyDeprecate>=0.3.1 in /opt/conda/lib/python3.7/site-packages (from pytorch-lightning<1.7.0,>=1.6.0->autogluon.multimodal==0.5.2->autogluon) (0.3.2)\r\n",
      "Requirement already satisfied: virtualenv in /opt/conda/lib/python3.7/site-packages (from ray<1.14,>=1.13->autogluon.core[all]==0.5.2->autogluon) (20.15.1)\r\n",
      "Requirement already satisfied: grpcio<=1.43.0,>=1.28.1 in /opt/conda/lib/python3.7/site-packages (from ray<1.14,>=1.13->autogluon.core[all]==0.5.2->autogluon) (1.43.0)\r\n",
      "Requirement already satisfied: jsonschema in /opt/conda/lib/python3.7/site-packages (from ray<1.14,>=1.13->autogluon.core[all]==0.5.2->autogluon) (4.6.1)\r\n",
      "Requirement already satisfied: attrs in /opt/conda/lib/python3.7/site-packages (from ray<1.14,>=1.13->autogluon.core[all]==0.5.2->autogluon) (21.4.0)\r\n",
      "Requirement already satisfied: filelock in /opt/conda/lib/python3.7/site-packages (from ray<1.14,>=1.13->autogluon.core[all]==0.5.2->autogluon) (3.7.1)\r\n",
      "Requirement already satisfied: frozenlist in /opt/conda/lib/python3.7/site-packages (from ray<1.14,>=1.13->autogluon.core[all]==0.5.2->autogluon) (1.3.0)\r\n",
      "Requirement already satisfied: aiosignal in /opt/conda/lib/python3.7/site-packages (from ray<1.14,>=1.13->autogluon.core[all]==0.5.2->autogluon) (1.2.0)\r\n",
      "Requirement already satisfied: tensorboardX>=1.9 in /opt/conda/lib/python3.7/site-packages (from ray<1.14,>=1.13->autogluon.core[all]==0.5.2->autogluon) (2.5.1)\r\n",
      "Requirement already satisfied: tabulate in /opt/conda/lib/python3.7/site-packages (from ray<1.14,>=1.13->autogluon.core[all]==0.5.2->autogluon) (0.8.10)\r\n",
      "Requirement already satisfied: certifi>=2017.4.17 in /opt/conda/lib/python3.7/site-packages (from requests->autogluon.core[all]==0.5.2->autogluon) (2022.6.15)\r\n",
      "Requirement already satisfied: charset-normalizer<3,>=2 in /opt/conda/lib/python3.7/site-packages (from requests->autogluon.core[all]==0.5.2->autogluon) (2.1.0)\r\n",
      "Requirement already satisfied: idna<4,>=2.5 in /opt/conda/lib/python3.7/site-packages (from requests->autogluon.core[all]==0.5.2->autogluon) (3.3)\r\n",
      "Requirement already satisfied: PyWavelets>=1.1.1 in /opt/conda/lib/python3.7/site-packages (from scikit-image<0.20.0,>=0.19.1->autogluon.multimodal==0.5.2->autogluon) (1.3.0)\r\n",
      "Requirement already satisfied: imageio>=2.4.1 in /opt/conda/lib/python3.7/site-packages (from scikit-image<0.20.0,>=0.19.1->autogluon.multimodal==0.5.2->autogluon) (2.19.3)\r\n",
      "Requirement already satisfied: tifffile>=2019.7.26 in /opt/conda/lib/python3.7/site-packages (from scikit-image<0.20.0,>=0.19.1->autogluon.multimodal==0.5.2->autogluon) (2021.11.2)\r\n",
      "Requirement already satisfied: threadpoolctl>=2.0.0 in /opt/conda/lib/python3.7/site-packages (from scikit-learn<1.1,>=1.0.0->autogluon.core[all]==0.5.2->autogluon) (3.1.0)\r\n",
      "Requirement already satisfied: numba>=0.53 in /opt/conda/lib/python3.7/site-packages (from sktime~=0.11.4->autogluon.timeseries[all]==0.5.2->autogluon) (0.55.2)\r\n",
      "Collecting deprecated>=1.2.13\r\n",
      "  Downloading Deprecated-1.2.13-py2.py3-none-any.whl (9.6 kB)\r\n",
      "Requirement already satisfied: importlib-metadata in /opt/conda/lib/python3.7/site-packages (from transformers<4.21.0,>=4.18.0->autogluon.multimodal==0.5.2->autogluon) (4.12.0)\r\n",
      "Requirement already satisfied: huggingface-hub<1.0,>=0.1.0 in /opt/conda/lib/python3.7/site-packages (from transformers<4.21.0,>=4.18.0->autogluon.multimodal==0.5.2->autogluon) (0.8.1)\r\n",
      "Requirement already satisfied: botocore<1.28.0,>=1.27.33 in /opt/conda/lib/python3.7/site-packages (from boto3->autogluon.core[all]==0.5.2->autogluon) (1.27.33)\r\n",
      "Requirement already satisfied: s3transfer<0.7.0,>=0.6.0 in /opt/conda/lib/python3.7/site-packages (from boto3->autogluon.core[all]==0.5.2->autogluon) (0.6.0)\r\n",
      "Requirement already satisfied: jmespath<2.0.0,>=0.7.1 in /opt/conda/lib/python3.7/site-packages (from boto3->autogluon.core[all]==0.5.2->autogluon) (1.0.1)\r\n",
      "Requirement already satisfied: wrapt<2,>=1.10 in /opt/conda/lib/python3.7/site-packages (from deprecated>=1.2.13->sktime~=0.11.4->autogluon.timeseries[all]==0.5.2->autogluon) (1.14.1)\r\n",
      "Requirement already satisfied: aiohttp in /opt/conda/lib/python3.7/site-packages (from fsspec>=0.6.0->dask<=2021.11.2,>=2021.09.1->autogluon.core[all]==0.5.2->autogluon) (3.8.1)\r\n",
      "Requirement already satisfied: convertdate>=2.3.0 in /opt/conda/lib/python3.7/site-packages (from holidays>=0.9->gluonts<0.10.0,>=0.8.0->autogluon.timeseries[all]==0.5.2->autogluon) (2.4.0)\r\n",
      "Requirement already satisfied: hijri-converter in /opt/conda/lib/python3.7/site-packages (from holidays>=0.9->gluonts<0.10.0,>=0.8.0->autogluon.timeseries[all]==0.5.2->autogluon) (2.2.4)\r\n",
      "Requirement already satisfied: korean-lunar-calendar in /opt/conda/lib/python3.7/site-packages (from holidays>=0.9->gluonts<0.10.0,>=0.8.0->autogluon.timeseries[all]==0.5.2->autogluon) (0.2.1)\r\n",
      "Requirement already satisfied: llvmlite<0.39,>=0.38.0rc1 in /opt/conda/lib/python3.7/site-packages (from numba>=0.53->sktime~=0.11.4->autogluon.timeseries[all]==0.5.2->autogluon) (0.38.1)\r\n",
      "Requirement already satisfied: locket in /opt/conda/lib/python3.7/site-packages (from partd>=0.3.10->dask<=2021.11.2,>=2021.09.1->autogluon.core[all]==0.5.2->autogluon) (1.0.0)\r\n",
      "Requirement already satisfied: catalogue<2.1.0,>=2.0.6 in /opt/conda/lib/python3.7/site-packages (from spacy<4->fastai<2.8,>=2.3.1->autogluon.tabular[all]==0.5.2->autogluon) (2.0.7)\r\n",
      "Requirement already satisfied: langcodes<4.0.0,>=3.2.0 in /opt/conda/lib/python3.7/site-packages (from spacy<4->fastai<2.8,>=2.3.1->autogluon.tabular[all]==0.5.2->autogluon) (3.3.0)\r\n",
      "Requirement already satisfied: blis<0.8.0,>=0.4.0 in /opt/conda/lib/python3.7/site-packages (from spacy<4->fastai<2.8,>=2.3.1->autogluon.tabular[all]==0.5.2->autogluon) (0.7.8)\r\n",
      "Requirement already satisfied: murmurhash<1.1.0,>=0.28.0 in /opt/conda/lib/python3.7/site-packages (from spacy<4->fastai<2.8,>=2.3.1->autogluon.tabular[all]==0.5.2->autogluon) (1.0.7)\r\n",
      "Requirement already satisfied: preshed<3.1.0,>=3.0.2 in /opt/conda/lib/python3.7/site-packages (from spacy<4->fastai<2.8,>=2.3.1->autogluon.tabular[all]==0.5.2->autogluon) (3.0.6)\r\n",
      "Requirement already satisfied: spacy-legacy<3.1.0,>=3.0.9 in /opt/conda/lib/python3.7/site-packages (from spacy<4->fastai<2.8,>=2.3.1->autogluon.tabular[all]==0.5.2->autogluon) (3.0.9)\r\n",
      "Requirement already satisfied: pathy>=0.3.5 in /opt/conda/lib/python3.7/site-packages (from spacy<4->fastai<2.8,>=2.3.1->autogluon.tabular[all]==0.5.2->autogluon) (0.6.2)\r\n",
      "Requirement already satisfied: srsly<3.0.0,>=2.4.3 in /opt/conda/lib/python3.7/site-packages (from spacy<4->fastai<2.8,>=2.3.1->autogluon.tabular[all]==0.5.2->autogluon) (2.4.3)\r\n",
      "Requirement already satisfied: cymem<2.1.0,>=2.0.2 in /opt/conda/lib/python3.7/site-packages (from spacy<4->fastai<2.8,>=2.3.1->autogluon.tabular[all]==0.5.2->autogluon) (2.0.6)\r\n",
      "Requirement already satisfied: typer<0.5.0,>=0.3.0 in /opt/conda/lib/python3.7/site-packages (from spacy<4->fastai<2.8,>=2.3.1->autogluon.tabular[all]==0.5.2->autogluon) (0.4.2)\r\n",
      "Requirement already satisfied: thinc<8.1.0,>=8.0.14 in /opt/conda/lib/python3.7/site-packages (from spacy<4->fastai<2.8,>=2.3.1->autogluon.tabular[all]==0.5.2->autogluon) (8.0.17)\r\n",
      "Requirement already satisfied: wasabi<1.1.0,>=0.9.1 in /opt/conda/lib/python3.7/site-packages (from spacy<4->fastai<2.8,>=2.3.1->autogluon.tabular[all]==0.5.2->autogluon) (0.9.1)\r\n",
      "Requirement already satisfied: spacy-loggers<2.0.0,>=1.0.0 in /opt/conda/lib/python3.7/site-packages (from spacy<4->fastai<2.8,>=2.3.1->autogluon.tabular[all]==0.5.2->autogluon) (1.0.3)\r\n",
      "Requirement already satisfied: patsy>=0.5.2 in /opt/conda/lib/python3.7/site-packages (from statsmodels!=0.12.0,>=0.11->pmdarima~=1.8.2->autogluon.timeseries[all]==0.5.2->autogluon) (0.5.2)\r\n",
      "Requirement already satisfied: werkzeug>=0.11.15 in /opt/conda/lib/python3.7/site-packages (from tensorboard>=2.2.0->pytorch-lightning<1.7.0,>=1.6.0->autogluon.multimodal==0.5.2->autogluon) (2.1.2)\r\n",
      "Requirement already satisfied: google-auth-oauthlib<0.5,>=0.4.1 in /opt/conda/lib/python3.7/site-packages (from tensorboard>=2.2.0->pytorch-lightning<1.7.0,>=1.6.0->autogluon.multimodal==0.5.2->autogluon) (0.4.6)\r\n",
      "Requirement already satisfied: markdown>=2.6.8 in /opt/conda/lib/python3.7/site-packages (from tensorboard>=2.2.0->pytorch-lightning<1.7.0,>=1.6.0->autogluon.multimodal==0.5.2->autogluon) (3.3.7)\r\n",
      "Requirement already satisfied: google-auth<2,>=1.6.3 in /opt/conda/lib/python3.7/site-packages (from tensorboard>=2.2.0->pytorch-lightning<1.7.0,>=1.6.0->autogluon.multimodal==0.5.2->autogluon) (1.35.0)\r\n",
      "Requirement already satisfied: tensorboard-plugin-wit>=1.6.0 in /opt/conda/lib/python3.7/site-packages (from tensorboard>=2.2.0->pytorch-lightning<1.7.0,>=1.6.0->autogluon.multimodal==0.5.2->autogluon) (1.8.1)\r\n",
      "Requirement already satisfied: tensorboard-data-server<0.7.0,>=0.6.0 in /opt/conda/lib/python3.7/site-packages (from tensorboard>=2.2.0->pytorch-lightning<1.7.0,>=1.6.0->autogluon.multimodal==0.5.2->autogluon) (0.6.1)\r\n",
      "Requirement already satisfied: absl-py>=0.4 in /opt/conda/lib/python3.7/site-packages (from tensorboard>=2.2.0->pytorch-lightning<1.7.0,>=1.6.0->autogluon.multimodal==0.5.2->autogluon) (1.1.0)\r\n",
      "Requirement already satisfied: heapdict in /opt/conda/lib/python3.7/site-packages (from zict>=0.1.3->distributed<=2021.11.2,>=2021.09.1->autogluon.core[all]==0.5.2->autogluon) (1.0.1)\r\n",
      "Collecting immutables>=0.9\r\n",
      "  Downloading immutables-0.18-cp37-cp37m-manylinux_2_5_x86_64.manylinux1_x86_64.manylinux_2_17_x86_64.manylinux2014_x86_64.whl (116 kB)\r\n",
      "\u001b[2K     \u001b[90m━━━━━━━━━━━━━━━━━━━━━━━━━━━━━━━━━━━━━\u001b[0m \u001b[32m116.5/116.5 kB\u001b[0m \u001b[31m183.3 MB/s\u001b[0m eta \u001b[36m0:00:00\u001b[0m\r\n",
      "\u001b[?25hRequirement already satisfied: pyflakes<2.5.0,>=2.4.0 in /opt/conda/lib/python3.7/site-packages (from flake8->autogluon-contrib-nlp==0.0.1b20220208->autogluon.text==0.5.2->autogluon) (2.4.0)\r\n",
      "Collecting importlib-metadata\r\n",
      "  Downloading importlib_metadata-4.2.0-py3-none-any.whl (16 kB)\r\n",
      "Requirement already satisfied: mccabe<0.7.0,>=0.6.0 in /opt/conda/lib/python3.7/site-packages (from flake8->autogluon-contrib-nlp==0.0.1b20220208->autogluon.text==0.5.2->autogluon) (0.6.1)\r\n",
      "Requirement already satisfied: pycodestyle<2.9.0,>=2.8.0 in /opt/conda/lib/python3.7/site-packages (from flake8->autogluon-contrib-nlp==0.0.1b20220208->autogluon.text==0.5.2->autogluon) (2.8.0)\r\n",
      "Requirement already satisfied: zipp>=0.5 in /opt/conda/lib/python3.7/site-packages (from importlib-metadata->transformers<4.21.0,>=4.18.0->autogluon.multimodal==0.5.2->autogluon) (3.8.0)\r\n",
      "Requirement already satisfied: MarkupSafe>=2.0 in /opt/conda/lib/python3.7/site-packages (from jinja2->distributed<=2021.11.2,>=2021.09.1->autogluon.core[all]==0.5.2->autogluon) (2.0.1)\r\n",
      "Requirement already satisfied: importlib-resources>=1.4.0 in /opt/conda/lib/python3.7/site-packages (from jsonschema->ray<1.14,>=1.13->autogluon.core[all]==0.5.2->autogluon) (5.8.0)\r\n",
      "Requirement already satisfied: pyrsistent!=0.17.0,!=0.17.1,!=0.17.2,>=0.14.0 in /opt/conda/lib/python3.7/site-packages (from jsonschema->ray<1.14,>=1.13->autogluon.core[all]==0.5.2->autogluon) (0.18.1)\r\n",
      "Requirement already satisfied: tenacity>=6.2.0 in /opt/conda/lib/python3.7/site-packages (from plotly->catboost<1.1,>=1.0->autogluon.tabular[all]==0.5.2->autogluon) (8.0.1)\r\n",
      "Requirement already satisfied: colorama in /opt/conda/lib/python3.7/site-packages (from sacrebleu->autogluon-contrib-nlp==0.0.1b20220208->autogluon.text==0.5.2->autogluon) (0.4.5)\r\n",
      "Requirement already satisfied: lxml in /opt/conda/lib/python3.7/site-packages (from sacrebleu->autogluon-contrib-nlp==0.0.1b20220208->autogluon.text==0.5.2->autogluon) (4.9.1)\r\n",
      "Requirement already satisfied: distlib<1,>=0.3.1 in /opt/conda/lib/python3.7/site-packages (from virtualenv->ray<1.14,>=1.13->autogluon.core[all]==0.5.2->autogluon) (0.3.5)\r\n",
      "Requirement already satisfied: platformdirs<3,>=2 in /opt/conda/lib/python3.7/site-packages (from virtualenv->ray<1.14,>=1.13->autogluon.core[all]==0.5.2->autogluon) (2.5.1)\r\n",
      "Requirement already satisfied: pymeeus<=1,>=0.3.13 in /opt/conda/lib/python3.7/site-packages (from convertdate>=2.3.0->holidays>=0.9->gluonts<0.10.0,>=0.8.0->autogluon.timeseries[all]==0.5.2->autogluon) (0.5.11)\r\n",
      "Requirement already satisfied: rsa<5,>=3.1.4 in /opt/conda/lib/python3.7/site-packages (from google-auth<2,>=1.6.3->tensorboard>=2.2.0->pytorch-lightning<1.7.0,>=1.6.0->autogluon.multimodal==0.5.2->autogluon) (4.8)\r\n",
      "Requirement already satisfied: cachetools<5.0,>=2.0.0 in /opt/conda/lib/python3.7/site-packages (from google-auth<2,>=1.6.3->tensorboard>=2.2.0->pytorch-lightning<1.7.0,>=1.6.0->autogluon.multimodal==0.5.2->autogluon) (4.2.4)\r\n",
      "Requirement already satisfied: pyasn1-modules>=0.2.1 in /opt/conda/lib/python3.7/site-packages (from google-auth<2,>=1.6.3->tensorboard>=2.2.0->pytorch-lightning<1.7.0,>=1.6.0->autogluon.multimodal==0.5.2->autogluon) (0.2.7)\r\n",
      "Requirement already satisfied: requests-oauthlib>=0.7.0 in /opt/conda/lib/python3.7/site-packages (from google-auth-oauthlib<0.5,>=0.4.1->tensorboard>=2.2.0->pytorch-lightning<1.7.0,>=1.6.0->autogluon.multimodal==0.5.2->autogluon) (1.3.1)\r\n",
      "Collecting markdown>=2.6.8\r\n",
      "  Downloading Markdown-3.4.1-py3-none-any.whl (93 kB)\r\n",
      "\u001b[2K     \u001b[90m━━━━━━━━━━━━━━━━━━━━━━━━━━━━━━━━━━━━━━━━\u001b[0m \u001b[32m93.3/93.3 kB\u001b[0m \u001b[31m62.3 MB/s\u001b[0m eta \u001b[36m0:00:00\u001b[0m\r\n",
      "\u001b[?25h  Downloading Markdown-3.4-py3-none-any.whl (93 kB)\r\n",
      "\u001b[2K     \u001b[90m━━━━━━━━━━━━━━━━━━━━━━━━━━━━━━━━━━━━━━━\u001b[0m \u001b[32m93.3/93.3 kB\u001b[0m \u001b[31m126.0 MB/s\u001b[0m eta \u001b[36m0:00:00\u001b[0m\r\n",
      "\u001b[?25h  Downloading Markdown-3.3.6-py3-none-any.whl (97 kB)\r\n",
      "\u001b[2K     \u001b[90m━━━━━━━━━━━━━━━━━━━━━━━━━━━━━━━━━━━━━━━\u001b[0m \u001b[32m97.8/97.8 kB\u001b[0m \u001b[31m132.5 MB/s\u001b[0m eta \u001b[36m0:00:00\u001b[0m\r\n",
      "\u001b[?25h  Downloading Markdown-3.3.4-py3-none-any.whl (97 kB)\r\n",
      "\u001b[2K     \u001b[90m━━━━━━━━━━━━━━━━━━━━━━━━━━━━━━━━━━━━━━━\u001b[0m \u001b[32m97.6/97.6 kB\u001b[0m \u001b[31m121.0 MB/s\u001b[0m eta \u001b[36m0:00:00\u001b[0m\r\n",
      "\u001b[?25hRequirement already satisfied: yarl<2.0,>=1.0 in /opt/conda/lib/python3.7/site-packages (from aiohttp->fsspec>=0.6.0->dask<=2021.11.2,>=2021.09.1->autogluon.core[all]==0.5.2->autogluon) (1.7.2)\r\n",
      "Requirement already satisfied: async-timeout<5.0,>=4.0.0a3 in /opt/conda/lib/python3.7/site-packages (from aiohttp->fsspec>=0.6.0->dask<=2021.11.2,>=2021.09.1->autogluon.core[all]==0.5.2->autogluon) (4.0.2)\r\n",
      "Requirement already satisfied: asynctest==0.13.0 in /opt/conda/lib/python3.7/site-packages (from aiohttp->fsspec>=0.6.0->dask<=2021.11.2,>=2021.09.1->autogluon.core[all]==0.5.2->autogluon) (0.13.0)\r\n",
      "Requirement already satisfied: multidict<7.0,>=4.5 in /opt/conda/lib/python3.7/site-packages (from aiohttp->fsspec>=0.6.0->dask<=2021.11.2,>=2021.09.1->autogluon.core[all]==0.5.2->autogluon) (6.0.2)\r\n",
      "Requirement already satisfied: pyasn1<0.5.0,>=0.4.6 in /opt/conda/lib/python3.7/site-packages (from pyasn1-modules>=0.2.1->google-auth<2,>=1.6.3->tensorboard>=2.2.0->pytorch-lightning<1.7.0,>=1.6.0->autogluon.multimodal==0.5.2->autogluon) (0.4.8)\r\n",
      "Requirement already satisfied: oauthlib>=3.0.0 in /opt/conda/lib/python3.7/site-packages (from requests-oauthlib>=0.7.0->google-auth-oauthlib<0.5,>=0.4.1->tensorboard>=2.2.0->pytorch-lightning<1.7.0,>=1.6.0->autogluon.multimodal==0.5.2->autogluon) (3.2.0)\r\n",
      "Building wheels for collected packages: antlr4-python3-runtime, contextvars\r\n",
      "  Building wheel for antlr4-python3-runtime (setup.py) ... \u001b[?25l-\b \b\\\b \b|\b \b/\b \b-\b \bdone\r\n",
      "\u001b[?25h  Created wheel for antlr4-python3-runtime: filename=antlr4_python3_runtime-4.8-py3-none-any.whl size=141210 sha256=86f9457fec2312d25ca60c2690f5d1d309a0d1e8af1f267341f1a7962111c053\r\n",
      "  Stored in directory: /tmp/pip-ephem-wheel-cache-dk2v4ii8/wheels/ca/33/b7/336836125fc9bb4ceaa4376d8abca10ca8bc84ddc824baea6c\r\n",
      "  Building wheel for contextvars (setup.py) ... \u001b[?25l-\b \b\\\b \b|\b \b/\b \bdone\r\n",
      "\u001b[?25h  Created wheel for contextvars: filename=contextvars-2.4-py3-none-any.whl size=7664 sha256=4c70db52ff7c60fa1b559edea2cfe9cf6e3eb2c9c9dd1fc6d3678e70fe4ecf76\r\n",
      "  Stored in directory: /tmp/pip-ephem-wheel-cache-dk2v4ii8/wheels/0a/11/79/e70e668095c0bb1f94718af672ef2d35ee7a023fee56ef54d9\r\n",
      "Successfully built antlr4-python3-runtime contextvars\r\n",
      "Installing collected packages: typish, sentencepiece, antlr4-python3-runtime, sacrebleu, psutil, protobuf, Pillow, omegaconf, nptyping, importlib-metadata, immutables, deprecated, xgboost, torchmetrics, markdown, dask, contextvars, timm, pytorch-metric-learning, nlpaug, gluonts, distributed, sktime, pmdarima, autogluon-contrib-nlp, tbats, autogluon.common, autogluon.features, autogluon.core, autogluon.vision, autogluon.timeseries, autogluon.tabular, autogluon.multimodal, autogluon.text, autogluon\r\n",
      "  Attempting uninstall: sentencepiece\r\n",
      "    Found existing installation: sentencepiece 0.1.96\r\n",
      "    Uninstalling sentencepiece-0.1.96:\r\n",
      "      Successfully uninstalled sentencepiece-0.1.96\r\n",
      "  Attempting uninstall: psutil\r\n",
      "    Found existing installation: psutil 5.9.1\r\n",
      "    Uninstalling psutil-5.9.1:\r\n",
      "      Successfully uninstalled psutil-5.9.1\r\n",
      "  Attempting uninstall: protobuf\r\n",
      "    Found existing installation: protobuf 3.19.4\r\n",
      "    Uninstalling protobuf-3.19.4:\r\n",
      "      Successfully uninstalled protobuf-3.19.4\r\n",
      "  Attempting uninstall: Pillow\r\n",
      "    Found existing installation: Pillow 9.1.1\r\n",
      "    Uninstalling Pillow-9.1.1:\r\n",
      "      Successfully uninstalled Pillow-9.1.1\r\n",
      "  Attempting uninstall: importlib-metadata\r\n",
      "    Found existing installation: importlib-metadata 4.12.0\r\n",
      "    Uninstalling importlib-metadata-4.12.0:\r\n",
      "      Successfully uninstalled importlib-metadata-4.12.0\r\n",
      "  Attempting uninstall: xgboost\r\n",
      "    Found existing installation: xgboost 1.6.1\r\n",
      "    Uninstalling xgboost-1.6.1:\r\n",
      "      Successfully uninstalled xgboost-1.6.1\r\n",
      "  Attempting uninstall: torchmetrics\r\n",
      "    Found existing installation: torchmetrics 0.9.2\r\n",
      "    Uninstalling torchmetrics-0.9.2:\r\n",
      "      Successfully uninstalled torchmetrics-0.9.2\r\n",
      "  Attempting uninstall: markdown\r\n",
      "    Found existing installation: Markdown 3.3.7\r\n",
      "    Uninstalling Markdown-3.3.7:\r\n",
      "      Successfully uninstalled Markdown-3.3.7\r\n",
      "  Attempting uninstall: dask\r\n",
      "    Found existing installation: dask 2022.2.0\r\n",
      "    Uninstalling dask-2022.2.0:\r\n",
      "      Successfully uninstalled dask-2022.2.0\r\n",
      "  Attempting uninstall: distributed\r\n",
      "    Found existing installation: distributed 2022.2.0\r\n",
      "    Uninstalling distributed-2022.2.0:\r\n",
      "      Successfully uninstalled distributed-2022.2.0\r\n",
      "\u001b[31mERROR: pip's dependency resolver does not currently take into account all the packages that are installed. This behaviour is the source of the following dependency conflicts.\r\n",
      "tensorflow-io 0.21.0 requires tensorflow-io-gcs-filesystem==0.21.0, which is not installed.\r\n",
      "dask-cudf 21.10.1 requires cupy-cuda114, which is not installed.\r\n",
      "beatrix-jupyterlab 3.1.7 requires google-cloud-bigquery-storage, which is not installed.\r\n",
      "tfx-bsl 1.9.0 requires tensorflow!=2.0.*,!=2.1.*,!=2.2.*,!=2.3.*,!=2.4.*,!=2.5.*,!=2.6.*,!=2.7.*,!=2.8.*,<3,>=1.15.5, but you have tensorflow 2.6.4 which is incompatible.\r\n",
      "tensorflow 2.6.4 requires absl-py~=0.10, but you have absl-py 1.1.0 which is incompatible.\r\n",
      "tensorflow 2.6.4 requires h5py~=3.1.0, but you have h5py 3.7.0 which is incompatible.\r\n",
      "tensorflow 2.6.4 requires numpy~=1.19.2, but you have numpy 1.21.6 which is incompatible.\r\n",
      "tensorflow 2.6.4 requires six~=1.15.0, but you have six 1.16.0 which is incompatible.\r\n",
      "tensorflow 2.6.4 requires typing-extensions<3.11,>=3.7, but you have typing-extensions 4.1.1 which is incompatible.\r\n",
      "tensorflow 2.6.4 requires wrapt~=1.12.1, but you have wrapt 1.14.1 which is incompatible.\r\n",
      "tensorflow-transform 1.9.0 requires tensorflow!=2.0.*,!=2.1.*,!=2.2.*,!=2.3.*,!=2.4.*,!=2.5.*,!=2.6.*,!=2.7.*,!=2.8.*,<2.10,>=1.15.5, but you have tensorflow 2.6.4 which is incompatible.\r\n",
      "tensorflow-serving-api 2.9.0 requires tensorflow<3,>=2.9.0, but you have tensorflow 2.6.4 which is incompatible.\r\n",
      "proto-plus 1.20.6 requires protobuf<5.0.0dev,>=3.19.0, but you have protobuf 3.18.1 which is incompatible.\r\n",
      "pdpbox 0.2.1 requires matplotlib==3.1.1, but you have matplotlib 3.5.2 which is incompatible.\r\n",
      "panel 0.13.1 requires bokeh<2.5.0,>=2.4.0, but you have bokeh 2.0.1 which is incompatible.\r\n",
      "ortools 9.3.10497 requires protobuf>=3.19.4, but you have protobuf 3.18.1 which is incompatible.\r\n",
      "gym 0.25.0 requires importlib-metadata>=4.8.0; python_version < \"3.10\", but you have importlib-metadata 4.2.0 which is incompatible.\r\n",
      "grpcio-status 1.47.0 requires grpcio>=1.47.0, but you have grpcio 1.43.0 which is incompatible.\r\n",
      "google-cloud-vision 2.7.3 requires protobuf<4.0.0dev,>=3.19.0, but you have protobuf 3.18.1 which is incompatible.\r\n",
      "google-cloud-videointelligence 2.7.1 requires protobuf<4.0.0dev,>=3.19.0, but you have protobuf 3.18.1 which is incompatible.\r\n",
      "google-cloud-translate 3.7.4 requires protobuf<4.0.0dev,>=3.19.0, but you have protobuf 3.18.1 which is incompatible.\r\n",
      "google-cloud-tasks 2.9.1 requires protobuf<4.0.0dev,>=3.19.0, but you have protobuf 3.18.1 which is incompatible.\r\n",
      "google-cloud-speech 2.14.1 requires protobuf<4.0.0dev,>=3.19.0, but you have protobuf 3.18.1 which is incompatible.\r\n",
      "google-cloud-spanner 3.15.1 requires protobuf<4.0.0dev,>=3.19.0, but you have protobuf 3.18.1 which is incompatible.\r\n",
      "google-cloud-scheduler 2.6.4 requires protobuf<4.0.0dev,>=3.19.0, but you have protobuf 3.18.1 which is incompatible.\r\n",
      "google-cloud-resource-manager 1.5.1 requires protobuf<4.0.0dev,>=3.19.0, but you have protobuf 3.18.1 which is incompatible.\r\n",
      "google-cloud-pubsub 2.13.0 requires protobuf<4.0.0dev,>=3.19.0, but you have protobuf 3.18.1 which is incompatible.\r\n",
      "google-cloud-monitoring 2.9.2 requires protobuf<4.0.0dev,>=3.19.0, but you have protobuf 3.18.1 which is incompatible.\r\n",
      "google-cloud-logging 3.1.2 requires protobuf<4.0.0dev,>=3.19.0, but you have protobuf 3.18.1 which is incompatible.\r\n",
      "google-cloud-language 2.4.3 requires protobuf<4.0.0dev,>=3.19.0, but you have protobuf 3.18.1 which is incompatible.\r\n",
      "google-cloud-kms 2.11.2 requires protobuf<4.0.0dev,>=3.19.0, but you have protobuf 3.18.1 which is incompatible.\r\n",
      "google-cloud-firestore 2.5.3 requires protobuf<4.0.0dev,>=3.19.0, but you have protobuf 3.18.1 which is incompatible.\r\n",
      "google-cloud-dlp 3.7.1 requires protobuf<4.0.0dev,>=3.19.0, but you have protobuf 3.18.1 which is incompatible.\r\n",
      "google-cloud-datastore 2.7.1 requires protobuf<4.0.0dev,>=3.19.0, but you have protobuf 3.18.1 which is incompatible.\r\n",
      "google-cloud-dataproc 4.0.3 requires protobuf<4.0.0dev,>=3.19.0, but you have protobuf 3.18.1 which is incompatible.\r\n",
      "google-cloud-bigtable 2.10.1 requires protobuf<4.0.0dev,>=3.19.0, but you have protobuf 3.18.1 which is incompatible.\r\n",
      "google-cloud-appengine-logging 1.1.2 requires protobuf<4.0.0dev,>=3.19.0, but you have protobuf 3.18.1 which is incompatible.\r\n",
      "geoviews 1.9.5 requires bokeh<2.5,>=2.4.0, but you have bokeh 2.0.1 which is incompatible.\r\n",
      "flax 0.5.2 requires rich~=11.1, but you have rich 12.1.0 which is incompatible.\r\n",
      "dask-cudf 21.10.1 requires dask==2021.09.1, but you have dask 2021.11.2 which is incompatible.\r\n",
      "dask-cudf 21.10.1 requires distributed==2021.09.1, but you have distributed 2021.11.2 which is incompatible.\r\n",
      "apache-beam 2.40.0 requires dill<0.3.2,>=0.3.1.1, but you have dill 0.3.5.1 which is incompatible.\r\n",
      "allennlp 2.10.0 requires protobuf==3.20.0, but you have protobuf 3.18.1 which is incompatible.\r\n",
      "allennlp 2.10.0 requires sentencepiece>=0.1.96, but you have sentencepiece 0.1.95 which is incompatible.\u001b[0m\u001b[31m\r\n",
      "\u001b[0mSuccessfully installed Pillow-9.0.1 antlr4-python3-runtime-4.8 autogluon-0.5.2 autogluon-contrib-nlp-0.0.1b20220208 autogluon.common-0.5.2 autogluon.core-0.5.2 autogluon.features-0.5.2 autogluon.multimodal-0.5.2 autogluon.tabular-0.5.2 autogluon.text-0.5.2 autogluon.timeseries-0.5.2 autogluon.vision-0.5.2 contextvars-2.4 dask-2021.11.2 deprecated-1.2.13 distributed-2021.11.2 gluonts-0.9.6 immutables-0.18 importlib-metadata-4.2.0 markdown-3.3.4 nlpaug-1.1.10 nptyping-1.4.4 omegaconf-2.1.2 pmdarima-1.8.5 protobuf-3.18.1 psutil-5.8.0 pytorch-metric-learning-1.3.2 sacrebleu-2.2.0 sentencepiece-0.1.95 sktime-0.11.4 tbats-1.1.0 timm-0.5.4 torchmetrics-0.7.3 typish-1.9.3 xgboost-1.4.2\r\n",
      "\u001b[33mWARNING: Running pip as the 'root' user can result in broken permissions and conflicting behaviour with the system package manager. It is recommended to use a virtual environment instead: https://pip.pypa.io/warnings/venv\u001b[0m\u001b[33m\r\n",
      "\u001b[0m"
     ]
    }
   ],
   "source": [
    "!pip install -U pip\n",
    "!pip install -U setuptools wheel\n",
    "!pip install -U \"mxnet<2.0.0\" bokeh==2.0.1\n",
    "!pip install autogluon --no-cache-dir\n",
    "# Without --no-cache-dir, smaller aws instances may have trouble installing"
   ]
  },
  {
   "cell_type": "markdown",
   "id": "c8a618ba",
   "metadata": {
    "papermill": {
     "duration": 0.041756,
     "end_time": "2022-08-01T09:50:32.424915",
     "exception": false,
     "start_time": "2022-08-01T09:50:32.383159",
     "status": "completed"
    },
    "tags": []
   },
   "source": [
    "### Setup Kaggle API Key"
   ]
  },
  {
   "cell_type": "code",
   "execution_count": 3,
   "id": "c64d5307",
   "metadata": {
    "execution": {
     "iopub.execute_input": "2022-08-01T09:50:32.523203Z",
     "iopub.status.busy": "2022-08-01T09:50:32.522762Z",
     "iopub.status.idle": "2022-08-01T09:50:34.806869Z",
     "shell.execute_reply": "2022-08-01T09:50:34.805635Z"
    },
    "papermill": {
     "duration": 2.342216,
     "end_time": "2022-08-01T09:50:34.809418",
     "exception": false,
     "start_time": "2022-08-01T09:50:32.467202",
     "status": "completed"
    },
    "tags": []
   },
   "outputs": [],
   "source": [
    " #create the .kaggle directory and an empty kaggle.json file\n",
    "!mkdir -p /root/.kaggle\n",
    "!touch /root/.kaggle/kaggle.json\n",
    "!chmod 600 /root/.kaggle/kaggle.json"
   ]
  },
  {
   "cell_type": "code",
   "execution_count": 4,
   "id": "7cbb7cd1",
   "metadata": {
    "execution": {
     "iopub.execute_input": "2022-08-01T09:50:34.896147Z",
     "iopub.status.busy": "2022-08-01T09:50:34.895801Z",
     "iopub.status.idle": "2022-08-01T09:50:34.902034Z",
     "shell.execute_reply": "2022-08-01T09:50:34.901074Z"
    },
    "papermill": {
     "duration": 0.051663,
     "end_time": "2022-08-01T09:50:34.904227",
     "exception": false,
     "start_time": "2022-08-01T09:50:34.852564",
     "status": "completed"
    },
    "tags": []
   },
   "outputs": [],
   "source": [
    "# Fill in your user name and key from creating the kaggle account and API token file\n",
    "import json\n",
    "kaggle_username = \"FILL_IN_USERNAME\"\n",
    "kaggle_key = \"FILL_IN_KEY\"\n",
    "\n",
    "# Save API token the kaggle.json file\n",
    "with open(\"/root/.kaggle/kaggle.json\", \"w\") as f:\n",
    "    f.write(json.dumps({\"username\":'mohamedfathi07', \"key\": 'e51bf93d22a7a2d02e705e08649c8ef0'}))"
   ]
  },
  {
   "cell_type": "markdown",
   "id": "43c5bfb7",
   "metadata": {
    "papermill": {
     "duration": 0.042128,
     "end_time": "2022-08-01T09:50:34.988866",
     "exception": false,
     "start_time": "2022-08-01T09:50:34.946738",
     "status": "completed"
    },
    "tags": []
   },
   "source": [
    "### Download and explore dataset"
   ]
  },
  {
   "cell_type": "code",
   "execution_count": 5,
   "id": "cf63b8ff",
   "metadata": {
    "execution": {
     "iopub.execute_input": "2022-08-01T09:50:35.077158Z",
     "iopub.status.busy": "2022-08-01T09:50:35.076492Z",
     "iopub.status.idle": "2022-08-01T09:50:35.080822Z",
     "shell.execute_reply": "2022-08-01T09:50:35.079918Z"
    },
    "papermill": {
     "duration": 0.051917,
     "end_time": "2022-08-01T09:50:35.082991",
     "exception": false,
     "start_time": "2022-08-01T09:50:35.031074",
     "status": "completed"
    },
    "tags": []
   },
   "outputs": [],
   "source": [
    "# # Download the dataset, it will be in a .zip file so you'll need to unzip it as well.\n",
    "# !kaggle competitions download -c bike-sharing-demand\n",
    "# # If you already downloaded it you can use the -o command to overwrite the file\n",
    "# !unzip -o bike-sharing-demand.zip"
   ]
  },
  {
   "cell_type": "code",
   "execution_count": 6,
   "id": "31e65076",
   "metadata": {
    "execution": {
     "iopub.execute_input": "2022-08-01T09:50:35.174486Z",
     "iopub.status.busy": "2022-08-01T09:50:35.173968Z",
     "iopub.status.idle": "2022-08-01T09:50:36.820977Z",
     "shell.execute_reply": "2022-08-01T09:50:36.819848Z"
    },
    "papermill": {
     "duration": 1.695188,
     "end_time": "2022-08-01T09:50:36.823749",
     "exception": false,
     "start_time": "2022-08-01T09:50:35.128561",
     "status": "completed"
    },
    "tags": []
   },
   "outputs": [],
   "source": [
    "import numpy as np\n",
    "import pandas as pd\n",
    "from autogluon.tabular import TabularPredictor"
   ]
  },
  {
   "cell_type": "code",
   "execution_count": 7,
   "id": "01028430",
   "metadata": {
    "execution": {
     "iopub.execute_input": "2022-08-01T09:50:36.915231Z",
     "iopub.status.busy": "2022-08-01T09:50:36.913544Z",
     "iopub.status.idle": "2022-08-01T09:50:36.968854Z",
     "shell.execute_reply": "2022-08-01T09:50:36.967821Z"
    },
    "papermill": {
     "duration": 0.102794,
     "end_time": "2022-08-01T09:50:36.971845",
     "exception": false,
     "start_time": "2022-08-01T09:50:36.869051",
     "status": "completed"
    },
    "tags": []
   },
   "outputs": [
    {
     "data": {
      "text/html": [
       "<div>\n",
       "<style scoped>\n",
       "    .dataframe tbody tr th:only-of-type {\n",
       "        vertical-align: middle;\n",
       "    }\n",
       "\n",
       "    .dataframe tbody tr th {\n",
       "        vertical-align: top;\n",
       "    }\n",
       "\n",
       "    .dataframe thead th {\n",
       "        text-align: right;\n",
       "    }\n",
       "</style>\n",
       "<table border=\"1\" class=\"dataframe\">\n",
       "  <thead>\n",
       "    <tr style=\"text-align: right;\">\n",
       "      <th></th>\n",
       "      <th>datetime</th>\n",
       "      <th>season</th>\n",
       "      <th>holiday</th>\n",
       "      <th>workingday</th>\n",
       "      <th>weather</th>\n",
       "      <th>temp</th>\n",
       "      <th>atemp</th>\n",
       "      <th>humidity</th>\n",
       "      <th>windspeed</th>\n",
       "      <th>casual</th>\n",
       "      <th>registered</th>\n",
       "      <th>count</th>\n",
       "    </tr>\n",
       "  </thead>\n",
       "  <tbody>\n",
       "    <tr>\n",
       "      <th>0</th>\n",
       "      <td>2011-01-01 00:00:00</td>\n",
       "      <td>1</td>\n",
       "      <td>0</td>\n",
       "      <td>0</td>\n",
       "      <td>1</td>\n",
       "      <td>9.84</td>\n",
       "      <td>14.395</td>\n",
       "      <td>81</td>\n",
       "      <td>0.0</td>\n",
       "      <td>3</td>\n",
       "      <td>13</td>\n",
       "      <td>16</td>\n",
       "    </tr>\n",
       "    <tr>\n",
       "      <th>1</th>\n",
       "      <td>2011-01-01 01:00:00</td>\n",
       "      <td>1</td>\n",
       "      <td>0</td>\n",
       "      <td>0</td>\n",
       "      <td>1</td>\n",
       "      <td>9.02</td>\n",
       "      <td>13.635</td>\n",
       "      <td>80</td>\n",
       "      <td>0.0</td>\n",
       "      <td>8</td>\n",
       "      <td>32</td>\n",
       "      <td>40</td>\n",
       "    </tr>\n",
       "    <tr>\n",
       "      <th>2</th>\n",
       "      <td>2011-01-01 02:00:00</td>\n",
       "      <td>1</td>\n",
       "      <td>0</td>\n",
       "      <td>0</td>\n",
       "      <td>1</td>\n",
       "      <td>9.02</td>\n",
       "      <td>13.635</td>\n",
       "      <td>80</td>\n",
       "      <td>0.0</td>\n",
       "      <td>5</td>\n",
       "      <td>27</td>\n",
       "      <td>32</td>\n",
       "    </tr>\n",
       "    <tr>\n",
       "      <th>3</th>\n",
       "      <td>2011-01-01 03:00:00</td>\n",
       "      <td>1</td>\n",
       "      <td>0</td>\n",
       "      <td>0</td>\n",
       "      <td>1</td>\n",
       "      <td>9.84</td>\n",
       "      <td>14.395</td>\n",
       "      <td>75</td>\n",
       "      <td>0.0</td>\n",
       "      <td>3</td>\n",
       "      <td>10</td>\n",
       "      <td>13</td>\n",
       "    </tr>\n",
       "    <tr>\n",
       "      <th>4</th>\n",
       "      <td>2011-01-01 04:00:00</td>\n",
       "      <td>1</td>\n",
       "      <td>0</td>\n",
       "      <td>0</td>\n",
       "      <td>1</td>\n",
       "      <td>9.84</td>\n",
       "      <td>14.395</td>\n",
       "      <td>75</td>\n",
       "      <td>0.0</td>\n",
       "      <td>0</td>\n",
       "      <td>1</td>\n",
       "      <td>1</td>\n",
       "    </tr>\n",
       "  </tbody>\n",
       "</table>\n",
       "</div>"
      ],
      "text/plain": [
       "              datetime  season  holiday  workingday  weather  temp   atemp  \\\n",
       "0  2011-01-01 00:00:00       1        0           0        1  9.84  14.395   \n",
       "1  2011-01-01 01:00:00       1        0           0        1  9.02  13.635   \n",
       "2  2011-01-01 02:00:00       1        0           0        1  9.02  13.635   \n",
       "3  2011-01-01 03:00:00       1        0           0        1  9.84  14.395   \n",
       "4  2011-01-01 04:00:00       1        0           0        1  9.84  14.395   \n",
       "\n",
       "   humidity  windspeed  casual  registered  count  \n",
       "0        81        0.0       3          13     16  \n",
       "1        80        0.0       8          32     40  \n",
       "2        80        0.0       5          27     32  \n",
       "3        75        0.0       3          10     13  \n",
       "4        75        0.0       0           1      1  "
      ]
     },
     "execution_count": 7,
     "metadata": {},
     "output_type": "execute_result"
    }
   ],
   "source": [
    "# Create the train dataset in pandas by reading the csv\n",
    "# Set the parsing of the datetime column so you can use some of the `dt` features in pandas later\n",
    "train = pd.read_csv('/kaggle/input/bike-sharing-demand/train.csv')\n",
    "train.head()"
   ]
  },
  {
   "cell_type": "code",
   "execution_count": 8,
   "id": "da3ae3df",
   "metadata": {
    "execution": {
     "iopub.execute_input": "2022-08-01T09:50:37.062295Z",
     "iopub.status.busy": "2022-08-01T09:50:37.061936Z",
     "iopub.status.idle": "2022-08-01T09:50:37.143960Z",
     "shell.execute_reply": "2022-08-01T09:50:37.142872Z"
    },
    "papermill": {
     "duration": 0.131636,
     "end_time": "2022-08-01T09:50:37.146700",
     "exception": false,
     "start_time": "2022-08-01T09:50:37.015064",
     "status": "completed"
    },
    "tags": []
   },
   "outputs": [
    {
     "data": {
      "text/html": [
       "<div>\n",
       "<style scoped>\n",
       "    .dataframe tbody tr th:only-of-type {\n",
       "        vertical-align: middle;\n",
       "    }\n",
       "\n",
       "    .dataframe tbody tr th {\n",
       "        vertical-align: top;\n",
       "    }\n",
       "\n",
       "    .dataframe thead th {\n",
       "        text-align: right;\n",
       "    }\n",
       "</style>\n",
       "<table border=\"1\" class=\"dataframe\">\n",
       "  <thead>\n",
       "    <tr style=\"text-align: right;\">\n",
       "      <th></th>\n",
       "      <th>season</th>\n",
       "      <th>holiday</th>\n",
       "      <th>workingday</th>\n",
       "      <th>weather</th>\n",
       "      <th>temp</th>\n",
       "      <th>atemp</th>\n",
       "      <th>humidity</th>\n",
       "      <th>windspeed</th>\n",
       "      <th>casual</th>\n",
       "      <th>registered</th>\n",
       "      <th>count</th>\n",
       "    </tr>\n",
       "  </thead>\n",
       "  <tbody>\n",
       "    <tr>\n",
       "      <th>count</th>\n",
       "      <td>10886.000000</td>\n",
       "      <td>10886.000000</td>\n",
       "      <td>10886.000000</td>\n",
       "      <td>10886.000000</td>\n",
       "      <td>10886.00000</td>\n",
       "      <td>10886.000000</td>\n",
       "      <td>10886.000000</td>\n",
       "      <td>10886.000000</td>\n",
       "      <td>10886.000000</td>\n",
       "      <td>10886.000000</td>\n",
       "      <td>10886.000000</td>\n",
       "    </tr>\n",
       "    <tr>\n",
       "      <th>mean</th>\n",
       "      <td>2.506614</td>\n",
       "      <td>0.028569</td>\n",
       "      <td>0.680875</td>\n",
       "      <td>1.418427</td>\n",
       "      <td>20.23086</td>\n",
       "      <td>23.655084</td>\n",
       "      <td>61.886460</td>\n",
       "      <td>12.799395</td>\n",
       "      <td>36.021955</td>\n",
       "      <td>155.552177</td>\n",
       "      <td>191.574132</td>\n",
       "    </tr>\n",
       "    <tr>\n",
       "      <th>std</th>\n",
       "      <td>1.116174</td>\n",
       "      <td>0.166599</td>\n",
       "      <td>0.466159</td>\n",
       "      <td>0.633839</td>\n",
       "      <td>7.79159</td>\n",
       "      <td>8.474601</td>\n",
       "      <td>19.245033</td>\n",
       "      <td>8.164537</td>\n",
       "      <td>49.960477</td>\n",
       "      <td>151.039033</td>\n",
       "      <td>181.144454</td>\n",
       "    </tr>\n",
       "    <tr>\n",
       "      <th>min</th>\n",
       "      <td>1.000000</td>\n",
       "      <td>0.000000</td>\n",
       "      <td>0.000000</td>\n",
       "      <td>1.000000</td>\n",
       "      <td>0.82000</td>\n",
       "      <td>0.760000</td>\n",
       "      <td>0.000000</td>\n",
       "      <td>0.000000</td>\n",
       "      <td>0.000000</td>\n",
       "      <td>0.000000</td>\n",
       "      <td>1.000000</td>\n",
       "    </tr>\n",
       "    <tr>\n",
       "      <th>25%</th>\n",
       "      <td>2.000000</td>\n",
       "      <td>0.000000</td>\n",
       "      <td>0.000000</td>\n",
       "      <td>1.000000</td>\n",
       "      <td>13.94000</td>\n",
       "      <td>16.665000</td>\n",
       "      <td>47.000000</td>\n",
       "      <td>7.001500</td>\n",
       "      <td>4.000000</td>\n",
       "      <td>36.000000</td>\n",
       "      <td>42.000000</td>\n",
       "    </tr>\n",
       "    <tr>\n",
       "      <th>50%</th>\n",
       "      <td>3.000000</td>\n",
       "      <td>0.000000</td>\n",
       "      <td>1.000000</td>\n",
       "      <td>1.000000</td>\n",
       "      <td>20.50000</td>\n",
       "      <td>24.240000</td>\n",
       "      <td>62.000000</td>\n",
       "      <td>12.998000</td>\n",
       "      <td>17.000000</td>\n",
       "      <td>118.000000</td>\n",
       "      <td>145.000000</td>\n",
       "    </tr>\n",
       "    <tr>\n",
       "      <th>75%</th>\n",
       "      <td>4.000000</td>\n",
       "      <td>0.000000</td>\n",
       "      <td>1.000000</td>\n",
       "      <td>2.000000</td>\n",
       "      <td>26.24000</td>\n",
       "      <td>31.060000</td>\n",
       "      <td>77.000000</td>\n",
       "      <td>16.997900</td>\n",
       "      <td>49.000000</td>\n",
       "      <td>222.000000</td>\n",
       "      <td>284.000000</td>\n",
       "    </tr>\n",
       "    <tr>\n",
       "      <th>max</th>\n",
       "      <td>4.000000</td>\n",
       "      <td>1.000000</td>\n",
       "      <td>1.000000</td>\n",
       "      <td>4.000000</td>\n",
       "      <td>41.00000</td>\n",
       "      <td>45.455000</td>\n",
       "      <td>100.000000</td>\n",
       "      <td>56.996900</td>\n",
       "      <td>367.000000</td>\n",
       "      <td>886.000000</td>\n",
       "      <td>977.000000</td>\n",
       "    </tr>\n",
       "  </tbody>\n",
       "</table>\n",
       "</div>"
      ],
      "text/plain": [
       "             season       holiday    workingday       weather         temp  \\\n",
       "count  10886.000000  10886.000000  10886.000000  10886.000000  10886.00000   \n",
       "mean       2.506614      0.028569      0.680875      1.418427     20.23086   \n",
       "std        1.116174      0.166599      0.466159      0.633839      7.79159   \n",
       "min        1.000000      0.000000      0.000000      1.000000      0.82000   \n",
       "25%        2.000000      0.000000      0.000000      1.000000     13.94000   \n",
       "50%        3.000000      0.000000      1.000000      1.000000     20.50000   \n",
       "75%        4.000000      0.000000      1.000000      2.000000     26.24000   \n",
       "max        4.000000      1.000000      1.000000      4.000000     41.00000   \n",
       "\n",
       "              atemp      humidity     windspeed        casual    registered  \\\n",
       "count  10886.000000  10886.000000  10886.000000  10886.000000  10886.000000   \n",
       "mean      23.655084     61.886460     12.799395     36.021955    155.552177   \n",
       "std        8.474601     19.245033      8.164537     49.960477    151.039033   \n",
       "min        0.760000      0.000000      0.000000      0.000000      0.000000   \n",
       "25%       16.665000     47.000000      7.001500      4.000000     36.000000   \n",
       "50%       24.240000     62.000000     12.998000     17.000000    118.000000   \n",
       "75%       31.060000     77.000000     16.997900     49.000000    222.000000   \n",
       "max       45.455000    100.000000     56.996900    367.000000    886.000000   \n",
       "\n",
       "              count  \n",
       "count  10886.000000  \n",
       "mean     191.574132  \n",
       "std      181.144454  \n",
       "min        1.000000  \n",
       "25%       42.000000  \n",
       "50%      145.000000  \n",
       "75%      284.000000  \n",
       "max      977.000000  "
      ]
     },
     "execution_count": 8,
     "metadata": {},
     "output_type": "execute_result"
    }
   ],
   "source": [
    "# Simple output of the train dataset to view some of the min/max/varition of the dataset features.\n",
    "train.describe()"
   ]
  },
  {
   "cell_type": "code",
   "execution_count": 9,
   "id": "fb650b4e",
   "metadata": {
    "execution": {
     "iopub.execute_input": "2022-08-01T09:50:37.239736Z",
     "iopub.status.busy": "2022-08-01T09:50:37.239407Z",
     "iopub.status.idle": "2022-08-01T09:50:37.269174Z",
     "shell.execute_reply": "2022-08-01T09:50:37.268225Z"
    },
    "papermill": {
     "duration": 0.078825,
     "end_time": "2022-08-01T09:50:37.271496",
     "exception": false,
     "start_time": "2022-08-01T09:50:37.192671",
     "status": "completed"
    },
    "tags": []
   },
   "outputs": [
    {
     "data": {
      "text/html": [
       "<div>\n",
       "<style scoped>\n",
       "    .dataframe tbody tr th:only-of-type {\n",
       "        vertical-align: middle;\n",
       "    }\n",
       "\n",
       "    .dataframe tbody tr th {\n",
       "        vertical-align: top;\n",
       "    }\n",
       "\n",
       "    .dataframe thead th {\n",
       "        text-align: right;\n",
       "    }\n",
       "</style>\n",
       "<table border=\"1\" class=\"dataframe\">\n",
       "  <thead>\n",
       "    <tr style=\"text-align: right;\">\n",
       "      <th></th>\n",
       "      <th>datetime</th>\n",
       "      <th>season</th>\n",
       "      <th>holiday</th>\n",
       "      <th>workingday</th>\n",
       "      <th>weather</th>\n",
       "      <th>temp</th>\n",
       "      <th>atemp</th>\n",
       "      <th>humidity</th>\n",
       "      <th>windspeed</th>\n",
       "    </tr>\n",
       "  </thead>\n",
       "  <tbody>\n",
       "    <tr>\n",
       "      <th>0</th>\n",
       "      <td>2011-01-20 00:00:00</td>\n",
       "      <td>1</td>\n",
       "      <td>0</td>\n",
       "      <td>1</td>\n",
       "      <td>1</td>\n",
       "      <td>10.66</td>\n",
       "      <td>11.365</td>\n",
       "      <td>56</td>\n",
       "      <td>26.0027</td>\n",
       "    </tr>\n",
       "    <tr>\n",
       "      <th>1</th>\n",
       "      <td>2011-01-20 01:00:00</td>\n",
       "      <td>1</td>\n",
       "      <td>0</td>\n",
       "      <td>1</td>\n",
       "      <td>1</td>\n",
       "      <td>10.66</td>\n",
       "      <td>13.635</td>\n",
       "      <td>56</td>\n",
       "      <td>0.0000</td>\n",
       "    </tr>\n",
       "    <tr>\n",
       "      <th>2</th>\n",
       "      <td>2011-01-20 02:00:00</td>\n",
       "      <td>1</td>\n",
       "      <td>0</td>\n",
       "      <td>1</td>\n",
       "      <td>1</td>\n",
       "      <td>10.66</td>\n",
       "      <td>13.635</td>\n",
       "      <td>56</td>\n",
       "      <td>0.0000</td>\n",
       "    </tr>\n",
       "    <tr>\n",
       "      <th>3</th>\n",
       "      <td>2011-01-20 03:00:00</td>\n",
       "      <td>1</td>\n",
       "      <td>0</td>\n",
       "      <td>1</td>\n",
       "      <td>1</td>\n",
       "      <td>10.66</td>\n",
       "      <td>12.880</td>\n",
       "      <td>56</td>\n",
       "      <td>11.0014</td>\n",
       "    </tr>\n",
       "    <tr>\n",
       "      <th>4</th>\n",
       "      <td>2011-01-20 04:00:00</td>\n",
       "      <td>1</td>\n",
       "      <td>0</td>\n",
       "      <td>1</td>\n",
       "      <td>1</td>\n",
       "      <td>10.66</td>\n",
       "      <td>12.880</td>\n",
       "      <td>56</td>\n",
       "      <td>11.0014</td>\n",
       "    </tr>\n",
       "  </tbody>\n",
       "</table>\n",
       "</div>"
      ],
      "text/plain": [
       "              datetime  season  holiday  workingday  weather   temp   atemp  \\\n",
       "0  2011-01-20 00:00:00       1        0           1        1  10.66  11.365   \n",
       "1  2011-01-20 01:00:00       1        0           1        1  10.66  13.635   \n",
       "2  2011-01-20 02:00:00       1        0           1        1  10.66  13.635   \n",
       "3  2011-01-20 03:00:00       1        0           1        1  10.66  12.880   \n",
       "4  2011-01-20 04:00:00       1        0           1        1  10.66  12.880   \n",
       "\n",
       "   humidity  windspeed  \n",
       "0        56    26.0027  \n",
       "1        56     0.0000  \n",
       "2        56     0.0000  \n",
       "3        56    11.0014  \n",
       "4        56    11.0014  "
      ]
     },
     "execution_count": 9,
     "metadata": {},
     "output_type": "execute_result"
    }
   ],
   "source": [
    "# Create the test pandas dataframe in pandas by reading the csv, remember to parse the datetime!\n",
    "test = pd.read_csv('/kaggle/input/bike-sharing-demand/test.csv')\n",
    "test.head()"
   ]
  },
  {
   "cell_type": "code",
   "execution_count": 10,
   "id": "81f6d8c4",
   "metadata": {
    "execution": {
     "iopub.execute_input": "2022-08-01T09:50:37.363054Z",
     "iopub.status.busy": "2022-08-01T09:50:37.362727Z",
     "iopub.status.idle": "2022-08-01T09:50:37.384150Z",
     "shell.execute_reply": "2022-08-01T09:50:37.383201Z"
    },
    "papermill": {
     "duration": 0.069565,
     "end_time": "2022-08-01T09:50:37.386772",
     "exception": false,
     "start_time": "2022-08-01T09:50:37.317207",
     "status": "completed"
    },
    "tags": []
   },
   "outputs": [
    {
     "data": {
      "text/html": [
       "<div>\n",
       "<style scoped>\n",
       "    .dataframe tbody tr th:only-of-type {\n",
       "        vertical-align: middle;\n",
       "    }\n",
       "\n",
       "    .dataframe tbody tr th {\n",
       "        vertical-align: top;\n",
       "    }\n",
       "\n",
       "    .dataframe thead th {\n",
       "        text-align: right;\n",
       "    }\n",
       "</style>\n",
       "<table border=\"1\" class=\"dataframe\">\n",
       "  <thead>\n",
       "    <tr style=\"text-align: right;\">\n",
       "      <th></th>\n",
       "      <th>datetime</th>\n",
       "      <th>count</th>\n",
       "    </tr>\n",
       "  </thead>\n",
       "  <tbody>\n",
       "    <tr>\n",
       "      <th>0</th>\n",
       "      <td>2011-01-20 00:00:00</td>\n",
       "      <td>0</td>\n",
       "    </tr>\n",
       "    <tr>\n",
       "      <th>1</th>\n",
       "      <td>2011-01-20 01:00:00</td>\n",
       "      <td>0</td>\n",
       "    </tr>\n",
       "    <tr>\n",
       "      <th>2</th>\n",
       "      <td>2011-01-20 02:00:00</td>\n",
       "      <td>0</td>\n",
       "    </tr>\n",
       "    <tr>\n",
       "      <th>3</th>\n",
       "      <td>2011-01-20 03:00:00</td>\n",
       "      <td>0</td>\n",
       "    </tr>\n",
       "    <tr>\n",
       "      <th>4</th>\n",
       "      <td>2011-01-20 04:00:00</td>\n",
       "      <td>0</td>\n",
       "    </tr>\n",
       "  </tbody>\n",
       "</table>\n",
       "</div>"
      ],
      "text/plain": [
       "              datetime  count\n",
       "0  2011-01-20 00:00:00      0\n",
       "1  2011-01-20 01:00:00      0\n",
       "2  2011-01-20 02:00:00      0\n",
       "3  2011-01-20 03:00:00      0\n",
       "4  2011-01-20 04:00:00      0"
      ]
     },
     "execution_count": 10,
     "metadata": {},
     "output_type": "execute_result"
    }
   ],
   "source": [
    "# Same thing as train and test dataset\n",
    "submission = pd.read_csv('/kaggle/input/bike-sharing-demand/sampleSubmission.csv')\n",
    "submission.head()"
   ]
  },
  {
   "cell_type": "markdown",
   "id": "d46e2071",
   "metadata": {
    "papermill": {
     "duration": 0.447174,
     "end_time": "2022-08-01T09:50:37.880493",
     "exception": false,
     "start_time": "2022-08-01T09:50:37.433319",
     "status": "completed"
    },
    "tags": []
   },
   "source": [
    "## Step 3: Train a model using AutoGluon’s Tabular Prediction"
   ]
  },
  {
   "cell_type": "markdown",
   "id": "da560c8d",
   "metadata": {
    "papermill": {
     "duration": 0.042922,
     "end_time": "2022-08-01T09:50:37.967702",
     "exception": false,
     "start_time": "2022-08-01T09:50:37.924780",
     "status": "completed"
    },
    "tags": []
   },
   "source": [
    "Requirements:\n",
    "* We are prediting `count`, so it is the label we are setting.\n",
    "* Ignore `casual` and `registered` columns as they are also not present in the test dataset. \n",
    "* Use the `root_mean_squared_error` as the metric to use for evaluation.\n",
    "* Set a time limit of 10 minutes (600 seconds).\n",
    "* Use the preset `best_quality` to focus on creating the best model."
   ]
  },
  {
   "cell_type": "code",
   "execution_count": 11,
   "id": "e1d1cf75",
   "metadata": {
    "execution": {
     "iopub.execute_input": "2022-08-01T09:50:38.055565Z",
     "iopub.status.busy": "2022-08-01T09:50:38.055167Z",
     "iopub.status.idle": "2022-08-01T10:00:45.430755Z",
     "shell.execute_reply": "2022-08-01T10:00:45.429714Z"
    },
    "papermill": {
     "duration": 607.422695,
     "end_time": "2022-08-01T10:00:45.433821",
     "exception": false,
     "start_time": "2022-08-01T09:50:38.011126",
     "status": "completed"
    },
    "tags": []
   },
   "outputs": [
    {
     "name": "stderr",
     "output_type": "stream",
     "text": [
      "No path specified. Models will be saved in: \"AutogluonModels/ag-20220801_095038/\"\n",
      "Presets specified: ['best_quality']\n",
      "Stack configuration (auto_stack=True): num_stack_levels=1, num_bag_folds=8, num_bag_sets=20\n",
      "Beginning AutoGluon training ... Time limit = 600s\n",
      "AutoGluon will save models to \"AutogluonModels/ag-20220801_095038/\"\n",
      "AutoGluon Version:  0.5.2\n",
      "Python Version:     3.7.12\n",
      "Operating System:   Linux\n",
      "Train Data Rows:    10886\n",
      "Train Data Columns: 9\n",
      "Label Column: count\n",
      "Preprocessing data ...\n",
      "AutoGluon infers your prediction problem is: 'regression' (because dtype of label-column == int and many unique label-values observed).\n",
      "\tLabel info (max, min, mean, stddev): (977, 1, 191.57413, 181.14445)\n",
      "\tIf 'regression' is not the correct problem_type, please manually specify the problem_type parameter during predictor init (You may specify problem_type as one of: ['binary', 'multiclass', 'regression'])\n",
      "Using Feature Generators to preprocess the data ...\n",
      "Fitting AutoMLPipelineFeatureGenerator...\n",
      "\tAvailable Memory:                    15814.81 MB\n",
      "\tTrain Data (Original)  Memory Usage: 1.52 MB (0.0% of available memory)\n",
      "\tInferring data type of each feature based on column values. Set feature_metadata_in to manually specify special dtypes of the features.\n",
      "\tStage 1 Generators:\n",
      "\t\tFitting AsTypeFeatureGenerator...\n",
      "\t\t\tNote: Converting 2 features to boolean dtype as they only contain 2 unique values.\n",
      "\tStage 2 Generators:\n",
      "\t\tFitting FillNaFeatureGenerator...\n",
      "\tStage 3 Generators:\n",
      "\t\tFitting IdentityFeatureGenerator...\n",
      "\t\tFitting DatetimeFeatureGenerator...\n",
      "\tStage 4 Generators:\n",
      "\t\tFitting DropUniqueFeatureGenerator...\n",
      "\tTypes of features in original data (raw dtype, special dtypes):\n",
      "\t\t('float', [])                      : 3 | ['temp', 'atemp', 'windspeed']\n",
      "\t\t('int', [])                        : 5 | ['season', 'holiday', 'workingday', 'weather', 'humidity']\n",
      "\t\t('object', ['datetime_as_object']) : 1 | ['datetime']\n",
      "\tTypes of features in processed data (raw dtype, special dtypes):\n",
      "\t\t('float', [])                : 3 | ['temp', 'atemp', 'windspeed']\n",
      "\t\t('int', [])                  : 3 | ['season', 'weather', 'humidity']\n",
      "\t\t('int', ['bool'])            : 2 | ['holiday', 'workingday']\n",
      "\t\t('int', ['datetime_as_int']) : 5 | ['datetime', 'datetime.year', 'datetime.month', 'datetime.day', 'datetime.dayofweek']\n",
      "\t0.1s = Fit runtime\n",
      "\t9 features in original data used to generate 13 features in processed data.\n",
      "\tTrain Data (Processed) Memory Usage: 0.98 MB (0.0% of available memory)\n",
      "Data preprocessing and feature engineering runtime = 0.14s ...\n",
      "AutoGluon will gauge predictive performance using evaluation metric: 'root_mean_squared_error'\n",
      "\tThis metric's sign has been flipped to adhere to being higher_is_better. The metric score can be multiplied by -1 to get the metric value.\n",
      "\tTo change this, specify the eval_metric parameter of Predictor()\n",
      "AutoGluon will fit 2 stack levels (L1 to L2) ...\n",
      "Fitting 11 L1 models ...\n",
      "Fitting model: KNeighborsUnif_BAG_L1 ... Training model for up to 399.81s of the 599.86s of remaining time.\n",
      "Intel(R) Extension for Scikit-learn* enabled (https://github.com/intel/scikit-learn-intelex)\n",
      "Intel(R) Extension for Scikit-learn* enabled (https://github.com/intel/scikit-learn-intelex)\n",
      "\t-101.5815\t = Validation score   (-root_mean_squared_error)\n",
      "\t0.66s\t = Training   runtime\n",
      "\t0.06s\t = Validation runtime\n",
      "Fitting model: KNeighborsDist_BAG_L1 ... Training model for up to 399.06s of the 599.11s of remaining time.\n",
      "Intel(R) Extension for Scikit-learn* enabled (https://github.com/intel/scikit-learn-intelex)\n",
      "Intel(R) Extension for Scikit-learn* enabled (https://github.com/intel/scikit-learn-intelex)\n",
      "\t-84.1429\t = Validation score   (-root_mean_squared_error)\n",
      "\t0.02s\t = Training   runtime\n",
      "\t0.06s\t = Validation runtime\n",
      "Fitting model: LightGBMXT_BAG_L1 ... Training model for up to 398.96s of the 599.01s of remaining time.\n",
      "\tFitting 8 child models (S1F1 - S1F8) | Fitting with ParallelLocalFoldFittingStrategy\n",
      "\t-131.4609\t = Validation score   (-root_mean_squared_error)\n",
      "\t81.69s\t = Training   runtime\n",
      "\t7.27s\t = Validation runtime\n",
      "Fitting model: LightGBM_BAG_L1 ... Training model for up to 305.11s of the 505.16s of remaining time.\n",
      "\tFitting 8 child models (S1F1 - S1F8) | Fitting with ParallelLocalFoldFittingStrategy\n",
      "\t-131.0542\t = Validation score   (-root_mean_squared_error)\n",
      "\t42.72s\t = Training   runtime\n",
      "\t1.44s\t = Validation runtime\n",
      "Fitting model: RandomForestMSE_BAG_L1 ... Training model for up to 258.11s of the 458.16s of remaining time.\n",
      "\t-116.5443\t = Validation score   (-root_mean_squared_error)\n",
      "\t9.79s\t = Training   runtime\n",
      "\t0.59s\t = Validation runtime\n",
      "Fitting model: CatBoost_BAG_L1 ... Training model for up to 247.12s of the 447.16s of remaining time.\n",
      "\tFitting 8 child models (S1F1 - S1F8) | Fitting with ParallelLocalFoldFittingStrategy\n",
      "\t-130.5332\t = Validation score   (-root_mean_squared_error)\n",
      "\t187.65s\t = Training   runtime\n",
      "\t0.15s\t = Validation runtime\n",
      "Fitting model: ExtraTreesMSE_BAG_L1 ... Training model for up to 55.41s of the 255.46s of remaining time.\n",
      "\t-124.5881\t = Validation score   (-root_mean_squared_error)\n",
      "\t4.8s\t = Training   runtime\n",
      "\t0.93s\t = Validation runtime\n",
      "Fitting model: NeuralNetFastAI_BAG_L1 ... Training model for up to 48.98s of the 249.03s of remaining time.\n",
      "\tFitting 8 child models (S1F1 - S1F8) | Fitting with ParallelLocalFoldFittingStrategy\n",
      "E0801 09:56:29.085305289     403 chttp2_transport.cc:1103]   Received a GOAWAY with error code ENHANCE_YOUR_CALM and debug data equal to \"too_many_pings\"\n",
      "\t-137.8999\t = Validation score   (-root_mean_squared_error)\n",
      "\t60.73s\t = Training   runtime\n",
      "\t0.36s\t = Validation runtime\n",
      "Completed 1/20 k-fold bagging repeats ...\n",
      "Fitting model: WeightedEnsemble_L2 ... Training model for up to 360.0s of the 183.91s of remaining time.\n",
      "\t-84.1429\t = Validation score   (-root_mean_squared_error)\n",
      "\t0.5s\t = Training   runtime\n",
      "\t0.0s\t = Validation runtime\n",
      "Fitting 9 L2 models ...\n",
      "Fitting model: LightGBMXT_BAG_L2 ... Training model for up to 183.39s of the 183.38s of remaining time.\n",
      "\tFitting 8 child models (S1F1 - S1F8) | Fitting with ParallelLocalFoldFittingStrategy\n",
      "\t-60.2349\t = Validation score   (-root_mean_squared_error)\n",
      "\t70.79s\t = Training   runtime\n",
      "\t3.53s\t = Validation runtime\n",
      "Fitting model: LightGBM_BAG_L2 ... Training model for up to 108.1s of the 108.08s of remaining time.\n",
      "\tFitting 8 child models (S1F1 - S1F8) | Fitting with ParallelLocalFoldFittingStrategy\n",
      "\t-54.6935\t = Validation score   (-root_mean_squared_error)\n",
      "\t37.16s\t = Training   runtime\n",
      "\t0.22s\t = Validation runtime\n",
      "Fitting model: RandomForestMSE_BAG_L2 ... Training model for up to 66.47s of the 66.46s of remaining time.\n",
      "\t-53.0915\t = Validation score   (-root_mean_squared_error)\n",
      "\t26.13s\t = Training   runtime\n",
      "\t0.63s\t = Validation runtime\n",
      "Fitting model: CatBoost_BAG_L2 ... Training model for up to 39.14s of the 39.13s of remaining time.\n",
      "\tFitting 8 child models (S1F1 - S1F8) | Fitting with ParallelLocalFoldFittingStrategy\n",
      "\t-55.5885\t = Validation score   (-root_mean_squared_error)\n",
      "\t42.87s\t = Training   runtime\n",
      "\t0.08s\t = Validation runtime\n",
      "Completed 1/20 k-fold bagging repeats ...\n",
      "Fitting model: WeightedEnsemble_L3 ... Training model for up to 360.0s of the -7.02s of remaining time.\n",
      "\t-52.7674\t = Validation score   (-root_mean_squared_error)\n",
      "\t0.29s\t = Training   runtime\n",
      "\t0.0s\t = Validation runtime\n",
      "AutoGluon training complete, total runtime = 607.35s ... Best model: \"WeightedEnsemble_L3\"\n",
      "TabularPredictor saved. To load, use: predictor = TabularPredictor.load(\"AutogluonModels/ag-20220801_095038/\")\n"
     ]
    }
   ],
   "source": [
    "predictor = TabularPredictor(label='count',eval_metric='root_mean_squared_error').fit(train_data = train.drop(['casual','registered'],axis=1), time_limit = 600, presets=\"best_quality\")"
   ]
  },
  {
   "cell_type": "markdown",
   "id": "474fd839",
   "metadata": {
    "papermill": {
     "duration": 0.080876,
     "end_time": "2022-08-01T10:00:45.591721",
     "exception": false,
     "start_time": "2022-08-01T10:00:45.510845",
     "status": "completed"
    },
    "tags": []
   },
   "source": [
    "### Review AutoGluon's training run with ranking of models that did the best."
   ]
  },
  {
   "cell_type": "code",
   "execution_count": 12,
   "id": "34817997",
   "metadata": {
    "execution": {
     "iopub.execute_input": "2022-08-01T10:00:45.751956Z",
     "iopub.status.busy": "2022-08-01T10:00:45.751363Z",
     "iopub.status.idle": "2022-08-01T10:00:46.074866Z",
     "shell.execute_reply": "2022-08-01T10:00:46.073924Z"
    },
    "papermill": {
     "duration": 0.407483,
     "end_time": "2022-08-01T10:00:46.077316",
     "exception": false,
     "start_time": "2022-08-01T10:00:45.669833",
     "status": "completed"
    },
    "tags": []
   },
   "outputs": [
    {
     "name": "stdout",
     "output_type": "stream",
     "text": [
      "*** Summary of fit() ***\n",
      "Estimated performance of each model:\n",
      "                     model   score_val  pred_time_val    fit_time  pred_time_val_marginal  fit_time_marginal  stack_level  can_infer  fit_order\n",
      "0      WeightedEnsemble_L3  -52.767427      15.320621  565.317385                0.000819           0.294945            3       True         14\n",
      "1   RandomForestMSE_BAG_L2  -53.091473      11.498624  414.199070                0.634855          26.134002            2       True         12\n",
      "2          LightGBM_BAG_L2  -54.693543      11.078793  425.229351                0.215024          37.164283            2       True         11\n",
      "3          CatBoost_BAG_L2  -55.588459      10.941733  430.935471                0.077964          42.870404            2       True         13\n",
      "4        LightGBMXT_BAG_L2  -60.234861      14.391959  458.853751                3.528189          70.788683            2       True         10\n",
      "5    KNeighborsDist_BAG_L1  -84.142866       0.059802    0.019987                0.059802           0.019987            1       True          2\n",
      "6      WeightedEnsemble_L2  -84.142866       0.060632    0.519231                0.000830           0.499244            2       True          9\n",
      "7    KNeighborsUnif_BAG_L1 -101.581543       0.055750    0.659817                0.055750           0.659817            1       True          1\n",
      "8   RandomForestMSE_BAG_L1 -116.544294       0.592417    9.793397                0.592417           9.793397            1       True          5\n",
      "9     ExtraTreesMSE_BAG_L1 -124.588053       0.934404    4.800258                0.934404           4.800258            1       True          7\n",
      "10         CatBoost_BAG_L1 -130.533194       0.148661  187.646387                0.148661         187.646387            1       True          6\n",
      "11         LightGBM_BAG_L1 -131.054162       1.444757   42.717782                1.444757          42.717782            1       True          4\n",
      "12       LightGBMXT_BAG_L1 -131.460909       7.268010   81.693068                7.268010          81.693068            1       True          3\n",
      "13  NeuralNetFastAI_BAG_L1 -137.899945       0.359969   60.734370                0.359969          60.734370            1       True          8\n",
      "Number of models trained: 14\n",
      "Types of models trained:\n",
      "{'StackerEnsembleModel_NNFastAiTabular', 'StackerEnsembleModel_LGB', 'StackerEnsembleModel_KNN', 'StackerEnsembleModel_CatBoost', 'StackerEnsembleModel_XT', 'WeightedEnsembleModel', 'StackerEnsembleModel_RF'}\n",
      "Bagging used: True  (with 8 folds)\n",
      "Multi-layer stack-ensembling used: True  (with 3 levels)\n",
      "Feature Metadata (Processed):\n",
      "(raw dtype, special dtypes):\n",
      "('float', [])                : 3 | ['temp', 'atemp', 'windspeed']\n",
      "('int', [])                  : 3 | ['season', 'weather', 'humidity']\n",
      "('int', ['bool'])            : 2 | ['holiday', 'workingday']\n",
      "('int', ['datetime_as_int']) : 5 | ['datetime', 'datetime.year', 'datetime.month', 'datetime.day', 'datetime.dayofweek']\n",
      "*** End of fit() summary ***\n"
     ]
    },
    {
     "name": "stderr",
     "output_type": "stream",
     "text": [
      "/opt/conda/lib/python3.7/site-packages/autogluon/core/utils/plots.py:138: UserWarning: AutoGluon summary plots cannot be created because bokeh is not installed. To see plots, please do: \"pip install bokeh==2.0.1\"\n",
      "  warnings.warn('AutoGluon summary plots cannot be created because bokeh is not installed. To see plots, please do: \"pip install bokeh==2.0.1\"')\n"
     ]
    },
    {
     "data": {
      "text/plain": [
       "{'model_types': {'KNeighborsUnif_BAG_L1': 'StackerEnsembleModel_KNN',\n",
       "  'KNeighborsDist_BAG_L1': 'StackerEnsembleModel_KNN',\n",
       "  'LightGBMXT_BAG_L1': 'StackerEnsembleModel_LGB',\n",
       "  'LightGBM_BAG_L1': 'StackerEnsembleModel_LGB',\n",
       "  'RandomForestMSE_BAG_L1': 'StackerEnsembleModel_RF',\n",
       "  'CatBoost_BAG_L1': 'StackerEnsembleModel_CatBoost',\n",
       "  'ExtraTreesMSE_BAG_L1': 'StackerEnsembleModel_XT',\n",
       "  'NeuralNetFastAI_BAG_L1': 'StackerEnsembleModel_NNFastAiTabular',\n",
       "  'WeightedEnsemble_L2': 'WeightedEnsembleModel',\n",
       "  'LightGBMXT_BAG_L2': 'StackerEnsembleModel_LGB',\n",
       "  'LightGBM_BAG_L2': 'StackerEnsembleModel_LGB',\n",
       "  'RandomForestMSE_BAG_L2': 'StackerEnsembleModel_RF',\n",
       "  'CatBoost_BAG_L2': 'StackerEnsembleModel_CatBoost',\n",
       "  'WeightedEnsemble_L3': 'WeightedEnsembleModel'},\n",
       " 'model_performance': {'KNeighborsUnif_BAG_L1': -101.58154263993517,\n",
       "  'KNeighborsDist_BAG_L1': -84.14286553455744,\n",
       "  'LightGBMXT_BAG_L1': -131.46090891834504,\n",
       "  'LightGBM_BAG_L1': -131.054161598899,\n",
       "  'RandomForestMSE_BAG_L1': -116.54429428704391,\n",
       "  'CatBoost_BAG_L1': -130.5331939673838,\n",
       "  'ExtraTreesMSE_BAG_L1': -124.58805258915959,\n",
       "  'NeuralNetFastAI_BAG_L1': -137.89994450370614,\n",
       "  'WeightedEnsemble_L2': -84.14286553455744,\n",
       "  'LightGBMXT_BAG_L2': -60.23486068259485,\n",
       "  'LightGBM_BAG_L2': -54.693543465864835,\n",
       "  'RandomForestMSE_BAG_L2': -53.091473357182345,\n",
       "  'CatBoost_BAG_L2': -55.58845920380228,\n",
       "  'WeightedEnsemble_L3': -52.76742711929109},\n",
       " 'model_best': 'WeightedEnsemble_L3',\n",
       " 'model_paths': {'KNeighborsUnif_BAG_L1': 'AutogluonModels/ag-20220801_095038/models/KNeighborsUnif_BAG_L1/',\n",
       "  'KNeighborsDist_BAG_L1': 'AutogluonModels/ag-20220801_095038/models/KNeighborsDist_BAG_L1/',\n",
       "  'LightGBMXT_BAG_L1': 'AutogluonModels/ag-20220801_095038/models/LightGBMXT_BAG_L1/',\n",
       "  'LightGBM_BAG_L1': 'AutogluonModels/ag-20220801_095038/models/LightGBM_BAG_L1/',\n",
       "  'RandomForestMSE_BAG_L1': 'AutogluonModels/ag-20220801_095038/models/RandomForestMSE_BAG_L1/',\n",
       "  'CatBoost_BAG_L1': 'AutogluonModels/ag-20220801_095038/models/CatBoost_BAG_L1/',\n",
       "  'ExtraTreesMSE_BAG_L1': 'AutogluonModels/ag-20220801_095038/models/ExtraTreesMSE_BAG_L1/',\n",
       "  'NeuralNetFastAI_BAG_L1': 'AutogluonModels/ag-20220801_095038/models/NeuralNetFastAI_BAG_L1/',\n",
       "  'WeightedEnsemble_L2': 'AutogluonModels/ag-20220801_095038/models/WeightedEnsemble_L2/',\n",
       "  'LightGBMXT_BAG_L2': 'AutogluonModels/ag-20220801_095038/models/LightGBMXT_BAG_L2/',\n",
       "  'LightGBM_BAG_L2': 'AutogluonModels/ag-20220801_095038/models/LightGBM_BAG_L2/',\n",
       "  'RandomForestMSE_BAG_L2': 'AutogluonModels/ag-20220801_095038/models/RandomForestMSE_BAG_L2/',\n",
       "  'CatBoost_BAG_L2': 'AutogluonModels/ag-20220801_095038/models/CatBoost_BAG_L2/',\n",
       "  'WeightedEnsemble_L3': 'AutogluonModels/ag-20220801_095038/models/WeightedEnsemble_L3/'},\n",
       " 'model_fit_times': {'KNeighborsUnif_BAG_L1': 0.6598174571990967,\n",
       "  'KNeighborsDist_BAG_L1': 0.019986867904663086,\n",
       "  'LightGBMXT_BAG_L1': 81.69306826591492,\n",
       "  'LightGBM_BAG_L1': 42.717782497406006,\n",
       "  'RandomForestMSE_BAG_L1': 9.793397188186646,\n",
       "  'CatBoost_BAG_L1': 187.64638686180115,\n",
       "  'ExtraTreesMSE_BAG_L1': 4.80025839805603,\n",
       "  'NeuralNetFastAI_BAG_L1': 60.73436999320984,\n",
       "  'WeightedEnsemble_L2': 0.49924445152282715,\n",
       "  'LightGBMXT_BAG_L2': 70.78868317604065,\n",
       "  'LightGBM_BAG_L2': 37.16428303718567,\n",
       "  'RandomForestMSE_BAG_L2': 26.134002447128296,\n",
       "  'CatBoost_BAG_L2': 42.8704035282135,\n",
       "  'WeightedEnsemble_L3': 0.29494500160217285},\n",
       " 'model_pred_times': {'KNeighborsUnif_BAG_L1': 0.055750131607055664,\n",
       "  'KNeighborsDist_BAG_L1': 0.059801578521728516,\n",
       "  'LightGBMXT_BAG_L1': 7.268009662628174,\n",
       "  'LightGBM_BAG_L1': 1.4447565078735352,\n",
       "  'RandomForestMSE_BAG_L1': 0.5924172401428223,\n",
       "  'CatBoost_BAG_L1': 0.14866113662719727,\n",
       "  'ExtraTreesMSE_BAG_L1': 0.9344043731689453,\n",
       "  'NeuralNetFastAI_BAG_L1': 0.3599686622619629,\n",
       "  'WeightedEnsemble_L2': 0.0008304119110107422,\n",
       "  'LightGBMXT_BAG_L2': 3.5281894207000732,\n",
       "  'LightGBM_BAG_L2': 0.21502375602722168,\n",
       "  'RandomForestMSE_BAG_L2': 0.634854793548584,\n",
       "  'CatBoost_BAG_L2': 0.07796382904052734,\n",
       "  'WeightedEnsemble_L3': 0.0008194446563720703},\n",
       " 'num_bag_folds': 8,\n",
       " 'max_stack_level': 3,\n",
       " 'model_hyperparams': {'KNeighborsUnif_BAG_L1': {'use_orig_features': True,\n",
       "   'max_base_models': 25,\n",
       "   'max_base_models_per_type': 5,\n",
       "   'save_bag_folds': True,\n",
       "   'use_child_oof': True},\n",
       "  'KNeighborsDist_BAG_L1': {'use_orig_features': True,\n",
       "   'max_base_models': 25,\n",
       "   'max_base_models_per_type': 5,\n",
       "   'save_bag_folds': True,\n",
       "   'use_child_oof': True},\n",
       "  'LightGBMXT_BAG_L1': {'use_orig_features': True,\n",
       "   'max_base_models': 25,\n",
       "   'max_base_models_per_type': 5,\n",
       "   'save_bag_folds': True},\n",
       "  'LightGBM_BAG_L1': {'use_orig_features': True,\n",
       "   'max_base_models': 25,\n",
       "   'max_base_models_per_type': 5,\n",
       "   'save_bag_folds': True},\n",
       "  'RandomForestMSE_BAG_L1': {'use_orig_features': True,\n",
       "   'max_base_models': 25,\n",
       "   'max_base_models_per_type': 5,\n",
       "   'save_bag_folds': True,\n",
       "   'use_child_oof': True},\n",
       "  'CatBoost_BAG_L1': {'use_orig_features': True,\n",
       "   'max_base_models': 25,\n",
       "   'max_base_models_per_type': 5,\n",
       "   'save_bag_folds': True},\n",
       "  'ExtraTreesMSE_BAG_L1': {'use_orig_features': True,\n",
       "   'max_base_models': 25,\n",
       "   'max_base_models_per_type': 5,\n",
       "   'save_bag_folds': True,\n",
       "   'use_child_oof': True},\n",
       "  'NeuralNetFastAI_BAG_L1': {'use_orig_features': True,\n",
       "   'max_base_models': 25,\n",
       "   'max_base_models_per_type': 5,\n",
       "   'save_bag_folds': True},\n",
       "  'WeightedEnsemble_L2': {'use_orig_features': False,\n",
       "   'max_base_models': 25,\n",
       "   'max_base_models_per_type': 5,\n",
       "   'save_bag_folds': True},\n",
       "  'LightGBMXT_BAG_L2': {'use_orig_features': True,\n",
       "   'max_base_models': 25,\n",
       "   'max_base_models_per_type': 5,\n",
       "   'save_bag_folds': True},\n",
       "  'LightGBM_BAG_L2': {'use_orig_features': True,\n",
       "   'max_base_models': 25,\n",
       "   'max_base_models_per_type': 5,\n",
       "   'save_bag_folds': True},\n",
       "  'RandomForestMSE_BAG_L2': {'use_orig_features': True,\n",
       "   'max_base_models': 25,\n",
       "   'max_base_models_per_type': 5,\n",
       "   'save_bag_folds': True,\n",
       "   'use_child_oof': True},\n",
       "  'CatBoost_BAG_L2': {'use_orig_features': True,\n",
       "   'max_base_models': 25,\n",
       "   'max_base_models_per_type': 5,\n",
       "   'save_bag_folds': True},\n",
       "  'WeightedEnsemble_L3': {'use_orig_features': False,\n",
       "   'max_base_models': 25,\n",
       "   'max_base_models_per_type': 5,\n",
       "   'save_bag_folds': True}},\n",
       " 'leaderboard':                      model   score_val  pred_time_val    fit_time  \\\n",
       " 0      WeightedEnsemble_L3  -52.767427      15.320621  565.317385   \n",
       " 1   RandomForestMSE_BAG_L2  -53.091473      11.498624  414.199070   \n",
       " 2          LightGBM_BAG_L2  -54.693543      11.078793  425.229351   \n",
       " 3          CatBoost_BAG_L2  -55.588459      10.941733  430.935471   \n",
       " 4        LightGBMXT_BAG_L2  -60.234861      14.391959  458.853751   \n",
       " 5    KNeighborsDist_BAG_L1  -84.142866       0.059802    0.019987   \n",
       " 6      WeightedEnsemble_L2  -84.142866       0.060632    0.519231   \n",
       " 7    KNeighborsUnif_BAG_L1 -101.581543       0.055750    0.659817   \n",
       " 8   RandomForestMSE_BAG_L1 -116.544294       0.592417    9.793397   \n",
       " 9     ExtraTreesMSE_BAG_L1 -124.588053       0.934404    4.800258   \n",
       " 10         CatBoost_BAG_L1 -130.533194       0.148661  187.646387   \n",
       " 11         LightGBM_BAG_L1 -131.054162       1.444757   42.717782   \n",
       " 12       LightGBMXT_BAG_L1 -131.460909       7.268010   81.693068   \n",
       " 13  NeuralNetFastAI_BAG_L1 -137.899945       0.359969   60.734370   \n",
       " \n",
       "     pred_time_val_marginal  fit_time_marginal  stack_level  can_infer  \\\n",
       " 0                 0.000819           0.294945            3       True   \n",
       " 1                 0.634855          26.134002            2       True   \n",
       " 2                 0.215024          37.164283            2       True   \n",
       " 3                 0.077964          42.870404            2       True   \n",
       " 4                 3.528189          70.788683            2       True   \n",
       " 5                 0.059802           0.019987            1       True   \n",
       " 6                 0.000830           0.499244            2       True   \n",
       " 7                 0.055750           0.659817            1       True   \n",
       " 8                 0.592417           9.793397            1       True   \n",
       " 9                 0.934404           4.800258            1       True   \n",
       " 10                0.148661         187.646387            1       True   \n",
       " 11                1.444757          42.717782            1       True   \n",
       " 12                7.268010          81.693068            1       True   \n",
       " 13                0.359969          60.734370            1       True   \n",
       " \n",
       "     fit_order  \n",
       " 0          14  \n",
       " 1          12  \n",
       " 2          11  \n",
       " 3          13  \n",
       " 4          10  \n",
       " 5           2  \n",
       " 6           9  \n",
       " 7           1  \n",
       " 8           5  \n",
       " 9           7  \n",
       " 10          6  \n",
       " 11          4  \n",
       " 12          3  \n",
       " 13          8  }"
      ]
     },
     "execution_count": 12,
     "metadata": {},
     "output_type": "execute_result"
    }
   ],
   "source": [
    "predictor.fit_summary()"
   ]
  },
  {
   "cell_type": "markdown",
   "id": "5c781201",
   "metadata": {
    "papermill": {
     "duration": 0.053945,
     "end_time": "2022-08-01T10:00:46.188029",
     "exception": false,
     "start_time": "2022-08-01T10:00:46.134084",
     "status": "completed"
    },
    "tags": []
   },
   "source": [
    "### Create predictions from test dataset"
   ]
  },
  {
   "cell_type": "code",
   "execution_count": 13,
   "id": "0c113d3c",
   "metadata": {
    "execution": {
     "iopub.execute_input": "2022-08-01T10:00:46.296926Z",
     "iopub.status.busy": "2022-08-01T10:00:46.296593Z",
     "iopub.status.idle": "2022-08-01T10:01:19.909292Z",
     "shell.execute_reply": "2022-08-01T10:01:19.908338Z"
    },
    "papermill": {
     "duration": 33.724352,
     "end_time": "2022-08-01T10:01:19.965762",
     "exception": false,
     "start_time": "2022-08-01T10:00:46.241410",
     "status": "completed"
    },
    "tags": []
   },
   "outputs": [
    {
     "data": {
      "text/html": [
       "<style type='text/css'>\n",
       ".datatable table.frame { margin-bottom: 0; }\n",
       ".datatable table.frame thead { border-bottom: none; }\n",
       ".datatable table.frame tr.coltypes td {  color: #FFFFFF;  line-height: 6px;  padding: 0 0.5em;}\n",
       ".datatable .bool    { background: #DDDD99; }\n",
       ".datatable .object  { background: #565656; }\n",
       ".datatable .int     { background: #5D9E5D; }\n",
       ".datatable .float   { background: #4040CC; }\n",
       ".datatable .str     { background: #CC4040; }\n",
       ".datatable .time    { background: #40CC40; }\n",
       ".datatable .row_index {  background: var(--jp-border-color3);  border-right: 1px solid var(--jp-border-color0);  color: var(--jp-ui-font-color3);  font-size: 9px;}\n",
       ".datatable .frame tbody td { text-align: left; }\n",
       ".datatable .frame tr.coltypes .row_index {  background: var(--jp-border-color0);}\n",
       ".datatable th:nth-child(2) { padding-left: 12px; }\n",
       ".datatable .hellipsis {  color: var(--jp-cell-editor-border-color);}\n",
       ".datatable .vellipsis {  background: var(--jp-layout-color0);  color: var(--jp-cell-editor-border-color);}\n",
       ".datatable .na {  color: var(--jp-cell-editor-border-color);  font-size: 80%;}\n",
       ".datatable .sp {  opacity: 0.25;}\n",
       ".datatable .footer { font-size: 9px; }\n",
       ".datatable .frame_dimensions {  background: var(--jp-border-color3);  border-top: 1px solid var(--jp-border-color0);  color: var(--jp-ui-font-color3);  display: inline-block;  opacity: 0.6;  padding: 1px 10px 1px 5px;}\n",
       "</style>\n"
      ],
      "text/plain": [
       "<IPython.core.display.HTML object>"
      ]
     },
     "metadata": {},
     "output_type": "display_data"
    },
    {
     "data": {
      "text/plain": [
       "0    23.050385\n",
       "1    41.335953\n",
       "2    45.886333\n",
       "3    49.551914\n",
       "4    52.485058\n",
       "Name: count, dtype: float32"
      ]
     },
     "execution_count": 13,
     "metadata": {},
     "output_type": "execute_result"
    }
   ],
   "source": [
    "predictions = predictor.predict(test)\n",
    "predictions.head()"
   ]
  },
  {
   "cell_type": "markdown",
   "id": "9e3912ee",
   "metadata": {
    "papermill": {
     "duration": 0.054073,
     "end_time": "2022-08-01T10:01:20.073097",
     "exception": false,
     "start_time": "2022-08-01T10:01:20.019024",
     "status": "completed"
    },
    "tags": []
   },
   "source": [
    "#### NOTE: Kaggle will reject the submission if we don't set everything to be > 0."
   ]
  },
  {
   "cell_type": "code",
   "execution_count": 14,
   "id": "36a17630",
   "metadata": {
    "execution": {
     "iopub.execute_input": "2022-08-01T10:01:20.183522Z",
     "iopub.status.busy": "2022-08-01T10:01:20.182845Z",
     "iopub.status.idle": "2022-08-01T10:01:20.194611Z",
     "shell.execute_reply": "2022-08-01T10:01:20.193522Z"
    },
    "papermill": {
     "duration": 0.069809,
     "end_time": "2022-08-01T10:01:20.197012",
     "exception": false,
     "start_time": "2022-08-01T10:01:20.127203",
     "status": "completed"
    },
    "tags": []
   },
   "outputs": [
    {
     "data": {
      "text/plain": [
       "count    6493.000000\n",
       "mean      100.262886\n",
       "std        89.278145\n",
       "min         3.253396\n",
       "25%        20.152914\n",
       "50%        64.207603\n",
       "75%       165.637192\n",
       "max       359.810577\n",
       "Name: count, dtype: float64"
      ]
     },
     "execution_count": 14,
     "metadata": {},
     "output_type": "execute_result"
    }
   ],
   "source": [
    "# Describe the `predictions` series to see if there are any negative values\n",
    "predictions.describe()"
   ]
  },
  {
   "cell_type": "code",
   "execution_count": 15,
   "id": "a3643812",
   "metadata": {
    "execution": {
     "iopub.execute_input": "2022-08-01T10:01:20.307786Z",
     "iopub.status.busy": "2022-08-01T10:01:20.307436Z",
     "iopub.status.idle": "2022-08-01T10:01:20.315184Z",
     "shell.execute_reply": "2022-08-01T10:01:20.313987Z"
    },
    "papermill": {
     "duration": 0.065989,
     "end_time": "2022-08-01T10:01:20.318734",
     "exception": false,
     "start_time": "2022-08-01T10:01:20.252745",
     "status": "completed"
    },
    "tags": []
   },
   "outputs": [
    {
     "data": {
      "text/plain": [
       "0"
      ]
     },
     "execution_count": 15,
     "metadata": {},
     "output_type": "execute_result"
    }
   ],
   "source": [
    "# How many negative values do we have?\n",
    "predictions[predictions < 0].count()"
   ]
  },
  {
   "cell_type": "code",
   "execution_count": 16,
   "id": "8bd22cda",
   "metadata": {
    "execution": {
     "iopub.execute_input": "2022-08-01T10:01:20.427363Z",
     "iopub.status.busy": "2022-08-01T10:01:20.427055Z",
     "iopub.status.idle": "2022-08-01T10:01:20.433828Z",
     "shell.execute_reply": "2022-08-01T10:01:20.432877Z"
    },
    "papermill": {
     "duration": 0.063056,
     "end_time": "2022-08-01T10:01:20.435961",
     "exception": false,
     "start_time": "2022-08-01T10:01:20.372905",
     "status": "completed"
    },
    "tags": []
   },
   "outputs": [],
   "source": [
    "# Set them to zero\n",
    "predictions[predictions < 0] = 0"
   ]
  },
  {
   "cell_type": "markdown",
   "id": "b3f1b38f",
   "metadata": {
    "papermill": {
     "duration": 0.053502,
     "end_time": "2022-08-01T10:01:20.544554",
     "exception": false,
     "start_time": "2022-08-01T10:01:20.491052",
     "status": "completed"
    },
    "tags": []
   },
   "source": [
    "### Set predictions to submission dataframe, save, and submit"
   ]
  },
  {
   "cell_type": "code",
   "execution_count": 17,
   "id": "7083c0c8",
   "metadata": {
    "execution": {
     "iopub.execute_input": "2022-08-01T10:01:20.654011Z",
     "iopub.status.busy": "2022-08-01T10:01:20.653549Z",
     "iopub.status.idle": "2022-08-01T10:01:20.682231Z",
     "shell.execute_reply": "2022-08-01T10:01:20.681385Z"
    },
    "papermill": {
     "duration": 0.08601,
     "end_time": "2022-08-01T10:01:20.684491",
     "exception": false,
     "start_time": "2022-08-01T10:01:20.598481",
     "status": "completed"
    },
    "tags": []
   },
   "outputs": [],
   "source": [
    "submission[\"count\"] = predictions\n",
    "submission.to_csv(\"submission.csv\", index=False)"
   ]
  },
  {
   "cell_type": "code",
   "execution_count": 18,
   "id": "8c41e012",
   "metadata": {
    "execution": {
     "iopub.execute_input": "2022-08-01T10:01:20.794086Z",
     "iopub.status.busy": "2022-08-01T10:01:20.793764Z",
     "iopub.status.idle": "2022-08-01T10:01:25.160191Z",
     "shell.execute_reply": "2022-08-01T10:01:25.158880Z"
    },
    "papermill": {
     "duration": 4.424992,
     "end_time": "2022-08-01T10:01:25.162968",
     "exception": false,
     "start_time": "2022-08-01T10:01:20.737976",
     "status": "completed"
    },
    "tags": []
   },
   "outputs": [
    {
     "name": "stdout",
     "output_type": "stream",
     "text": [
      "100%|████████████████████████████████████████| 188k/188k [00:01<00:00, 98.9kB/s]\r\n",
      "Successfully submitted to Bike Sharing Demand"
     ]
    }
   ],
   "source": [
    "!kaggle competitions submit -c bike-sharing-demand -f submission.csv -m \"first raw submission\""
   ]
  },
  {
   "cell_type": "markdown",
   "id": "09a399e8",
   "metadata": {
    "papermill": {
     "duration": 0.059996,
     "end_time": "2022-08-01T10:01:25.282067",
     "exception": false,
     "start_time": "2022-08-01T10:01:25.222071",
     "status": "completed"
    },
    "tags": []
   },
   "source": [
    "#### View submission via the command line or in the web browser under the competition's page - `My Submissions`"
   ]
  },
  {
   "cell_type": "code",
   "execution_count": 19,
   "id": "40bf722a",
   "metadata": {
    "execution": {
     "iopub.execute_input": "2022-08-01T10:01:25.400609Z",
     "iopub.status.busy": "2022-08-01T10:01:25.400135Z",
     "iopub.status.idle": "2022-08-01T10:01:26.795422Z",
     "shell.execute_reply": "2022-08-01T10:01:26.794008Z"
    },
    "papermill": {
     "duration": 1.459398,
     "end_time": "2022-08-01T10:01:26.798621",
     "exception": false,
     "start_time": "2022-08-01T10:01:25.339223",
     "status": "completed"
    },
    "tags": []
   },
   "outputs": [
    {
     "name": "stdout",
     "output_type": "stream",
     "text": [
      "fileName                     date                 description                        status    publicScore  privateScore  \r\n",
      "---------------------------  -------------------  ---------------------------------  --------  -----------  ------------  \r\n",
      "submission.csv               2022-08-01 10:01:24  first raw submission               complete  1.79181      1.79181       \r\n",
      "submission_new_hpo.csv       2022-07-29 22:34:23  new features with hyperparameters  complete  1.80550      1.80550       \r\n",
      "submission_new_features.csv  2022-07-29 22:24:52  new features                       complete  0.69555      0.69555       \r\n",
      "submission.csv               2022-07-29 22:13:44  first raw submission               complete  1.80550      1.80550       \r\n"
     ]
    }
   ],
   "source": [
    "!kaggle competitions submissions -c bike-sharing-demand | tail -n +1 | head -n 6"
   ]
  },
  {
   "cell_type": "markdown",
   "id": "b3dcc6fd",
   "metadata": {
    "papermill": {
     "duration": 0.058804,
     "end_time": "2022-08-01T10:01:26.919168",
     "exception": false,
     "start_time": "2022-08-01T10:01:26.860364",
     "status": "completed"
    },
    "tags": []
   },
   "source": [
    "#### Initial score of `1.78967`"
   ]
  },
  {
   "cell_type": "markdown",
   "id": "71d2a2b9",
   "metadata": {
    "papermill": {
     "duration": 0.057131,
     "end_time": "2022-08-01T10:01:27.035097",
     "exception": false,
     "start_time": "2022-08-01T10:01:26.977966",
     "status": "completed"
    },
    "tags": []
   },
   "source": [
    "## Step 4: Exploratory Data Analysis and Creating an additional feature\n",
    "* Any additional feature will do, but a great suggestion would be to separate out the datetime into hour, day, or month parts."
   ]
  },
  {
   "cell_type": "code",
   "execution_count": 20,
   "id": "a3e06e86",
   "metadata": {
    "execution": {
     "iopub.execute_input": "2022-08-01T10:01:27.154602Z",
     "iopub.status.busy": "2022-08-01T10:01:27.154136Z",
     "iopub.status.idle": "2022-08-01T10:01:27.159814Z",
     "shell.execute_reply": "2022-08-01T10:01:27.158747Z"
    },
    "papermill": {
     "duration": 0.067402,
     "end_time": "2022-08-01T10:01:27.162493",
     "exception": false,
     "start_time": "2022-08-01T10:01:27.095091",
     "status": "completed"
    },
    "tags": []
   },
   "outputs": [],
   "source": [
    "import matplotlib.pyplot as plt"
   ]
  },
  {
   "cell_type": "code",
   "execution_count": 21,
   "id": "dd80edd5",
   "metadata": {
    "execution": {
     "iopub.execute_input": "2022-08-01T10:01:27.281955Z",
     "iopub.status.busy": "2022-08-01T10:01:27.281643Z",
     "iopub.status.idle": "2022-08-01T10:01:29.129535Z",
     "shell.execute_reply": "2022-08-01T10:01:29.128566Z"
    },
    "papermill": {
     "duration": 1.916023,
     "end_time": "2022-08-01T10:01:29.137153",
     "exception": false,
     "start_time": "2022-08-01T10:01:27.221130",
     "status": "completed"
    },
    "tags": []
   },
   "outputs": [
    {
     "data": {
      "image/png": "[encoded data removed]",
      "text/plain": [
       "<Figure size 1080x1080 with 12 Axes>"
      ]
     },
     "metadata": {
      "needs_background": "light"
     },
     "output_type": "display_data"
    }
   ],
   "source": [
    "# Create a histogram of all features to show the distribution of each one relative to the data. This is part of the exploritory data analysis\n",
    "plt.rcParams[\"figure.figsize\"] = (15,15)\n",
    "train.hist();"
   ]
  },
  {
   "cell_type": "code",
   "execution_count": 22,
   "id": "8fc78e28",
   "metadata": {
    "execution": {
     "iopub.execute_input": "2022-08-01T10:01:29.293168Z",
     "iopub.status.busy": "2022-08-01T10:01:29.292385Z",
     "iopub.status.idle": "2022-08-01T10:01:29.328166Z",
     "shell.execute_reply": "2022-08-01T10:01:29.327252Z"
    },
    "papermill": {
     "duration": 0.117464,
     "end_time": "2022-08-01T10:01:29.331854",
     "exception": false,
     "start_time": "2022-08-01T10:01:29.214390",
     "status": "completed"
    },
    "tags": []
   },
   "outputs": [],
   "source": [
    "# create a new feature\n",
    "train['hour'] = pd.to_datetime(train['datetime']).dt.hour\n",
    "test['hour'] = pd.to_datetime(test['datetime']).dt.hour\n",
    "train['month'] = pd.to_datetime(train['datetime']).dt.month\n",
    "test['month'] = pd.to_datetime(test['datetime']).dt.month"
   ]
  },
  {
   "cell_type": "markdown",
   "id": "7577b7c2",
   "metadata": {
    "papermill": {
     "duration": 0.077179,
     "end_time": "2022-08-01T10:01:29.489907",
     "exception": false,
     "start_time": "2022-08-01T10:01:29.412728",
     "status": "completed"
    },
    "tags": []
   },
   "source": [
    "## Make category types for these so models know they are not just numbers\n",
    "* AutoGluon originally sees these as ints, but in reality they are int representations of a category.\n",
    "* Setting the dtype to category will classify these as categories in AutoGluon."
   ]
  },
  {
   "cell_type": "code",
   "execution_count": 23,
   "id": "5f31bbeb",
   "metadata": {
    "execution": {
     "iopub.execute_input": "2022-08-01T10:01:29.648641Z",
     "iopub.status.busy": "2022-08-01T10:01:29.646268Z",
     "iopub.status.idle": "2022-08-01T10:01:29.660851Z",
     "shell.execute_reply": "2022-08-01T10:01:29.659850Z"
    },
    "papermill": {
     "duration": 0.096752,
     "end_time": "2022-08-01T10:01:29.663640",
     "exception": false,
     "start_time": "2022-08-01T10:01:29.566888",
     "status": "completed"
    },
    "tags": []
   },
   "outputs": [],
   "source": [
    "train[\"season\"] = train['season'].astype('category')\n",
    "train[\"weather\"] = train['weather'].astype('category')\n",
    "test[\"season\"] = test['season'].astype('category')\n",
    "test[\"weather\"] = test['weather'].astype('category')"
   ]
  },
  {
   "cell_type": "code",
   "execution_count": 24,
   "id": "1178b92b",
   "metadata": {
    "execution": {
     "iopub.execute_input": "2022-08-01T10:01:29.823301Z",
     "iopub.status.busy": "2022-08-01T10:01:29.822892Z",
     "iopub.status.idle": "2022-08-01T10:01:29.848182Z",
     "shell.execute_reply": "2022-08-01T10:01:29.847319Z"
    },
    "papermill": {
     "duration": 0.108223,
     "end_time": "2022-08-01T10:01:29.851005",
     "exception": false,
     "start_time": "2022-08-01T10:01:29.742782",
     "status": "completed"
    },
    "tags": []
   },
   "outputs": [
    {
     "data": {
      "text/html": [
       "<div>\n",
       "<style scoped>\n",
       "    .dataframe tbody tr th:only-of-type {\n",
       "        vertical-align: middle;\n",
       "    }\n",
       "\n",
       "    .dataframe tbody tr th {\n",
       "        vertical-align: top;\n",
       "    }\n",
       "\n",
       "    .dataframe thead th {\n",
       "        text-align: right;\n",
       "    }\n",
       "</style>\n",
       "<table border=\"1\" class=\"dataframe\">\n",
       "  <thead>\n",
       "    <tr style=\"text-align: right;\">\n",
       "      <th></th>\n",
       "      <th>datetime</th>\n",
       "      <th>season</th>\n",
       "      <th>holiday</th>\n",
       "      <th>workingday</th>\n",
       "      <th>weather</th>\n",
       "      <th>temp</th>\n",
       "      <th>atemp</th>\n",
       "      <th>humidity</th>\n",
       "      <th>windspeed</th>\n",
       "      <th>casual</th>\n",
       "      <th>registered</th>\n",
       "      <th>count</th>\n",
       "      <th>hour</th>\n",
       "      <th>month</th>\n",
       "    </tr>\n",
       "  </thead>\n",
       "  <tbody>\n",
       "    <tr>\n",
       "      <th>0</th>\n",
       "      <td>2011-01-01 00:00:00</td>\n",
       "      <td>1</td>\n",
       "      <td>0</td>\n",
       "      <td>0</td>\n",
       "      <td>1</td>\n",
       "      <td>9.84</td>\n",
       "      <td>14.395</td>\n",
       "      <td>81</td>\n",
       "      <td>0.0</td>\n",
       "      <td>3</td>\n",
       "      <td>13</td>\n",
       "      <td>16</td>\n",
       "      <td>0</td>\n",
       "      <td>1</td>\n",
       "    </tr>\n",
       "    <tr>\n",
       "      <th>1</th>\n",
       "      <td>2011-01-01 01:00:00</td>\n",
       "      <td>1</td>\n",
       "      <td>0</td>\n",
       "      <td>0</td>\n",
       "      <td>1</td>\n",
       "      <td>9.02</td>\n",
       "      <td>13.635</td>\n",
       "      <td>80</td>\n",
       "      <td>0.0</td>\n",
       "      <td>8</td>\n",
       "      <td>32</td>\n",
       "      <td>40</td>\n",
       "      <td>1</td>\n",
       "      <td>1</td>\n",
       "    </tr>\n",
       "    <tr>\n",
       "      <th>2</th>\n",
       "      <td>2011-01-01 02:00:00</td>\n",
       "      <td>1</td>\n",
       "      <td>0</td>\n",
       "      <td>0</td>\n",
       "      <td>1</td>\n",
       "      <td>9.02</td>\n",
       "      <td>13.635</td>\n",
       "      <td>80</td>\n",
       "      <td>0.0</td>\n",
       "      <td>5</td>\n",
       "      <td>27</td>\n",
       "      <td>32</td>\n",
       "      <td>2</td>\n",
       "      <td>1</td>\n",
       "    </tr>\n",
       "    <tr>\n",
       "      <th>3</th>\n",
       "      <td>2011-01-01 03:00:00</td>\n",
       "      <td>1</td>\n",
       "      <td>0</td>\n",
       "      <td>0</td>\n",
       "      <td>1</td>\n",
       "      <td>9.84</td>\n",
       "      <td>14.395</td>\n",
       "      <td>75</td>\n",
       "      <td>0.0</td>\n",
       "      <td>3</td>\n",
       "      <td>10</td>\n",
       "      <td>13</td>\n",
       "      <td>3</td>\n",
       "      <td>1</td>\n",
       "    </tr>\n",
       "    <tr>\n",
       "      <th>4</th>\n",
       "      <td>2011-01-01 04:00:00</td>\n",
       "      <td>1</td>\n",
       "      <td>0</td>\n",
       "      <td>0</td>\n",
       "      <td>1</td>\n",
       "      <td>9.84</td>\n",
       "      <td>14.395</td>\n",
       "      <td>75</td>\n",
       "      <td>0.0</td>\n",
       "      <td>0</td>\n",
       "      <td>1</td>\n",
       "      <td>1</td>\n",
       "      <td>4</td>\n",
       "      <td>1</td>\n",
       "    </tr>\n",
       "  </tbody>\n",
       "</table>\n",
       "</div>"
      ],
      "text/plain": [
       "              datetime season  holiday  workingday weather  temp   atemp  \\\n",
       "0  2011-01-01 00:00:00      1        0           0       1  9.84  14.395   \n",
       "1  2011-01-01 01:00:00      1        0           0       1  9.02  13.635   \n",
       "2  2011-01-01 02:00:00      1        0           0       1  9.02  13.635   \n",
       "3  2011-01-01 03:00:00      1        0           0       1  9.84  14.395   \n",
       "4  2011-01-01 04:00:00      1        0           0       1  9.84  14.395   \n",
       "\n",
       "   humidity  windspeed  casual  registered  count  hour  month  \n",
       "0        81        0.0       3          13     16     0      1  \n",
       "1        80        0.0       8          32     40     1      1  \n",
       "2        80        0.0       5          27     32     2      1  \n",
       "3        75        0.0       3          10     13     3      1  \n",
       "4        75        0.0       0           1      1     4      1  "
      ]
     },
     "execution_count": 24,
     "metadata": {},
     "output_type": "execute_result"
    }
   ],
   "source": [
    "# View are new feature\n",
    "train.head()"
   ]
  },
  {
   "cell_type": "code",
   "execution_count": 25,
   "id": "3eda8f75",
   "metadata": {
    "execution": {
     "iopub.execute_input": "2022-08-01T10:01:30.016909Z",
     "iopub.status.busy": "2022-08-01T10:01:30.016548Z",
     "iopub.status.idle": "2022-08-01T10:01:31.483184Z",
     "shell.execute_reply": "2022-08-01T10:01:31.482282Z"
    },
    "papermill": {
     "duration": 1.553369,
     "end_time": "2022-08-01T10:01:31.485475",
     "exception": false,
     "start_time": "2022-08-01T10:01:29.932106",
     "status": "completed"
    },
    "tags": []
   },
   "outputs": [
    {
     "data": {
      "image/png": "[encoded data removed]",
      "text/plain": [
       "<Figure size 1080x1080 with 12 Axes>"
      ]
     },
     "metadata": {
      "needs_background": "light"
     },
     "output_type": "display_data"
    }
   ],
   "source": [
    "# View histogram of all features again now with the hour feature\n",
    "plt.rcParams['figure.figsize'] = (15,15)\n",
    "train.hist();"
   ]
  },
  {
   "cell_type": "markdown",
   "id": "bb130391",
   "metadata": {
    "papermill": {
     "duration": 0.055087,
     "end_time": "2022-08-01T10:01:31.598223",
     "exception": false,
     "start_time": "2022-08-01T10:01:31.543136",
     "status": "completed"
    },
    "tags": []
   },
   "source": [
    "## Step 5: Rerun the model with the same settings as before, just with more features"
   ]
  },
  {
   "cell_type": "code",
   "execution_count": 26,
   "id": "b499ca4f",
   "metadata": {
    "execution": {
     "iopub.execute_input": "2022-08-01T10:01:31.712402Z",
     "iopub.status.busy": "2022-08-01T10:01:31.712030Z",
     "iopub.status.idle": "2022-08-01T10:11:35.785441Z",
     "shell.execute_reply": "2022-08-01T10:11:35.784549Z"
    },
    "papermill": {
     "duration": 604.132329,
     "end_time": "2022-08-01T10:11:35.787600",
     "exception": false,
     "start_time": "2022-08-01T10:01:31.655271",
     "status": "completed"
    },
    "tags": []
   },
   "outputs": [
    {
     "name": "stderr",
     "output_type": "stream",
     "text": [
      "No path specified. Models will be saved in: \"AutogluonModels/ag-20220801_100131/\"\n",
      "Presets specified: ['best_quality']\n",
      "Stack configuration (auto_stack=True): num_stack_levels=1, num_bag_folds=8, num_bag_sets=20\n",
      "Beginning AutoGluon training ... Time limit = 600s\n",
      "AutoGluon will save models to \"AutogluonModels/ag-20220801_100131/\"\n",
      "AutoGluon Version:  0.5.2\n",
      "Python Version:     3.7.12\n",
      "Operating System:   Linux\n",
      "Train Data Rows:    10886\n",
      "Train Data Columns: 11\n",
      "Label Column: count\n",
      "Preprocessing data ...\n",
      "AutoGluon infers your prediction problem is: 'regression' (because dtype of label-column == int and many unique label-values observed).\n",
      "\tLabel info (max, min, mean, stddev): (977, 1, 191.57413, 181.14445)\n",
      "\tIf 'regression' is not the correct problem_type, please manually specify the problem_type parameter during predictor init (You may specify problem_type as one of: ['binary', 'multiclass', 'regression'])\n",
      "Using Feature Generators to preprocess the data ...\n",
      "Fitting AutoMLPipelineFeatureGenerator...\n",
      "\tAvailable Memory:                    14710.46 MB\n",
      "\tTrain Data (Original)  Memory Usage: 1.55 MB (0.0% of available memory)\n",
      "\tInferring data type of each feature based on column values. Set feature_metadata_in to manually specify special dtypes of the features.\n",
      "\tStage 1 Generators:\n",
      "\t\tFitting AsTypeFeatureGenerator...\n",
      "\t\t\tNote: Converting 2 features to boolean dtype as they only contain 2 unique values.\n",
      "\tStage 2 Generators:\n",
      "\t\tFitting FillNaFeatureGenerator...\n",
      "\tStage 3 Generators:\n",
      "\t\tFitting IdentityFeatureGenerator...\n",
      "\t\tFitting CategoryFeatureGenerator...\n",
      "\t\t\tFitting CategoryMemoryMinimizeFeatureGenerator...\n",
      "\t\tFitting DatetimeFeatureGenerator...\n",
      "\tStage 4 Generators:\n",
      "\t\tFitting DropUniqueFeatureGenerator...\n",
      "\tTypes of features in original data (raw dtype, special dtypes):\n",
      "\t\t('category', [])                   : 2 | ['season', 'weather']\n",
      "\t\t('float', [])                      : 3 | ['temp', 'atemp', 'windspeed']\n",
      "\t\t('int', [])                        : 5 | ['holiday', 'workingday', 'humidity', 'hour', 'month']\n",
      "\t\t('object', ['datetime_as_object']) : 1 | ['datetime']\n",
      "\tTypes of features in processed data (raw dtype, special dtypes):\n",
      "\t\t('category', [])             : 2 | ['season', 'weather']\n",
      "\t\t('float', [])                : 3 | ['temp', 'atemp', 'windspeed']\n",
      "\t\t('int', [])                  : 3 | ['humidity', 'hour', 'month']\n",
      "\t\t('int', ['bool'])            : 2 | ['holiday', 'workingday']\n",
      "\t\t('int', ['datetime_as_int']) : 5 | ['datetime', 'datetime.year', 'datetime.month', 'datetime.day', 'datetime.dayofweek']\n",
      "\t0.1s = Fit runtime\n",
      "\t11 features in original data used to generate 15 features in processed data.\n",
      "\tTrain Data (Processed) Memory Usage: 1.0 MB (0.0% of available memory)\n",
      "Data preprocessing and feature engineering runtime = 0.15s ...\n",
      "AutoGluon will gauge predictive performance using evaluation metric: 'root_mean_squared_error'\n",
      "\tThis metric's sign has been flipped to adhere to being higher_is_better. The metric score can be multiplied by -1 to get the metric value.\n",
      "\tTo change this, specify the eval_metric parameter of Predictor()\n",
      "AutoGluon will fit 2 stack levels (L1 to L2) ...\n",
      "Fitting 11 L1 models ...\n",
      "Fitting model: KNeighborsUnif_BAG_L1 ... Training model for up to 399.8s of the 599.84s of remaining time.\n",
      "Intel(R) Extension for Scikit-learn* enabled (https://github.com/intel/scikit-learn-intelex)\n",
      "Intel(R) Extension for Scikit-learn* enabled (https://github.com/intel/scikit-learn-intelex)\n",
      "\t-101.5815\t = Validation score   (-root_mean_squared_error)\n",
      "\t0.03s\t = Training   runtime\n",
      "\t0.06s\t = Validation runtime\n",
      "Fitting model: KNeighborsDist_BAG_L1 ... Training model for up to 399.69s of the 599.73s of remaining time.\n",
      "Intel(R) Extension for Scikit-learn* enabled (https://github.com/intel/scikit-learn-intelex)\n",
      "Intel(R) Extension for Scikit-learn* enabled (https://github.com/intel/scikit-learn-intelex)\n",
      "\t-84.1429\t = Validation score   (-root_mean_squared_error)\n",
      "\t0.02s\t = Training   runtime\n",
      "\t0.06s\t = Validation runtime\n",
      "Fitting model: LightGBMXT_BAG_L1 ... Training model for up to 399.58s of the 599.63s of remaining time.\n",
      "\tFitting 8 child models (S1F1 - S1F8) | Fitting with ParallelLocalFoldFittingStrategy\n",
      "\t-34.4818\t = Validation score   (-root_mean_squared_error)\n",
      "\t118.1s\t = Training   runtime\n",
      "\t10.37s\t = Validation runtime\n",
      "Fitting model: LightGBM_BAG_L1 ... Training model for up to 276.1s of the 476.15s of remaining time.\n",
      "\tFitting 8 child models (S1F1 - S1F8) | Fitting with ParallelLocalFoldFittingStrategy\n",
      "\t-33.9172\t = Validation score   (-root_mean_squared_error)\n",
      "\t59.79s\t = Training   runtime\n",
      "\t2.84s\t = Validation runtime\n",
      "Fitting model: RandomForestMSE_BAG_L1 ... Training model for up to 211.0s of the 411.04s of remaining time.\n",
      "\t-38.4175\t = Validation score   (-root_mean_squared_error)\n",
      "\t12.11s\t = Training   runtime\n",
      "\t0.75s\t = Validation runtime\n",
      "Fitting model: CatBoost_BAG_L1 ... Training model for up to 197.57s of the 397.62s of remaining time.\n",
      "\tFitting 8 child models (S1F1 - S1F8) | Fitting with ParallelLocalFoldFittingStrategy\n",
      "\t-34.3476\t = Validation score   (-root_mean_squared_error)\n",
      "\t170.55s\t = Training   runtime\n",
      "\t0.17s\t = Validation runtime\n",
      "Fitting model: ExtraTreesMSE_BAG_L1 ... Training model for up to 23.73s of the 223.77s of remaining time.\n",
      "\t-38.2078\t = Validation score   (-root_mean_squared_error)\n",
      "\t6.72s\t = Training   runtime\n",
      "\t0.59s\t = Validation runtime\n",
      "Fitting model: NeuralNetFastAI_BAG_L1 ... Training model for up to 15.92s of the 215.97s of remaining time.\n",
      "\tFitting 8 child models (S1F1 - S1F8) | Fitting with ParallelLocalFoldFittingStrategy\n",
      "\t-102.9458\t = Validation score   (-root_mean_squared_error)\n",
      "\t33.01s\t = Training   runtime\n",
      "\t0.46s\t = Validation runtime\n",
      "Completed 1/20 k-fold bagging repeats ...\n",
      "Fitting model: WeightedEnsemble_L2 ... Training model for up to 360.0s of the 179.64s of remaining time.\n",
      "\t-32.2279\t = Validation score   (-root_mean_squared_error)\n",
      "\t0.57s\t = Training   runtime\n",
      "\t0.0s\t = Validation runtime\n",
      "Fitting 9 L2 models ...\n",
      "Fitting model: LightGBMXT_BAG_L2 ... Training model for up to 179.05s of the 179.03s of remaining time.\n",
      "\tFitting 8 child models (S1F1 - S1F8) | Fitting with ParallelLocalFoldFittingStrategy\n",
      "\t-31.0749\t = Validation score   (-root_mean_squared_error)\n",
      "\t44.95s\t = Training   runtime\n",
      "\t1.14s\t = Validation runtime\n",
      "Fitting model: LightGBM_BAG_L2 ... Training model for up to 129.73s of the 129.72s of remaining time.\n",
      "\tFitting 8 child models (S1F1 - S1F8) | Fitting with ParallelLocalFoldFittingStrategy\n",
      "\t-30.6135\t = Validation score   (-root_mean_squared_error)\n",
      "\t37.96s\t = Training   runtime\n",
      "\t0.3s\t = Validation runtime\n",
      "Fitting model: RandomForestMSE_BAG_L2 ... Training model for up to 87.88s of the 87.87s of remaining time.\n",
      "\t-31.6633\t = Validation score   (-root_mean_squared_error)\n",
      "\t28.52s\t = Training   runtime\n",
      "\t0.64s\t = Validation runtime\n",
      "Fitting model: CatBoost_BAG_L2 ... Training model for up to 58.34s of the 58.32s of remaining time.\n",
      "\tFitting 8 child models (S1F1 - S1F8) | Fitting with ParallelLocalFoldFittingStrategy\n",
      "\t-30.5913\t = Validation score   (-root_mean_squared_error)\n",
      "\t58.55s\t = Training   runtime\n",
      "\t0.12s\t = Validation runtime\n",
      "Completed 1/20 k-fold bagging repeats ...\n",
      "Fitting model: WeightedEnsemble_L3 ... Training model for up to 360.0s of the -3.72s of remaining time.\n",
      "\t-30.2538\t = Validation score   (-root_mean_squared_error)\n",
      "\t0.29s\t = Training   runtime\n",
      "\t0.0s\t = Validation runtime\n",
      "AutoGluon training complete, total runtime = 604.04s ... Best model: \"WeightedEnsemble_L3\"\n",
      "TabularPredictor saved. To load, use: predictor = TabularPredictor.load(\"AutogluonModels/ag-20220801_100131/\")\n"
     ]
    }
   ],
   "source": [
    "predictor_new_features = TabularPredictor(label='count',eval_metric='root_mean_squared_error').fit(train_data = train.drop(['casual','registered'],axis=1), time_limit = 600, presets=\"best_quality\")"
   ]
  },
  {
   "cell_type": "code",
   "execution_count": 27,
   "id": "59b3c983",
   "metadata": {
    "execution": {
     "iopub.execute_input": "2022-08-01T10:11:35.923320Z",
     "iopub.status.busy": "2022-08-01T10:11:35.923002Z",
     "iopub.status.idle": "2022-08-01T10:11:35.966717Z",
     "shell.execute_reply": "2022-08-01T10:11:35.965193Z"
    },
    "papermill": {
     "duration": 0.114464,
     "end_time": "2022-08-01T10:11:35.969386",
     "exception": false,
     "start_time": "2022-08-01T10:11:35.854922",
     "status": "completed"
    },
    "tags": []
   },
   "outputs": [
    {
     "name": "stdout",
     "output_type": "stream",
     "text": [
      "*** Summary of fit() ***\n",
      "Estimated performance of each model:\n",
      "                     model   score_val  pred_time_val    fit_time  pred_time_val_marginal  fit_time_marginal  stack_level  can_infer  fit_order\n",
      "0      WeightedEnsemble_L3  -30.253755      17.497217  570.599071                0.001271           0.294094            3       True         14\n",
      "1          CatBoost_BAG_L2  -30.591312      15.409149  458.873475                0.116770          58.546566            2       True         13\n",
      "2          LightGBM_BAG_L2  -30.613456      15.596214  438.288439                0.303834          37.961530            2       True         11\n",
      "3        LightGBMXT_BAG_L2  -31.074901      16.435484  445.277678                1.143105          44.950768            2       True         10\n",
      "4   RandomForestMSE_BAG_L2  -31.663318      15.932239  428.846113                0.639859          28.519204            2       True         12\n",
      "5      WeightedEnsemble_L2  -32.227878      14.184414  361.140520                0.001025           0.565573            2       True          9\n",
      "6          LightGBM_BAG_L1  -33.917164       2.836534   59.792744                2.836534          59.792744            1       True          4\n",
      "7          CatBoost_BAG_L1  -34.347631       0.166801  170.553888                0.166801         170.553888            1       True          6\n",
      "8        LightGBMXT_BAG_L1  -34.481772      10.367407  118.095196               10.367407         118.095196            1       True          3\n",
      "9     ExtraTreesMSE_BAG_L1  -38.207813       0.591030    6.718351                0.591030           6.718351            1       True          7\n",
      "10  RandomForestMSE_BAG_L1  -38.417543       0.751576   12.111031                0.751576          12.111031            1       True          5\n",
      "11   KNeighborsDist_BAG_L1  -84.142866       0.061070    0.022089                0.061070           0.022089            1       True          2\n",
      "12   KNeighborsUnif_BAG_L1 -101.581543       0.060387    0.027834                0.060387           0.027834            1       True          1\n",
      "13  NeuralNetFastAI_BAG_L1 -102.945759       0.457574   33.005776                0.457574          33.005776            1       True          8\n",
      "Number of models trained: 14\n",
      "Types of models trained:\n",
      "{'StackerEnsembleModel_NNFastAiTabular', 'StackerEnsembleModel_LGB', 'StackerEnsembleModel_KNN', 'StackerEnsembleModel_CatBoost', 'StackerEnsembleModel_XT', 'WeightedEnsembleModel', 'StackerEnsembleModel_RF'}\n",
      "Bagging used: True  (with 8 folds)\n",
      "Multi-layer stack-ensembling used: True  (with 3 levels)\n",
      "Feature Metadata (Processed):\n",
      "(raw dtype, special dtypes):\n",
      "('category', [])             : 2 | ['season', 'weather']\n",
      "('float', [])                : 3 | ['temp', 'atemp', 'windspeed']\n",
      "('int', [])                  : 3 | ['humidity', 'hour', 'month']\n",
      "('int', ['bool'])            : 2 | ['holiday', 'workingday']\n",
      "('int', ['datetime_as_int']) : 5 | ['datetime', 'datetime.year', 'datetime.month', 'datetime.day', 'datetime.dayofweek']\n",
      "*** End of fit() summary ***\n"
     ]
    },
    {
     "name": "stderr",
     "output_type": "stream",
     "text": [
      "/opt/conda/lib/python3.7/site-packages/autogluon/core/utils/plots.py:138: UserWarning: AutoGluon summary plots cannot be created because bokeh is not installed. To see plots, please do: \"pip install bokeh==2.0.1\"\n",
      "  warnings.warn('AutoGluon summary plots cannot be created because bokeh is not installed. To see plots, please do: \"pip install bokeh==2.0.1\"')\n"
     ]
    },
    {
     "data": {
      "text/plain": [
       "{'model_types': {'KNeighborsUnif_BAG_L1': 'StackerEnsembleModel_KNN',\n",
       "  'KNeighborsDist_BAG_L1': 'StackerEnsembleModel_KNN',\n",
       "  'LightGBMXT_BAG_L1': 'StackerEnsembleModel_LGB',\n",
       "  'LightGBM_BAG_L1': 'StackerEnsembleModel_LGB',\n",
       "  'RandomForestMSE_BAG_L1': 'StackerEnsembleModel_RF',\n",
       "  'CatBoost_BAG_L1': 'StackerEnsembleModel_CatBoost',\n",
       "  'ExtraTreesMSE_BAG_L1': 'StackerEnsembleModel_XT',\n",
       "  'NeuralNetFastAI_BAG_L1': 'StackerEnsembleModel_NNFastAiTabular',\n",
       "  'WeightedEnsemble_L2': 'WeightedEnsembleModel',\n",
       "  'LightGBMXT_BAG_L2': 'StackerEnsembleModel_LGB',\n",
       "  'LightGBM_BAG_L2': 'StackerEnsembleModel_LGB',\n",
       "  'RandomForestMSE_BAG_L2': 'StackerEnsembleModel_RF',\n",
       "  'CatBoost_BAG_L2': 'StackerEnsembleModel_CatBoost',\n",
       "  'WeightedEnsemble_L3': 'WeightedEnsembleModel'},\n",
       " 'model_performance': {'KNeighborsUnif_BAG_L1': -101.58154263993517,\n",
       "  'KNeighborsDist_BAG_L1': -84.14286553455744,\n",
       "  'LightGBMXT_BAG_L1': -34.48177219869032,\n",
       "  'LightGBM_BAG_L1': -33.917164270158686,\n",
       "  'RandomForestMSE_BAG_L1': -38.41754343892435,\n",
       "  'CatBoost_BAG_L1': -34.34763054601277,\n",
       "  'ExtraTreesMSE_BAG_L1': -38.20781264429816,\n",
       "  'NeuralNetFastAI_BAG_L1': -102.94575910745,\n",
       "  'WeightedEnsemble_L2': -32.227878174036334,\n",
       "  'LightGBMXT_BAG_L2': -31.074900542483075,\n",
       "  'LightGBM_BAG_L2': -30.613455712082295,\n",
       "  'RandomForestMSE_BAG_L2': -31.66331841496125,\n",
       "  'CatBoost_BAG_L2': -30.591311625113345,\n",
       "  'WeightedEnsemble_L3': -30.253754641072113},\n",
       " 'model_best': 'WeightedEnsemble_L3',\n",
       " 'model_paths': {'KNeighborsUnif_BAG_L1': 'AutogluonModels/ag-20220801_100131/models/KNeighborsUnif_BAG_L1/',\n",
       "  'KNeighborsDist_BAG_L1': 'AutogluonModels/ag-20220801_100131/models/KNeighborsDist_BAG_L1/',\n",
       "  'LightGBMXT_BAG_L1': 'AutogluonModels/ag-20220801_100131/models/LightGBMXT_BAG_L1/',\n",
       "  'LightGBM_BAG_L1': 'AutogluonModels/ag-20220801_100131/models/LightGBM_BAG_L1/',\n",
       "  'RandomForestMSE_BAG_L1': 'AutogluonModels/ag-20220801_100131/models/RandomForestMSE_BAG_L1/',\n",
       "  'CatBoost_BAG_L1': 'AutogluonModels/ag-20220801_100131/models/CatBoost_BAG_L1/',\n",
       "  'ExtraTreesMSE_BAG_L1': 'AutogluonModels/ag-20220801_100131/models/ExtraTreesMSE_BAG_L1/',\n",
       "  'NeuralNetFastAI_BAG_L1': 'AutogluonModels/ag-20220801_100131/models/NeuralNetFastAI_BAG_L1/',\n",
       "  'WeightedEnsemble_L2': 'AutogluonModels/ag-20220801_100131/models/WeightedEnsemble_L2/',\n",
       "  'LightGBMXT_BAG_L2': 'AutogluonModels/ag-20220801_100131/models/LightGBMXT_BAG_L2/',\n",
       "  'LightGBM_BAG_L2': 'AutogluonModels/ag-20220801_100131/models/LightGBM_BAG_L2/',\n",
       "  'RandomForestMSE_BAG_L2': 'AutogluonModels/ag-20220801_100131/models/RandomForestMSE_BAG_L2/',\n",
       "  'CatBoost_BAG_L2': 'AutogluonModels/ag-20220801_100131/models/CatBoost_BAG_L2/',\n",
       "  'WeightedEnsemble_L3': 'AutogluonModels/ag-20220801_100131/models/WeightedEnsemble_L3/'},\n",
       " 'model_fit_times': {'KNeighborsUnif_BAG_L1': 0.027834415435791016,\n",
       "  'KNeighborsDist_BAG_L1': 0.022089004516601562,\n",
       "  'LightGBMXT_BAG_L1': 118.09519600868225,\n",
       "  'LightGBM_BAG_L1': 59.79274368286133,\n",
       "  'RandomForestMSE_BAG_L1': 12.111030578613281,\n",
       "  'CatBoost_BAG_L1': 170.55388832092285,\n",
       "  'ExtraTreesMSE_BAG_L1': 6.718351125717163,\n",
       "  'NeuralNetFastAI_BAG_L1': 33.005775928497314,\n",
       "  'WeightedEnsemble_L2': 0.5655727386474609,\n",
       "  'LightGBMXT_BAG_L2': 44.95076847076416,\n",
       "  'LightGBM_BAG_L2': 37.96152973175049,\n",
       "  'RandomForestMSE_BAG_L2': 28.51920437812805,\n",
       "  'CatBoost_BAG_L2': 58.546565771102905,\n",
       "  'WeightedEnsemble_L3': 0.2940938472747803},\n",
       " 'model_pred_times': {'KNeighborsUnif_BAG_L1': 0.06038665771484375,\n",
       "  'KNeighborsDist_BAG_L1': 0.06107044219970703,\n",
       "  'LightGBMXT_BAG_L1': 10.367407321929932,\n",
       "  'LightGBM_BAG_L1': 2.836533784866333,\n",
       "  'RandomForestMSE_BAG_L1': 0.7515759468078613,\n",
       "  'CatBoost_BAG_L1': 0.16680145263671875,\n",
       "  'ExtraTreesMSE_BAG_L1': 0.5910298824310303,\n",
       "  'NeuralNetFastAI_BAG_L1': 0.45757436752319336,\n",
       "  'WeightedEnsemble_L2': 0.0010247230529785156,\n",
       "  'LightGBMXT_BAG_L2': 1.1431045532226562,\n",
       "  'LightGBM_BAG_L2': 0.3038339614868164,\n",
       "  'RandomForestMSE_BAG_L2': 0.6398587226867676,\n",
       "  'CatBoost_BAG_L2': 0.11676955223083496,\n",
       "  'WeightedEnsemble_L3': 0.0012705326080322266},\n",
       " 'num_bag_folds': 8,\n",
       " 'max_stack_level': 3,\n",
       " 'model_hyperparams': {'KNeighborsUnif_BAG_L1': {'use_orig_features': True,\n",
       "   'max_base_models': 25,\n",
       "   'max_base_models_per_type': 5,\n",
       "   'save_bag_folds': True,\n",
       "   'use_child_oof': True},\n",
       "  'KNeighborsDist_BAG_L1': {'use_orig_features': True,\n",
       "   'max_base_models': 25,\n",
       "   'max_base_models_per_type': 5,\n",
       "   'save_bag_folds': True,\n",
       "   'use_child_oof': True},\n",
       "  'LightGBMXT_BAG_L1': {'use_orig_features': True,\n",
       "   'max_base_models': 25,\n",
       "   'max_base_models_per_type': 5,\n",
       "   'save_bag_folds': True},\n",
       "  'LightGBM_BAG_L1': {'use_orig_features': True,\n",
       "   'max_base_models': 25,\n",
       "   'max_base_models_per_type': 5,\n",
       "   'save_bag_folds': True},\n",
       "  'RandomForestMSE_BAG_L1': {'use_orig_features': True,\n",
       "   'max_base_models': 25,\n",
       "   'max_base_models_per_type': 5,\n",
       "   'save_bag_folds': True,\n",
       "   'use_child_oof': True},\n",
       "  'CatBoost_BAG_L1': {'use_orig_features': True,\n",
       "   'max_base_models': 25,\n",
       "   'max_base_models_per_type': 5,\n",
       "   'save_bag_folds': True},\n",
       "  'ExtraTreesMSE_BAG_L1': {'use_orig_features': True,\n",
       "   'max_base_models': 25,\n",
       "   'max_base_models_per_type': 5,\n",
       "   'save_bag_folds': True,\n",
       "   'use_child_oof': True},\n",
       "  'NeuralNetFastAI_BAG_L1': {'use_orig_features': True,\n",
       "   'max_base_models': 25,\n",
       "   'max_base_models_per_type': 5,\n",
       "   'save_bag_folds': True},\n",
       "  'WeightedEnsemble_L2': {'use_orig_features': False,\n",
       "   'max_base_models': 25,\n",
       "   'max_base_models_per_type': 5,\n",
       "   'save_bag_folds': True},\n",
       "  'LightGBMXT_BAG_L2': {'use_orig_features': True,\n",
       "   'max_base_models': 25,\n",
       "   'max_base_models_per_type': 5,\n",
       "   'save_bag_folds': True},\n",
       "  'LightGBM_BAG_L2': {'use_orig_features': True,\n",
       "   'max_base_models': 25,\n",
       "   'max_base_models_per_type': 5,\n",
       "   'save_bag_folds': True},\n",
       "  'RandomForestMSE_BAG_L2': {'use_orig_features': True,\n",
       "   'max_base_models': 25,\n",
       "   'max_base_models_per_type': 5,\n",
       "   'save_bag_folds': True,\n",
       "   'use_child_oof': True},\n",
       "  'CatBoost_BAG_L2': {'use_orig_features': True,\n",
       "   'max_base_models': 25,\n",
       "   'max_base_models_per_type': 5,\n",
       "   'save_bag_folds': True},\n",
       "  'WeightedEnsemble_L3': {'use_orig_features': False,\n",
       "   'max_base_models': 25,\n",
       "   'max_base_models_per_type': 5,\n",
       "   'save_bag_folds': True}},\n",
       " 'leaderboard':                      model   score_val  pred_time_val    fit_time  \\\n",
       " 0      WeightedEnsemble_L3  -30.253755      17.497217  570.599071   \n",
       " 1          CatBoost_BAG_L2  -30.591312      15.409149  458.873475   \n",
       " 2          LightGBM_BAG_L2  -30.613456      15.596214  438.288439   \n",
       " 3        LightGBMXT_BAG_L2  -31.074901      16.435484  445.277678   \n",
       " 4   RandomForestMSE_BAG_L2  -31.663318      15.932239  428.846113   \n",
       " 5      WeightedEnsemble_L2  -32.227878      14.184414  361.140520   \n",
       " 6          LightGBM_BAG_L1  -33.917164       2.836534   59.792744   \n",
       " 7          CatBoost_BAG_L1  -34.347631       0.166801  170.553888   \n",
       " 8        LightGBMXT_BAG_L1  -34.481772      10.367407  118.095196   \n",
       " 9     ExtraTreesMSE_BAG_L1  -38.207813       0.591030    6.718351   \n",
       " 10  RandomForestMSE_BAG_L1  -38.417543       0.751576   12.111031   \n",
       " 11   KNeighborsDist_BAG_L1  -84.142866       0.061070    0.022089   \n",
       " 12   KNeighborsUnif_BAG_L1 -101.581543       0.060387    0.027834   \n",
       " 13  NeuralNetFastAI_BAG_L1 -102.945759       0.457574   33.005776   \n",
       " \n",
       "     pred_time_val_marginal  fit_time_marginal  stack_level  can_infer  \\\n",
       " 0                 0.001271           0.294094            3       True   \n",
       " 1                 0.116770          58.546566            2       True   \n",
       " 2                 0.303834          37.961530            2       True   \n",
       " 3                 1.143105          44.950768            2       True   \n",
       " 4                 0.639859          28.519204            2       True   \n",
       " 5                 0.001025           0.565573            2       True   \n",
       " 6                 2.836534          59.792744            1       True   \n",
       " 7                 0.166801         170.553888            1       True   \n",
       " 8                10.367407         118.095196            1       True   \n",
       " 9                 0.591030           6.718351            1       True   \n",
       " 10                0.751576          12.111031            1       True   \n",
       " 11                0.061070           0.022089            1       True   \n",
       " 12                0.060387           0.027834            1       True   \n",
       " 13                0.457574          33.005776            1       True   \n",
       " \n",
       "     fit_order  \n",
       " 0          14  \n",
       " 1          13  \n",
       " 2          11  \n",
       " 3          10  \n",
       " 4          12  \n",
       " 5           9  \n",
       " 6           4  \n",
       " 7           6  \n",
       " 8           3  \n",
       " 9           7  \n",
       " 10          5  \n",
       " 11          2  \n",
       " 12          1  \n",
       " 13          8  }"
      ]
     },
     "execution_count": 27,
     "metadata": {},
     "output_type": "execute_result"
    }
   ],
   "source": [
    "predictor_new_features.fit_summary()"
   ]
  },
  {
   "cell_type": "code",
   "execution_count": 28,
   "id": "b5529822",
   "metadata": {
    "execution": {
     "iopub.execute_input": "2022-08-01T10:11:36.117040Z",
     "iopub.status.busy": "2022-08-01T10:11:36.116602Z",
     "iopub.status.idle": "2022-08-01T10:12:19.713734Z",
     "shell.execute_reply": "2022-08-01T10:12:19.712726Z"
    },
    "papermill": {
     "duration": 43.678978,
     "end_time": "2022-08-01T10:12:19.716400",
     "exception": false,
     "start_time": "2022-08-01T10:11:36.037422",
     "status": "completed"
    },
    "tags": []
   },
   "outputs": [],
   "source": [
    "# Remember to set all negative values to zero\n",
    "prediction = predictor_new_features.predict(test)"
   ]
  },
  {
   "cell_type": "code",
   "execution_count": 29,
   "id": "0846eefe",
   "metadata": {
    "execution": {
     "iopub.execute_input": "2022-08-01T10:12:19.854510Z",
     "iopub.status.busy": "2022-08-01T10:12:19.854113Z",
     "iopub.status.idle": "2022-08-01T10:12:19.861333Z",
     "shell.execute_reply": "2022-08-01T10:12:19.860412Z"
    },
    "papermill": {
     "duration": 0.077268,
     "end_time": "2022-08-01T10:12:19.863699",
     "exception": false,
     "start_time": "2022-08-01T10:12:19.786431",
     "status": "completed"
    },
    "tags": []
   },
   "outputs": [
    {
     "data": {
      "text/plain": [
       "0"
      ]
     },
     "execution_count": 29,
     "metadata": {},
     "output_type": "execute_result"
    }
   ],
   "source": [
    "prediction[prediction < 0].count()"
   ]
  },
  {
   "cell_type": "code",
   "execution_count": 30,
   "id": "cc15c540",
   "metadata": {
    "execution": {
     "iopub.execute_input": "2022-08-01T10:12:19.996202Z",
     "iopub.status.busy": "2022-08-01T10:12:19.995898Z",
     "iopub.status.idle": "2022-08-01T10:12:20.007819Z",
     "shell.execute_reply": "2022-08-01T10:12:20.006940Z"
    },
    "papermill": {
     "duration": 0.080965,
     "end_time": "2022-08-01T10:12:20.009976",
     "exception": false,
     "start_time": "2022-08-01T10:12:19.929011",
     "status": "completed"
    },
    "tags": []
   },
   "outputs": [],
   "source": [
    "# Same thing as train and test dataset\n",
    "submission_new_features = pd.read_csv('/kaggle/input/bike-sharing-demand/sampleSubmission.csv')"
   ]
  },
  {
   "cell_type": "code",
   "execution_count": 31,
   "id": "71e91289",
   "metadata": {
    "execution": {
     "iopub.execute_input": "2022-08-01T10:12:20.143877Z",
     "iopub.status.busy": "2022-08-01T10:12:20.143554Z",
     "iopub.status.idle": "2022-08-01T10:12:20.167988Z",
     "shell.execute_reply": "2022-08-01T10:12:20.167087Z"
    },
    "papermill": {
     "duration": 0.094088,
     "end_time": "2022-08-01T10:12:20.170154",
     "exception": false,
     "start_time": "2022-08-01T10:12:20.076066",
     "status": "completed"
    },
    "tags": []
   },
   "outputs": [],
   "source": [
    "# Same submitting predictions\n",
    "submission_new_features[\"count\"] = prediction\n",
    "submission_new_features.to_csv(\"submission_new_features.csv\", index=False)"
   ]
  },
  {
   "cell_type": "code",
   "execution_count": 32,
   "id": "5e2b8135",
   "metadata": {
    "execution": {
     "iopub.execute_input": "2022-08-01T10:12:20.304464Z",
     "iopub.status.busy": "2022-08-01T10:12:20.303835Z",
     "iopub.status.idle": "2022-08-01T10:12:25.752913Z",
     "shell.execute_reply": "2022-08-01T10:12:25.751731Z"
    },
    "papermill": {
     "duration": 5.519219,
     "end_time": "2022-08-01T10:12:25.755855",
     "exception": false,
     "start_time": "2022-08-01T10:12:20.236636",
     "status": "completed"
    },
    "tags": []
   },
   "outputs": [
    {
     "name": "stdout",
     "output_type": "stream",
     "text": [
      "100%|████████████████████████████████████████| 188k/188k [00:02<00:00, 68.1kB/s]\r\n",
      "Successfully submitted to Bike Sharing Demand"
     ]
    }
   ],
   "source": [
    "!kaggle competitions submit -c bike-sharing-demand -f submission_new_features.csv -m \"new features\""
   ]
  },
  {
   "cell_type": "code",
   "execution_count": 33,
   "id": "736d046b",
   "metadata": {
    "execution": {
     "iopub.execute_input": "2022-08-01T10:12:25.890307Z",
     "iopub.status.busy": "2022-08-01T10:12:25.889923Z",
     "iopub.status.idle": "2022-08-01T10:12:27.346857Z",
     "shell.execute_reply": "2022-08-01T10:12:27.345687Z"
    },
    "papermill": {
     "duration": 1.526149,
     "end_time": "2022-08-01T10:12:27.349145",
     "exception": false,
     "start_time": "2022-08-01T10:12:25.822996",
     "status": "completed"
    },
    "tags": []
   },
   "outputs": [
    {
     "name": "stdout",
     "output_type": "stream",
     "text": [
      "fileName                     date                 description                        status    publicScore  privateScore  \r\n",
      "---------------------------  -------------------  ---------------------------------  --------  -----------  ------------  \r\n",
      "submission_new_features.csv  2022-08-01 10:12:24  new features                       complete  0.65929      0.65929       \r\n",
      "submission.csv               2022-08-01 10:01:24  first raw submission               complete  1.79181      1.79181       \r\n",
      "submission_new_hpo.csv       2022-07-29 22:34:23  new features with hyperparameters  complete  1.80550      1.80550       \r\n",
      "submission_new_features.csv  2022-07-29 22:24:52  new features                       complete  0.69555      0.69555       \r\n"
     ]
    }
   ],
   "source": [
    "!kaggle competitions submissions -c bike-sharing-demand | tail -n +1 | head -n 6"
   ]
  },
  {
   "cell_type": "markdown",
   "id": "48a8c228",
   "metadata": {
    "papermill": {
     "duration": 0.066699,
     "end_time": "2022-08-01T10:12:27.484591",
     "exception": false,
     "start_time": "2022-08-01T10:12:27.417892",
     "status": "completed"
    },
    "tags": []
   },
   "source": [
    "#### New Score of `0.67789`"
   ]
  },
  {
   "cell_type": "markdown",
   "id": "c9f6c2b5",
   "metadata": {
    "papermill": {
     "duration": 0.065867,
     "end_time": "2022-08-01T10:12:27.616067",
     "exception": false,
     "start_time": "2022-08-01T10:12:27.550200",
     "status": "completed"
    },
    "tags": []
   },
   "source": [
    "## Step 6: Hyper parameter optimization\n",
    "* There are many options for hyper parameter optimization.\n",
    "* Options are to change the AutoGluon higher level parameters or the individual model hyperparameters.\n",
    "* The hyperparameters of the models themselves that are in AutoGluon. Those need the `hyperparameter` and `hyperparameter_tune_kwargs` arguments."
   ]
  },
  {
   "cell_type": "code",
   "execution_count": 34,
   "id": "4c0135c0",
   "metadata": {
    "execution": {
     "iopub.execute_input": "2022-08-01T10:12:27.749054Z",
     "iopub.status.busy": "2022-08-01T10:12:27.748669Z",
     "iopub.status.idle": "2022-08-01T10:12:27.759492Z",
     "shell.execute_reply": "2022-08-01T10:12:27.758507Z"
    },
    "papermill": {
     "duration": 0.079902,
     "end_time": "2022-08-01T10:12:27.761806",
     "exception": false,
     "start_time": "2022-08-01T10:12:27.681904",
     "status": "completed"
    },
    "tags": []
   },
   "outputs": [],
   "source": [
    "import autogluon.core as ag\n",
    "\n",
    "nn_options = {  # specifies non-default hyperparameter values for neural network models\n",
    "    'num_epochs': 10,  # number of training epochs (controls training time of NN models)\n",
    "    'learning_rate': ag.space.Real(1e-4, 1e-2, default=5e-4, log=True),  # learning rate used in training (real-valued hyperparameter searched on log-scale)\n",
    "    'activation': ag.space.Categorical('relu', 'softrelu', 'tanh'),  # activation function used in NN (categorical hyperparameter, default = first entry)\n",
    "    'dropout_prob': ag.space.Real(0.0, 0.5, default=0.1),  # dropout probability (real-valued hyperparameter)\n",
    "}\n",
    "\n",
    "gbm_options = {  # specifies non-default hyperparameter values for lightGBM gradient boosted trees\n",
    "    'num_boost_round': 100,  # number of boosting rounds (controls training time of GBM models)\n",
    "    'num_leaves': ag.space.Int(lower=26, upper=66, default=36),  # number of leaves in trees (integer hyperparameter)\n",
    "}\n",
    "\n",
    "hyperparameters = {  # hyperparameters of each model type\n",
    "                   'GBM': gbm_options,\n",
    "                   'NN_TORCH': nn_options,  # NOTE: comment this line out if you get errors on Mac OSX\n",
    "                  }  # When these keys are missing from hyperparameters dict, no models of that type are trained\n",
    "\n",
    "\n",
    "num_trials = 5  # try at most 5 different hyperparameter configurations for each type of model\n",
    "search_strategy = 'auto'  # to tune hyperparameters using random search routine with a local scheduler\n",
    "\n",
    "hyperparameter_tune_kwargs = {  # HPO is not performed unless hyperparameter_tune_kwargs is specified\n",
    "    'num_trials': num_trials,\n",
    "    'scheduler' : 'local',\n",
    "    'searcher': search_strategy,\n",
    "}"
   ]
  },
  {
   "cell_type": "code",
   "execution_count": 35,
   "id": "0f0fdb15",
   "metadata": {
    "execution": {
     "iopub.execute_input": "2022-08-01T10:12:27.896488Z",
     "iopub.status.busy": "2022-08-01T10:12:27.896124Z",
     "iopub.status.idle": "2022-08-01T10:22:41.039084Z",
     "shell.execute_reply": "2022-08-01T10:22:41.038141Z"
    },
    "papermill": {
     "duration": 613.212983,
     "end_time": "2022-08-01T10:22:41.041380",
     "exception": false,
     "start_time": "2022-08-01T10:12:27.828397",
     "status": "completed"
    },
    "tags": []
   },
   "outputs": [
    {
     "name": "stderr",
     "output_type": "stream",
     "text": [
      "No path specified. Models will be saved in: \"AutogluonModels/ag-20220801_101227/\"\n",
      "Presets specified: ['best_quality']\n",
      "Warning: hyperparameter tuning is currently experimental and may cause the process to hang.\n",
      "Stack configuration (auto_stack=True): num_stack_levels=1, num_bag_folds=8, num_bag_sets=20\n",
      "Beginning AutoGluon training ... Time limit = 600s\n",
      "AutoGluon will save models to \"AutogluonModels/ag-20220801_101227/\"\n",
      "AutoGluon Version:  0.5.2\n",
      "Python Version:     3.7.12\n",
      "Operating System:   Linux\n",
      "Train Data Rows:    10886\n",
      "Train Data Columns: 11\n",
      "Label Column: count\n",
      "Preprocessing data ...\n",
      "AutoGluon infers your prediction problem is: 'regression' (because dtype of label-column == int and many unique label-values observed).\n",
      "\tLabel info (max, min, mean, stddev): (977, 1, 191.57413, 181.14445)\n",
      "\tIf 'regression' is not the correct problem_type, please manually specify the problem_type parameter during predictor init (You may specify problem_type as one of: ['binary', 'multiclass', 'regression'])\n",
      "Using Feature Generators to preprocess the data ...\n",
      "Fitting AutoMLPipelineFeatureGenerator...\n",
      "\tAvailable Memory:                    14619.33 MB\n",
      "\tTrain Data (Original)  Memory Usage: 1.55 MB (0.0% of available memory)\n",
      "\tInferring data type of each feature based on column values. Set feature_metadata_in to manually specify special dtypes of the features.\n",
      "\tStage 1 Generators:\n",
      "\t\tFitting AsTypeFeatureGenerator...\n",
      "\t\t\tNote: Converting 2 features to boolean dtype as they only contain 2 unique values.\n",
      "\tStage 2 Generators:\n",
      "\t\tFitting FillNaFeatureGenerator...\n",
      "\tStage 3 Generators:\n",
      "\t\tFitting IdentityFeatureGenerator...\n",
      "\t\tFitting CategoryFeatureGenerator...\n",
      "\t\t\tFitting CategoryMemoryMinimizeFeatureGenerator...\n",
      "\t\tFitting DatetimeFeatureGenerator...\n",
      "\tStage 4 Generators:\n",
      "\t\tFitting DropUniqueFeatureGenerator...\n",
      "\tTypes of features in original data (raw dtype, special dtypes):\n",
      "\t\t('category', [])                   : 2 | ['season', 'weather']\n",
      "\t\t('float', [])                      : 3 | ['temp', 'atemp', 'windspeed']\n",
      "\t\t('int', [])                        : 5 | ['holiday', 'workingday', 'humidity', 'hour', 'month']\n",
      "\t\t('object', ['datetime_as_object']) : 1 | ['datetime']\n",
      "\tTypes of features in processed data (raw dtype, special dtypes):\n",
      "\t\t('category', [])             : 2 | ['season', 'weather']\n",
      "\t\t('float', [])                : 3 | ['temp', 'atemp', 'windspeed']\n",
      "\t\t('int', [])                  : 3 | ['humidity', 'hour', 'month']\n",
      "\t\t('int', ['bool'])            : 2 | ['holiday', 'workingday']\n",
      "\t\t('int', ['datetime_as_int']) : 5 | ['datetime', 'datetime.year', 'datetime.month', 'datetime.day', 'datetime.dayofweek']\n",
      "\t0.1s = Fit runtime\n",
      "\t11 features in original data used to generate 15 features in processed data.\n",
      "\tTrain Data (Processed) Memory Usage: 1.0 MB (0.0% of available memory)\n",
      "Data preprocessing and feature engineering runtime = 0.16s ...\n",
      "AutoGluon will gauge predictive performance using evaluation metric: 'root_mean_squared_error'\n",
      "\tThis metric's sign has been flipped to adhere to being higher_is_better. The metric score can be multiplied by -1 to get the metric value.\n",
      "\tTo change this, specify the eval_metric parameter of Predictor()\n",
      "AutoGluon will fit 2 stack levels (L1 to L2) ...\n",
      "Fitting 2 L1 models ...\n",
      "Hyperparameter tuning model: LightGBM_BAG_L1 ... Tuning model for up to 22.49s of the 599.83s of remaining time.\n"
     ]
    },
    {
     "data": {
      "application/vnd.jupyter.widget-view+json": {
       "model_id": "7e7447b9f64b4da7bf60beed9d76ec35",
       "version_major": 2,
       "version_minor": 0
      },
      "text/plain": [
       "  0%|          | 0/5 [00:00<?, ?it/s]"
      ]
     },
     "metadata": {},
     "output_type": "display_data"
    },
    {
     "name": "stderr",
     "output_type": "stream",
     "text": [
      "Fitted model: LightGBM_BAG_L1/T1 ...\n",
      "\t-39.5016\t = Validation score   (-root_mean_squared_error)\n",
      "\t0.52s\t = Training   runtime\n",
      "\t0.01s\t = Validation runtime\n",
      "Fitted model: LightGBM_BAG_L1/T2 ...\n",
      "\t-37.3314\t = Validation score   (-root_mean_squared_error)\n",
      "\t0.43s\t = Training   runtime\n",
      "\t0.01s\t = Validation runtime\n",
      "Fitted model: LightGBM_BAG_L1/T3 ...\n",
      "\t-36.8153\t = Validation score   (-root_mean_squared_error)\n",
      "\t0.53s\t = Training   runtime\n",
      "\t0.01s\t = Validation runtime\n",
      "Fitted model: LightGBM_BAG_L1/T4 ...\n",
      "\t-121.3477\t = Validation score   (-root_mean_squared_error)\n",
      "\t0.42s\t = Training   runtime\n",
      "\t0.01s\t = Validation runtime\n",
      "Fitted model: LightGBM_BAG_L1/T5 ...\n",
      "\t-42.2975\t = Validation score   (-root_mean_squared_error)\n",
      "\t0.49s\t = Training   runtime\n",
      "\t0.01s\t = Validation runtime\n",
      "Hyperparameter tuning model: NeuralNetTorch_BAG_L1 ... Tuning model for up to 22.49s of the 597.0s of remaining time.\n",
      "2022-08-01 10:12:31,264\tWARNING tune.py:669 -- Tune detects GPUs, but no trials are using GPUs. To enable trials to use GPUs, set tune.run(resources_per_trial={'gpu': 1}...) which allows Tune to expose 1 GPU to each trial. You can also override `Trainable.default_resource_request` if using the Trainable API.\n",
      "Fitted model: NeuralNetTorch_BAG_L1/T1 ...\n",
      "\t-68.0238\t = Validation score   (-root_mean_squared_error)\n",
      "\t8.74s\t = Training   runtime\n",
      "\t0.05s\t = Validation runtime\n",
      "Fitted model: NeuralNetTorch_BAG_L1/T2 ...\n",
      "\t-68.9047\t = Validation score   (-root_mean_squared_error)\n",
      "\t9.44s\t = Training   runtime\n",
      "\t0.06s\t = Validation runtime\n",
      "Fitted model: NeuralNetTorch_BAG_L1/T3 ...\n",
      "\t-154.6925\t = Validation score   (-root_mean_squared_error)\n",
      "\t1.89s\t = Training   runtime\n",
      "\t0.04s\t = Validation runtime\n",
      "Fitted model: NeuralNetTorch_BAG_L1/T4 ...\n",
      "\t-136.5003\t = Validation score   (-root_mean_squared_error)\n",
      "\t1.4s\t = Training   runtime\n",
      "\t0.04s\t = Validation runtime\n",
      "Fitting model: LightGBM_BAG_L1/T1 ... Training model for up to 378.32s of the 578.36s of remaining time.\n",
      "\tFitting 7 child models (S1F2 - S1F8) | Fitting with ParallelLocalFoldFittingStrategy\n",
      "\t-40.2554\t = Validation score   (-root_mean_squared_error)\n",
      "\t27.71s\t = Training   runtime\n",
      "\t0.15s\t = Validation runtime\n",
      "Fitting model: LightGBM_BAG_L1/T2 ... Training model for up to 347.87s of the 547.91s of remaining time.\n",
      "\tFitting 7 child models (S1F2 - S1F8) | Fitting with ParallelLocalFoldFittingStrategy\n",
      "\t-39.0341\t = Validation score   (-root_mean_squared_error)\n",
      "\t26.82s\t = Training   runtime\n",
      "\t0.14s\t = Validation runtime\n",
      "Fitting model: LightGBM_BAG_L1/T3 ... Training model for up to 317.84s of the 517.89s of remaining time.\n",
      "\tFitting 7 child models (S1F2 - S1F8) | Fitting with ParallelLocalFoldFittingStrategy\n",
      "\t-38.4615\t = Validation score   (-root_mean_squared_error)\n",
      "\t27.46s\t = Training   runtime\n",
      "\t0.16s\t = Validation runtime\n",
      "Fitting model: LightGBM_BAG_L1/T4 ... Training model for up to 286.44s of the 486.48s of remaining time.\n",
      "\tFitting 7 child models (S1F2 - S1F8) | Fitting with ParallelLocalFoldFittingStrategy\n",
      "\t-122.2468\t = Validation score   (-root_mean_squared_error)\n",
      "\t27.82s\t = Training   runtime\n",
      "\t0.13s\t = Validation runtime\n",
      "Fitting model: LightGBM_BAG_L1/T5 ... Training model for up to 255.21s of the 455.26s of remaining time.\n",
      "\tFitting 7 child models (S1F2 - S1F8) | Fitting with ParallelLocalFoldFittingStrategy\n",
      "\t-43.3455\t = Validation score   (-root_mean_squared_error)\n",
      "\t27.36s\t = Training   runtime\n",
      "\t0.14s\t = Validation runtime\n",
      "Fitting model: NeuralNetTorch_BAG_L1/T1 ... Training model for up to 224.79s of the 424.83s of remaining time.\n",
      "\tFitting 7 child models (S1F2 - S1F8) | Fitting with ParallelLocalFoldFittingStrategy\n",
      "\t-68.7216\t = Validation score   (-root_mean_squared_error)\n",
      "\t48.91s\t = Training   runtime\n",
      "\t0.3s\t = Validation runtime\n",
      "Fitting model: NeuralNetTorch_BAG_L1/T2 ... Training model for up to 181.08s of the 381.13s of remaining time.\n",
      "\tFitting 7 child models (S1F2 - S1F8) | Fitting with ParallelLocalFoldFittingStrategy\n",
      "\t-70.4399\t = Validation score   (-root_mean_squared_error)\n",
      "\t50.62s\t = Training   runtime\n",
      "\t0.38s\t = Validation runtime\n",
      "Fitting model: NeuralNetTorch_BAG_L1/T3 ... Training model for up to 135.7s of the 335.74s of remaining time.\n",
      "\tFitting 7 child models (S1F2 - S1F8) | Fitting with ParallelLocalFoldFittingStrategy\n",
      "\t-144.12\t = Validation score   (-root_mean_squared_error)\n",
      "\t52.63s\t = Training   runtime\n",
      "\t0.3s\t = Validation runtime\n",
      "Fitting model: NeuralNetTorch_BAG_L1/T4 ... Training model for up to 81.44s of the 281.49s of remaining time.\n",
      "\tFitting 7 child models (S1F2 - S1F8) | Fitting with ParallelLocalFoldFittingStrategy\n",
      "\t-104.9512\t = Validation score   (-root_mean_squared_error)\n",
      "\t44.0s\t = Training   runtime\n",
      "\t0.35s\t = Validation runtime\n",
      "Completed 1/20 k-fold bagging repeats ...\n",
      "Fitting model: WeightedEnsemble_L2 ... Training model for up to 360.0s of the 235.49s of remaining time.\n",
      "\t-38.0967\t = Validation score   (-root_mean_squared_error)\n",
      "\t0.56s\t = Training   runtime\n",
      "\t0.0s\t = Validation runtime\n",
      "Fitting 2 L2 models ...\n",
      "Hyperparameter tuning model: LightGBM_BAG_L2 ... Tuning model for up to 13.21s of the 234.9s of remaining time.\n"
     ]
    },
    {
     "data": {
      "application/vnd.jupyter.widget-view+json": {
       "model_id": "707278e369a6489a8f209e6462061134",
       "version_major": 2,
       "version_minor": 0
      },
      "text/plain": [
       "  0%|          | 0/5 [00:00<?, ?it/s]"
      ]
     },
     "metadata": {},
     "output_type": "display_data"
    },
    {
     "name": "stderr",
     "output_type": "stream",
     "text": [
      "Fitted model: LightGBM_BAG_L2/T1 ...\n",
      "\t-40.2671\t = Validation score   (-root_mean_squared_error)\n",
      "\t0.82s\t = Training   runtime\n",
      "\t0.02s\t = Validation runtime\n",
      "Fitted model: LightGBM_BAG_L2/T2 ...\n",
      "\t-39.687\t = Validation score   (-root_mean_squared_error)\n",
      "\t0.55s\t = Training   runtime\n",
      "\t0.01s\t = Validation runtime\n",
      "Fitted model: LightGBM_BAG_L2/T3 ...\n",
      "\t-40.3459\t = Validation score   (-root_mean_squared_error)\n",
      "\t0.75s\t = Training   runtime\n",
      "\t0.01s\t = Validation runtime\n",
      "Fitted model: LightGBM_BAG_L2/T4 ...\n",
      "\t-102.5682\t = Validation score   (-root_mean_squared_error)\n",
      "\t0.61s\t = Training   runtime\n",
      "\t0.01s\t = Validation runtime\n",
      "Fitted model: LightGBM_BAG_L2/T5 ...\n",
      "\t-40.7328\t = Validation score   (-root_mean_squared_error)\n",
      "\t0.69s\t = Training   runtime\n",
      "\t0.01s\t = Validation runtime\n",
      "Hyperparameter tuning model: NeuralNetTorch_BAG_L2 ... Tuning model for up to 13.21s of the 231.0s of remaining time.\n",
      "2022-08-01 10:18:36,975\tWARNING tune.py:669 -- Tune detects GPUs, but no trials are using GPUs. To enable trials to use GPUs, set tune.run(resources_per_trial={'gpu': 1}...) which allows Tune to expose 1 GPU to each trial. You can also override `Trainable.default_resource_request` if using the Trainable API.\n",
      "Fitted model: NeuralNetTorch_BAG_L2/T1 ...\n",
      "\t-46.9669\t = Validation score   (-root_mean_squared_error)\n",
      "\t4.55s\t = Training   runtime\n",
      "\t0.07s\t = Validation runtime\n",
      "Fitted model: NeuralNetTorch_BAG_L2/T2 ...\n",
      "\t-43.4799\t = Validation score   (-root_mean_squared_error)\n",
      "\t4.03s\t = Training   runtime\n",
      "\t0.05s\t = Validation runtime\n",
      "Fitting model: LightGBM_BAG_L2/T1 ... Training model for up to 219.13s of the 219.11s of remaining time.\n",
      "\tFitting 7 child models (S1F2 - S1F8) | Fitting with ParallelLocalFoldFittingStrategy\n",
      "\t-37.1081\t = Validation score   (-root_mean_squared_error)\n",
      "\t29.0s\t = Training   runtime\n",
      "\t0.14s\t = Validation runtime\n",
      "Fitting model: LightGBM_BAG_L2/T2 ... Training model for up to 187.35s of the 187.34s of remaining time.\n",
      "\tFitting 7 child models (S1F2 - S1F8) | Fitting with ParallelLocalFoldFittingStrategy\n",
      "\t-36.9579\t = Validation score   (-root_mean_squared_error)\n",
      "\t28.86s\t = Training   runtime\n",
      "\t0.13s\t = Validation runtime\n",
      "Fitting model: LightGBM_BAG_L2/T3 ... Training model for up to 154.98s of the 154.97s of remaining time.\n",
      "\tFitting 7 child models (S1F2 - S1F8) | Fitting with ParallelLocalFoldFittingStrategy\n",
      "\t-37.0477\t = Validation score   (-root_mean_squared_error)\n",
      "\t29.13s\t = Training   runtime\n",
      "\t0.15s\t = Validation runtime\n",
      "Fitting model: LightGBM_BAG_L2/T4 ... Training model for up to 122.64s of the 122.62s of remaining time.\n",
      "\tFitting 7 child models (S1F2 - S1F8) | Fitting with ParallelLocalFoldFittingStrategy\n",
      "\t-102.9391\t = Validation score   (-root_mean_squared_error)\n",
      "\t28.15s\t = Training   runtime\n",
      "\t0.12s\t = Validation runtime\n",
      "Fitting model: LightGBM_BAG_L2/T5 ... Training model for up to 91.12s of the 91.11s of remaining time.\n",
      "\tFitting 7 child models (S1F2 - S1F8) | Fitting with ParallelLocalFoldFittingStrategy\n",
      "\t-37.5763\t = Validation score   (-root_mean_squared_error)\n",
      "\t28.75s\t = Training   runtime\n",
      "\t0.15s\t = Validation runtime\n",
      "Fitting model: NeuralNetTorch_BAG_L2/T1 ... Training model for up to 59.57s of the 59.56s of remaining time.\n",
      "\tFitting 7 child models (S1F2 - S1F8) | Fitting with ParallelLocalFoldFittingStrategy\n",
      "\t-43.5825\t = Validation score   (-root_mean_squared_error)\n",
      "\t45.11s\t = Training   runtime\n",
      "\t0.45s\t = Validation runtime\n",
      "Fitting model: NeuralNetTorch_BAG_L2/T2 ... Training model for up to 14.77s of the 14.76s of remaining time.\n",
      "\tFitting 7 child models (S1F2 - S1F8) | Fitting with ParallelLocalFoldFittingStrategy\n",
      "\t-42.0146\t = Validation score   (-root_mean_squared_error)\n",
      "\t27.65s\t = Training   runtime\n",
      "\t0.42s\t = Validation runtime\n",
      "Completed 1/20 k-fold bagging repeats ...\n",
      "Fitting model: WeightedEnsemble_L3 ... Training model for up to 360.0s of the -12.47s of remaining time.\n",
      "\t-36.715\t = Validation score   (-root_mean_squared_error)\n",
      "\t0.61s\t = Training   runtime\n",
      "\t0.0s\t = Validation runtime\n",
      "AutoGluon training complete, total runtime = 613.11s ... Best model: \"WeightedEnsemble_L3\"\n",
      "TabularPredictor saved. To load, use: predictor = TabularPredictor.load(\"AutogluonModels/ag-20220801_101227/\")\n"
     ]
    }
   ],
   "source": [
    "predictor_new_hpo = TabularPredictor(label='count',eval_metric='root_mean_squared_error').fit(train_data= train.drop(['casual','registered'],axis=1),time_limit = 600, presets=\"best_quality\",\n",
    "                                                                                                hyperparameters=hyperparameters, hyperparameter_tune_kwargs=hyperparameter_tune_kwargs)"
   ]
  },
  {
   "cell_type": "code",
   "execution_count": 36,
   "id": "58fb9876",
   "metadata": {
    "execution": {
     "iopub.execute_input": "2022-08-01T10:22:41.216782Z",
     "iopub.status.busy": "2022-08-01T10:22:41.216212Z",
     "iopub.status.idle": "2022-08-01T10:22:41.268126Z",
     "shell.execute_reply": "2022-08-01T10:22:41.266575Z"
    },
    "papermill": {
     "duration": 0.140094,
     "end_time": "2022-08-01T10:22:41.270751",
     "exception": false,
     "start_time": "2022-08-01T10:22:41.130657",
     "status": "completed"
    },
    "tags": []
   },
   "outputs": [
    {
     "name": "stdout",
     "output_type": "stream",
     "text": [
      "*** Summary of fit() ***\n",
      "Estimated performance of each model:\n",
      "                       model   score_val  pred_time_val    fit_time  pred_time_val_marginal  fit_time_marginal  stack_level  can_infer  fit_order\n",
      "0        WeightedEnsemble_L3  -36.715017       3.209425  464.701185                0.000737           0.608230            3       True         18\n",
      "1         LightGBM_BAG_L2/T2  -36.957929       2.187917  362.201766                0.132807          28.861479            2       True         12\n",
      "2         LightGBM_BAG_L2/T3  -37.047726       2.200758  362.471632                0.145647          29.131345            2       True         13\n",
      "3         LightGBM_BAG_L2/T1  -37.108146       2.191892  362.340611                0.136782          29.000325            2       True         11\n",
      "4         LightGBM_BAG_L2/T5  -37.576281       2.203702  362.086661                0.148592          28.746374            2       True         15\n",
      "5        WeightedEnsemble_L2  -38.096736       0.302540   54.840156                0.000972           0.558569            2       True         10\n",
      "6         LightGBM_BAG_L1/T3  -38.461457       0.159657   27.460162                0.159657          27.460162            1       True          3\n",
      "7         LightGBM_BAG_L1/T2  -39.034060       0.141911   26.821424                0.141911          26.821424            1       True          2\n",
      "8         LightGBM_BAG_L1/T1  -40.255449       0.147510   27.712567                0.147510          27.712567            1       True          1\n",
      "9   NeuralNetTorch_BAG_L2/T2  -42.014631       2.477422  360.991834                0.422312          27.651548            2       True         17\n",
      "10        LightGBM_BAG_L1/T5  -43.345481       0.137759   27.355591                0.137759          27.355591            1       True          5\n",
      "11  NeuralNetTorch_BAG_L2/T1  -43.582534       2.507922  378.448583                0.452811          45.108296            2       True         16\n",
      "12  NeuralNetTorch_BAG_L1/T1  -68.721624       0.297007   48.912849                0.297007          48.912849            1       True          6\n",
      "13  NeuralNetTorch_BAG_L1/T2  -70.439915       0.378803   50.622160                0.378803          50.622160            1       True          7\n",
      "14        LightGBM_BAG_L2/T4 -102.939067       2.173564  361.490420                0.118454          28.150133            2       True         14\n",
      "15  NeuralNetTorch_BAG_L1/T4 -104.951228       0.353242   44.002953                0.353242          44.002953            1       True          9\n",
      "16        LightGBM_BAG_L1/T4 -122.246828       0.134447   27.818250                0.134447          27.818250            1       True          4\n",
      "17  NeuralNetTorch_BAG_L1/T3 -144.120019       0.304775   52.634329                0.304775          52.634329            1       True          8\n",
      "Number of models trained: 18\n",
      "Types of models trained:\n",
      "{'StackerEnsembleModel_LGB', 'StackerEnsembleModel_TabularNeuralNetTorch', 'WeightedEnsembleModel'}\n",
      "Bagging used: True  (with 8 folds)\n",
      "Multi-layer stack-ensembling used: True  (with 3 levels)\n",
      "Feature Metadata (Processed):\n",
      "(raw dtype, special dtypes):\n",
      "('category', [])             : 2 | ['season', 'weather']\n",
      "('float', [])                : 3 | ['temp', 'atemp', 'windspeed']\n",
      "('int', [])                  : 3 | ['humidity', 'hour', 'month']\n",
      "('int', ['bool'])            : 2 | ['holiday', 'workingday']\n",
      "('int', ['datetime_as_int']) : 5 | ['datetime', 'datetime.year', 'datetime.month', 'datetime.day', 'datetime.dayofweek']\n",
      "*** End of fit() summary ***\n"
     ]
    },
    {
     "name": "stderr",
     "output_type": "stream",
     "text": [
      "/opt/conda/lib/python3.7/site-packages/autogluon/core/utils/plots.py:138: UserWarning: AutoGluon summary plots cannot be created because bokeh is not installed. To see plots, please do: \"pip install bokeh==2.0.1\"\n",
      "  warnings.warn('AutoGluon summary plots cannot be created because bokeh is not installed. To see plots, please do: \"pip install bokeh==2.0.1\"')\n"
     ]
    },
    {
     "data": {
      "text/plain": [
       "{'model_types': {'LightGBM_BAG_L1/T1': 'StackerEnsembleModel_LGB',\n",
       "  'LightGBM_BAG_L1/T2': 'StackerEnsembleModel_LGB',\n",
       "  'LightGBM_BAG_L1/T3': 'StackerEnsembleModel_LGB',\n",
       "  'LightGBM_BAG_L1/T4': 'StackerEnsembleModel_LGB',\n",
       "  'LightGBM_BAG_L1/T5': 'StackerEnsembleModel_LGB',\n",
       "  'NeuralNetTorch_BAG_L1/T1': 'StackerEnsembleModel_TabularNeuralNetTorch',\n",
       "  'NeuralNetTorch_BAG_L1/T2': 'StackerEnsembleModel_TabularNeuralNetTorch',\n",
       "  'NeuralNetTorch_BAG_L1/T3': 'StackerEnsembleModel_TabularNeuralNetTorch',\n",
       "  'NeuralNetTorch_BAG_L1/T4': 'StackerEnsembleModel_TabularNeuralNetTorch',\n",
       "  'WeightedEnsemble_L2': 'WeightedEnsembleModel',\n",
       "  'LightGBM_BAG_L2/T1': 'StackerEnsembleModel_LGB',\n",
       "  'LightGBM_BAG_L2/T2': 'StackerEnsembleModel_LGB',\n",
       "  'LightGBM_BAG_L2/T3': 'StackerEnsembleModel_LGB',\n",
       "  'LightGBM_BAG_L2/T4': 'StackerEnsembleModel_LGB',\n",
       "  'LightGBM_BAG_L2/T5': 'StackerEnsembleModel_LGB',\n",
       "  'NeuralNetTorch_BAG_L2/T1': 'StackerEnsembleModel_TabularNeuralNetTorch',\n",
       "  'NeuralNetTorch_BAG_L2/T2': 'StackerEnsembleModel_TabularNeuralNetTorch',\n",
       "  'WeightedEnsemble_L3': 'WeightedEnsembleModel'},\n",
       " 'model_performance': {'LightGBM_BAG_L1/T1': -40.255448619289915,\n",
       "  'LightGBM_BAG_L1/T2': -39.03406015906116,\n",
       "  'LightGBM_BAG_L1/T3': -38.4614569209156,\n",
       "  'LightGBM_BAG_L1/T4': -122.24682788866268,\n",
       "  'LightGBM_BAG_L1/T5': -43.34548093563512,\n",
       "  'NeuralNetTorch_BAG_L1/T1': -68.72162431225743,\n",
       "  'NeuralNetTorch_BAG_L1/T2': -70.43991474253062,\n",
       "  'NeuralNetTorch_BAG_L1/T3': -144.12001938213615,\n",
       "  'NeuralNetTorch_BAG_L1/T4': -104.95122751383519,\n",
       "  'WeightedEnsemble_L2': -38.09673552886356,\n",
       "  'LightGBM_BAG_L2/T1': -37.10814646739857,\n",
       "  'LightGBM_BAG_L2/T2': -36.957928658872596,\n",
       "  'LightGBM_BAG_L2/T3': -37.047726049590715,\n",
       "  'LightGBM_BAG_L2/T4': -102.93906712979816,\n",
       "  'LightGBM_BAG_L2/T5': -37.576280928286636,\n",
       "  'NeuralNetTorch_BAG_L2/T1': -43.58253363468949,\n",
       "  'NeuralNetTorch_BAG_L2/T2': -42.01463129722871,\n",
       "  'WeightedEnsemble_L3': -36.715017150189695},\n",
       " 'model_best': 'WeightedEnsemble_L3',\n",
       " 'model_paths': {'LightGBM_BAG_L1/T1': 'AutogluonModels/ag-20220801_101227/models/LightGBM_BAG_L1/T1/',\n",
       "  'LightGBM_BAG_L1/T2': 'AutogluonModels/ag-20220801_101227/models/LightGBM_BAG_L1/T2/',\n",
       "  'LightGBM_BAG_L1/T3': 'AutogluonModels/ag-20220801_101227/models/LightGBM_BAG_L1/T3/',\n",
       "  'LightGBM_BAG_L1/T4': 'AutogluonModels/ag-20220801_101227/models/LightGBM_BAG_L1/T4/',\n",
       "  'LightGBM_BAG_L1/T5': 'AutogluonModels/ag-20220801_101227/models/LightGBM_BAG_L1/T5/',\n",
       "  'NeuralNetTorch_BAG_L1/T1': 'AutogluonModels/ag-20220801_101227/models/NeuralNetTorch_BAG_L1/T1/',\n",
       "  'NeuralNetTorch_BAG_L1/T2': 'AutogluonModels/ag-20220801_101227/models/NeuralNetTorch_BAG_L1/T2/',\n",
       "  'NeuralNetTorch_BAG_L1/T3': 'AutogluonModels/ag-20220801_101227/models/NeuralNetTorch_BAG_L1/T3/',\n",
       "  'NeuralNetTorch_BAG_L1/T4': 'AutogluonModels/ag-20220801_101227/models/NeuralNetTorch_BAG_L1/T4/',\n",
       "  'WeightedEnsemble_L2': 'AutogluonModels/ag-20220801_101227/models/WeightedEnsemble_L2/',\n",
       "  'LightGBM_BAG_L2/T1': 'AutogluonModels/ag-20220801_101227/models/LightGBM_BAG_L2/T1/',\n",
       "  'LightGBM_BAG_L2/T2': 'AutogluonModels/ag-20220801_101227/models/LightGBM_BAG_L2/T2/',\n",
       "  'LightGBM_BAG_L2/T3': 'AutogluonModels/ag-20220801_101227/models/LightGBM_BAG_L2/T3/',\n",
       "  'LightGBM_BAG_L2/T4': 'AutogluonModels/ag-20220801_101227/models/LightGBM_BAG_L2/T4/',\n",
       "  'LightGBM_BAG_L2/T5': 'AutogluonModels/ag-20220801_101227/models/LightGBM_BAG_L2/T5/',\n",
       "  'NeuralNetTorch_BAG_L2/T1': 'AutogluonModels/ag-20220801_101227/models/NeuralNetTorch_BAG_L2/T1/',\n",
       "  'NeuralNetTorch_BAG_L2/T2': 'AutogluonModels/ag-20220801_101227/models/NeuralNetTorch_BAG_L2/T2/',\n",
       "  'WeightedEnsemble_L3': 'AutogluonModels/ag-20220801_101227/models/WeightedEnsemble_L3/'},\n",
       " 'model_fit_times': {'LightGBM_BAG_L1/T1': 27.71256685256958,\n",
       "  'LightGBM_BAG_L1/T2': 26.82142424583435,\n",
       "  'LightGBM_BAG_L1/T3': 27.46016216278076,\n",
       "  'LightGBM_BAG_L1/T4': 27.81825041770935,\n",
       "  'LightGBM_BAG_L1/T5': 27.35559105873108,\n",
       "  'NeuralNetTorch_BAG_L1/T1': 48.91284918785095,\n",
       "  'NeuralNetTorch_BAG_L1/T2': 50.6221604347229,\n",
       "  'NeuralNetTorch_BAG_L1/T3': 52.634329319000244,\n",
       "  'NeuralNetTorch_BAG_L1/T4': 44.00295305252075,\n",
       "  'WeightedEnsemble_L2': 0.5585691928863525,\n",
       "  'LightGBM_BAG_L2/T1': 29.000324726104736,\n",
       "  'LightGBM_BAG_L2/T2': 28.86147928237915,\n",
       "  'LightGBM_BAG_L2/T3': 29.13134527206421,\n",
       "  'LightGBM_BAG_L2/T4': 28.15013337135315,\n",
       "  'LightGBM_BAG_L2/T5': 28.746374130249023,\n",
       "  'NeuralNetTorch_BAG_L2/T1': 45.108295917510986,\n",
       "  'NeuralNetTorch_BAG_L2/T2': 27.65154767036438,\n",
       "  'WeightedEnsemble_L3': 0.6082298755645752},\n",
       " 'model_pred_times': {'LightGBM_BAG_L1/T1': 0.14750981330871582,\n",
       "  'LightGBM_BAG_L1/T2': 0.14191102981567383,\n",
       "  'LightGBM_BAG_L1/T3': 0.15965723991394043,\n",
       "  'LightGBM_BAG_L1/T4': 0.1344470977783203,\n",
       "  'LightGBM_BAG_L1/T5': 0.13775873184204102,\n",
       "  'NeuralNetTorch_BAG_L1/T1': 0.29700660705566406,\n",
       "  'NeuralNetTorch_BAG_L1/T2': 0.3788025379180908,\n",
       "  'NeuralNetTorch_BAG_L1/T3': 0.3047749996185303,\n",
       "  'NeuralNetTorch_BAG_L1/T4': 0.3532423973083496,\n",
       "  'WeightedEnsemble_L2': 0.0009715557098388672,\n",
       "  'LightGBM_BAG_L2/T1': 0.13678193092346191,\n",
       "  'LightGBM_BAG_L2/T2': 0.13280677795410156,\n",
       "  'LightGBM_BAG_L2/T3': 0.14564728736877441,\n",
       "  'LightGBM_BAG_L2/T4': 0.1184535026550293,\n",
       "  'LightGBM_BAG_L2/T5': 0.1485917568206787,\n",
       "  'NeuralNetTorch_BAG_L2/T1': 0.45281147956848145,\n",
       "  'NeuralNetTorch_BAG_L2/T2': 0.42231178283691406,\n",
       "  'WeightedEnsemble_L3': 0.0007371902465820312},\n",
       " 'num_bag_folds': 8,\n",
       " 'max_stack_level': 3,\n",
       " 'model_hyperparams': {'LightGBM_BAG_L1/T1': {'use_orig_features': True,\n",
       "   'max_base_models': 25,\n",
       "   'max_base_models_per_type': 5,\n",
       "   'save_bag_folds': True},\n",
       "  'LightGBM_BAG_L1/T2': {'use_orig_features': True,\n",
       "   'max_base_models': 25,\n",
       "   'max_base_models_per_type': 5,\n",
       "   'save_bag_folds': True},\n",
       "  'LightGBM_BAG_L1/T3': {'use_orig_features': True,\n",
       "   'max_base_models': 25,\n",
       "   'max_base_models_per_type': 5,\n",
       "   'save_bag_folds': True},\n",
       "  'LightGBM_BAG_L1/T4': {'use_orig_features': True,\n",
       "   'max_base_models': 25,\n",
       "   'max_base_models_per_type': 5,\n",
       "   'save_bag_folds': True},\n",
       "  'LightGBM_BAG_L1/T5': {'use_orig_features': True,\n",
       "   'max_base_models': 25,\n",
       "   'max_base_models_per_type': 5,\n",
       "   'save_bag_folds': True},\n",
       "  'NeuralNetTorch_BAG_L1/T1': {'use_orig_features': True,\n",
       "   'max_base_models': 25,\n",
       "   'max_base_models_per_type': 5,\n",
       "   'save_bag_folds': True},\n",
       "  'NeuralNetTorch_BAG_L1/T2': {'use_orig_features': True,\n",
       "   'max_base_models': 25,\n",
       "   'max_base_models_per_type': 5,\n",
       "   'save_bag_folds': True},\n",
       "  'NeuralNetTorch_BAG_L1/T3': {'use_orig_features': True,\n",
       "   'max_base_models': 25,\n",
       "   'max_base_models_per_type': 5,\n",
       "   'save_bag_folds': True},\n",
       "  'NeuralNetTorch_BAG_L1/T4': {'use_orig_features': True,\n",
       "   'max_base_models': 25,\n",
       "   'max_base_models_per_type': 5,\n",
       "   'save_bag_folds': True},\n",
       "  'WeightedEnsemble_L2': {'use_orig_features': False,\n",
       "   'max_base_models': 25,\n",
       "   'max_base_models_per_type': 5,\n",
       "   'save_bag_folds': True},\n",
       "  'LightGBM_BAG_L2/T1': {'use_orig_features': True,\n",
       "   'max_base_models': 25,\n",
       "   'max_base_models_per_type': 5,\n",
       "   'save_bag_folds': True},\n",
       "  'LightGBM_BAG_L2/T2': {'use_orig_features': True,\n",
       "   'max_base_models': 25,\n",
       "   'max_base_models_per_type': 5,\n",
       "   'save_bag_folds': True},\n",
       "  'LightGBM_BAG_L2/T3': {'use_orig_features': True,\n",
       "   'max_base_models': 25,\n",
       "   'max_base_models_per_type': 5,\n",
       "   'save_bag_folds': True},\n",
       "  'LightGBM_BAG_L2/T4': {'use_orig_features': True,\n",
       "   'max_base_models': 25,\n",
       "   'max_base_models_per_type': 5,\n",
       "   'save_bag_folds': True},\n",
       "  'LightGBM_BAG_L2/T5': {'use_orig_features': True,\n",
       "   'max_base_models': 25,\n",
       "   'max_base_models_per_type': 5,\n",
       "   'save_bag_folds': True},\n",
       "  'NeuralNetTorch_BAG_L2/T1': {'use_orig_features': True,\n",
       "   'max_base_models': 25,\n",
       "   'max_base_models_per_type': 5,\n",
       "   'save_bag_folds': True},\n",
       "  'NeuralNetTorch_BAG_L2/T2': {'use_orig_features': True,\n",
       "   'max_base_models': 25,\n",
       "   'max_base_models_per_type': 5,\n",
       "   'save_bag_folds': True},\n",
       "  'WeightedEnsemble_L3': {'use_orig_features': False,\n",
       "   'max_base_models': 25,\n",
       "   'max_base_models_per_type': 5,\n",
       "   'save_bag_folds': True}},\n",
       " 'leaderboard':                        model   score_val  pred_time_val    fit_time  \\\n",
       " 0        WeightedEnsemble_L3  -36.715017       3.209425  464.701185   \n",
       " 1         LightGBM_BAG_L2/T2  -36.957929       2.187917  362.201766   \n",
       " 2         LightGBM_BAG_L2/T3  -37.047726       2.200758  362.471632   \n",
       " 3         LightGBM_BAG_L2/T1  -37.108146       2.191892  362.340611   \n",
       " 4         LightGBM_BAG_L2/T5  -37.576281       2.203702  362.086661   \n",
       " 5        WeightedEnsemble_L2  -38.096736       0.302540   54.840156   \n",
       " 6         LightGBM_BAG_L1/T3  -38.461457       0.159657   27.460162   \n",
       " 7         LightGBM_BAG_L1/T2  -39.034060       0.141911   26.821424   \n",
       " 8         LightGBM_BAG_L1/T1  -40.255449       0.147510   27.712567   \n",
       " 9   NeuralNetTorch_BAG_L2/T2  -42.014631       2.477422  360.991834   \n",
       " 10        LightGBM_BAG_L1/T5  -43.345481       0.137759   27.355591   \n",
       " 11  NeuralNetTorch_BAG_L2/T1  -43.582534       2.507922  378.448583   \n",
       " 12  NeuralNetTorch_BAG_L1/T1  -68.721624       0.297007   48.912849   \n",
       " 13  NeuralNetTorch_BAG_L1/T2  -70.439915       0.378803   50.622160   \n",
       " 14        LightGBM_BAG_L2/T4 -102.939067       2.173564  361.490420   \n",
       " 15  NeuralNetTorch_BAG_L1/T4 -104.951228       0.353242   44.002953   \n",
       " 16        LightGBM_BAG_L1/T4 -122.246828       0.134447   27.818250   \n",
       " 17  NeuralNetTorch_BAG_L1/T3 -144.120019       0.304775   52.634329   \n",
       " \n",
       "     pred_time_val_marginal  fit_time_marginal  stack_level  can_infer  \\\n",
       " 0                 0.000737           0.608230            3       True   \n",
       " 1                 0.132807          28.861479            2       True   \n",
       " 2                 0.145647          29.131345            2       True   \n",
       " 3                 0.136782          29.000325            2       True   \n",
       " 4                 0.148592          28.746374            2       True   \n",
       " 5                 0.000972           0.558569            2       True   \n",
       " 6                 0.159657          27.460162            1       True   \n",
       " 7                 0.141911          26.821424            1       True   \n",
       " 8                 0.147510          27.712567            1       True   \n",
       " 9                 0.422312          27.651548            2       True   \n",
       " 10                0.137759          27.355591            1       True   \n",
       " 11                0.452811          45.108296            2       True   \n",
       " 12                0.297007          48.912849            1       True   \n",
       " 13                0.378803          50.622160            1       True   \n",
       " 14                0.118454          28.150133            2       True   \n",
       " 15                0.353242          44.002953            1       True   \n",
       " 16                0.134447          27.818250            1       True   \n",
       " 17                0.304775          52.634329            1       True   \n",
       " \n",
       "     fit_order  \n",
       " 0          18  \n",
       " 1          12  \n",
       " 2          13  \n",
       " 3          11  \n",
       " 4          15  \n",
       " 5          10  \n",
       " 6           3  \n",
       " 7           2  \n",
       " 8           1  \n",
       " 9          17  \n",
       " 10          5  \n",
       " 11         16  \n",
       " 12          6  \n",
       " 13          7  \n",
       " 14         14  \n",
       " 15          9  \n",
       " 16          4  \n",
       " 17          8  }"
      ]
     },
     "execution_count": 36,
     "metadata": {},
     "output_type": "execute_result"
    }
   ],
   "source": [
    "predictor_new_hpo.fit_summary()"
   ]
  },
  {
   "cell_type": "code",
   "execution_count": 37,
   "id": "30854bfa",
   "metadata": {
    "execution": {
     "iopub.execute_input": "2022-08-01T10:22:41.442117Z",
     "iopub.status.busy": "2022-08-01T10:22:41.441766Z",
     "iopub.status.idle": "2022-08-01T10:22:49.790935Z",
     "shell.execute_reply": "2022-08-01T10:22:49.789927Z"
    },
    "papermill": {
     "duration": 8.436299,
     "end_time": "2022-08-01T10:22:49.793751",
     "exception": false,
     "start_time": "2022-08-01T10:22:41.357452",
     "status": "completed"
    },
    "tags": []
   },
   "outputs": [],
   "source": [
    "# Remember to set all negative values to zero\n",
    "prediction = predictor_new_hpo.predict(test)"
   ]
  },
  {
   "cell_type": "code",
   "execution_count": 38,
   "id": "eea32c62",
   "metadata": {
    "execution": {
     "iopub.execute_input": "2022-08-01T10:22:49.972085Z",
     "iopub.status.busy": "2022-08-01T10:22:49.971741Z",
     "iopub.status.idle": "2022-08-01T10:22:49.978953Z",
     "shell.execute_reply": "2022-08-01T10:22:49.978033Z"
    },
    "papermill": {
     "duration": 0.095556,
     "end_time": "2022-08-01T10:22:49.981059",
     "exception": false,
     "start_time": "2022-08-01T10:22:49.885503",
     "status": "completed"
    },
    "tags": []
   },
   "outputs": [
    {
     "data": {
      "text/plain": [
       "0"
      ]
     },
     "execution_count": 38,
     "metadata": {},
     "output_type": "execute_result"
    }
   ],
   "source": [
    "prediction[prediction < 0].count()"
   ]
  },
  {
   "cell_type": "code",
   "execution_count": 39,
   "id": "1a5a1e2e",
   "metadata": {
    "execution": {
     "iopub.execute_input": "2022-08-01T10:22:50.149739Z",
     "iopub.status.busy": "2022-08-01T10:22:50.149423Z",
     "iopub.status.idle": "2022-08-01T10:22:50.160866Z",
     "shell.execute_reply": "2022-08-01T10:22:50.159984Z"
    },
    "papermill": {
     "duration": 0.097541,
     "end_time": "2022-08-01T10:22:50.163029",
     "exception": false,
     "start_time": "2022-08-01T10:22:50.065488",
     "status": "completed"
    },
    "tags": []
   },
   "outputs": [],
   "source": [
    "submission_new_hpo = pd.read_csv('/kaggle/input/bike-sharing-demand/sampleSubmission.csv')"
   ]
  },
  {
   "cell_type": "code",
   "execution_count": 40,
   "id": "723da672",
   "metadata": {
    "execution": {
     "iopub.execute_input": "2022-08-01T10:22:50.333532Z",
     "iopub.status.busy": "2022-08-01T10:22:50.333141Z",
     "iopub.status.idle": "2022-08-01T10:22:50.359012Z",
     "shell.execute_reply": "2022-08-01T10:22:50.358144Z"
    },
    "papermill": {
     "duration": 0.114451,
     "end_time": "2022-08-01T10:22:50.361262",
     "exception": false,
     "start_time": "2022-08-01T10:22:50.246811",
     "status": "completed"
    },
    "tags": []
   },
   "outputs": [],
   "source": [
    "# Same submitting predictions\n",
    "submission_new_hpo[\"count\"] = predictions\n",
    "submission_new_hpo.to_csv(\"submission_new_hpo.csv\", index=False)"
   ]
  },
  {
   "cell_type": "code",
   "execution_count": 41,
   "id": "cadfbc53",
   "metadata": {
    "execution": {
     "iopub.execute_input": "2022-08-01T10:22:50.528787Z",
     "iopub.status.busy": "2022-08-01T10:22:50.528482Z",
     "iopub.status.idle": "2022-08-01T10:22:55.462037Z",
     "shell.execute_reply": "2022-08-01T10:22:55.460831Z"
    },
    "papermill": {
     "duration": 5.018546,
     "end_time": "2022-08-01T10:22:55.464638",
     "exception": false,
     "start_time": "2022-08-01T10:22:50.446092",
     "status": "completed"
    },
    "tags": []
   },
   "outputs": [
    {
     "name": "stdout",
     "output_type": "stream",
     "text": [
      "100%|████████████████████████████████████████| 188k/188k [00:02<00:00, 84.1kB/s]\r\n",
      "Successfully submitted to Bike Sharing Demand"
     ]
    }
   ],
   "source": [
    "!kaggle competitions submit -c bike-sharing-demand -f submission_new_hpo.csv -m \"new features with hyperparameters\""
   ]
  },
  {
   "cell_type": "code",
   "execution_count": 42,
   "id": "d5ebe60d",
   "metadata": {
    "execution": {
     "iopub.execute_input": "2022-08-01T10:22:55.636945Z",
     "iopub.status.busy": "2022-08-01T10:22:55.636588Z",
     "iopub.status.idle": "2022-08-01T10:22:57.097795Z",
     "shell.execute_reply": "2022-08-01T10:22:57.096609Z"
    },
    "papermill": {
     "duration": 1.550019,
     "end_time": "2022-08-01T10:22:57.100270",
     "exception": false,
     "start_time": "2022-08-01T10:22:55.550251",
     "status": "completed"
    },
    "tags": []
   },
   "outputs": [
    {
     "name": "stdout",
     "output_type": "stream",
     "text": [
      "fileName                     date                 description                        status    publicScore  privateScore  \r\n",
      "---------------------------  -------------------  ---------------------------------  --------  -----------  ------------  \r\n",
      "submission_new_hpo.csv       2022-08-01 10:22:54  new features with hyperparameters  complete  1.79181      1.79181       \r\n",
      "submission_new_features.csv  2022-08-01 10:12:24  new features                       complete  0.65929      0.65929       \r\n",
      "submission.csv               2022-08-01 10:01:24  first raw submission               complete  1.79181      1.79181       \r\n",
      "submission_new_hpo.csv       2022-07-29 22:34:23  new features with hyperparameters  complete  1.80550      1.80550       \r\n"
     ]
    }
   ],
   "source": [
    "!kaggle competitions submissions -c bike-sharing-demand | tail -n +1 | head -n 6"
   ]
  },
  {
   "cell_type": "markdown",
   "id": "2431e1f3",
   "metadata": {
    "papermill": {
     "duration": 0.083051,
     "end_time": "2022-08-01T10:22:57.269546",
     "exception": false,
     "start_time": "2022-08-01T10:22:57.186495",
     "status": "completed"
    },
    "tags": []
   },
   "source": [
    "#### New Score of `1.78967`"
   ]
  },
  {
   "cell_type": "markdown",
   "id": "27531bd2",
   "metadata": {
    "papermill": {
     "duration": 0.081941,
     "end_time": "2022-08-01T10:22:57.434924",
     "exception": false,
     "start_time": "2022-08-01T10:22:57.352983",
     "status": "completed"
    },
    "tags": []
   },
   "source": [
    "## Step 7: Write a Report\n",
    "### Refer to the markdown file for the full report\n",
    "### Creating plots and table for report"
   ]
  },
  {
   "cell_type": "code",
   "execution_count": 43,
   "id": "2c7e0506",
   "metadata": {
    "execution": {
     "iopub.execute_input": "2022-08-01T10:22:57.606216Z",
     "iopub.status.busy": "2022-08-01T10:22:57.605824Z",
     "iopub.status.idle": "2022-08-01T10:22:57.819360Z",
     "shell.execute_reply": "2022-08-01T10:22:57.818466Z"
    },
    "papermill": {
     "duration": 0.301545,
     "end_time": "2022-08-01T10:22:57.821539",
     "exception": false,
     "start_time": "2022-08-01T10:22:57.519994",
     "status": "completed"
    },
    "tags": []
   },
   "outputs": [
    {
     "data": {
      "image/png": "[encoded data removed]",
      "text/plain": [
       "<Figure size 576x432 with 1 Axes>"
      ]
     },
     "metadata": {
      "needs_background": "light"
     },
     "output_type": "display_data"
    }
   ],
   "source": [
    "# Taking the top model score from each training run and creating a line plot to show improvement\n",
    "# You can create these in the notebook and save them to PNG or use some other tool (e.g. google sheets, excel)\n",
    "fig = pd.DataFrame(\n",
    "    {\n",
    "        \"model\": [\"initial\", \"add_features\", \"hpo\"],\n",
    "        \"score\": [0.341084, 0.059503,  0.368854 ]\n",
    "    }\n",
    ").plot(x=\"model\", y=\"score\", figsize=(8, 6)).get_figure()\n",
    "#fig.savefig('model_train_score.png')"
   ]
  },
  {
   "cell_type": "code",
   "execution_count": 44,
   "id": "10df989f",
   "metadata": {
    "execution": {
     "iopub.execute_input": "2022-08-01T10:22:57.995392Z",
     "iopub.status.busy": "2022-08-01T10:22:57.994307Z",
     "iopub.status.idle": "2022-08-01T10:22:58.187908Z",
     "shell.execute_reply": "2022-08-01T10:22:58.187009Z"
    },
    "papermill": {
     "duration": 0.282354,
     "end_time": "2022-08-01T10:22:58.190260",
     "exception": false,
     "start_time": "2022-08-01T10:22:57.907906",
     "status": "completed"
    },
    "tags": []
   },
   "outputs": [
    {
     "data": {
      "image/png": "[encoded data removed]",
      "text/plain": [
       "<Figure size 576x432 with 1 Axes>"
      ]
     },
     "metadata": {
      "needs_background": "light"
     },
     "output_type": "display_data"
    }
   ],
   "source": [
    "# Take the 3 kaggle scores and creating a line plot to show improvement\n",
    "fig = pd.DataFrame(\n",
    "    {\n",
    "        \"test_eval\": [\"initial\", \"add_features\", \"hpo\"],\n",
    "        \"score\": [1.78967, 0.67789, 1.7896]\n",
    "    }\n",
    ").plot(x=\"test_eval\", y=\"score\", figsize=(8, 6)).get_figure()\n",
    "#fig.savefig('model_test_score.png')"
   ]
  },
  {
   "cell_type": "markdown",
   "id": "f9307bb2",
   "metadata": {
    "papermill": {
     "duration": 0.084344,
     "end_time": "2022-08-01T10:22:58.359625",
     "exception": false,
     "start_time": "2022-08-01T10:22:58.275281",
     "status": "completed"
    },
    "tags": []
   },
   "source": [
    "### Hyperparameter table"
   ]
  },
  {
   "cell_type": "code",
   "execution_count": 45,
   "id": "21dadb3c",
   "metadata": {
    "execution": {
     "iopub.execute_input": "2022-08-01T10:22:58.531683Z",
     "iopub.status.busy": "2022-08-01T10:22:58.531304Z",
     "iopub.status.idle": "2022-08-01T10:22:58.547120Z",
     "shell.execute_reply": "2022-08-01T10:22:58.545783Z"
    },
    "papermill": {
     "duration": 0.105241,
     "end_time": "2022-08-01T10:22:58.549560",
     "exception": false,
     "start_time": "2022-08-01T10:22:58.444319",
     "status": "completed"
    },
    "tags": []
   },
   "outputs": [
    {
     "data": {
      "text/html": [
       "<div>\n",
       "<style scoped>\n",
       "    .dataframe tbody tr th:only-of-type {\n",
       "        vertical-align: middle;\n",
       "    }\n",
       "\n",
       "    .dataframe tbody tr th {\n",
       "        vertical-align: top;\n",
       "    }\n",
       "\n",
       "    .dataframe thead th {\n",
       "        text-align: right;\n",
       "    }\n",
       "</style>\n",
       "<table border=\"1\" class=\"dataframe\">\n",
       "  <thead>\n",
       "    <tr style=\"text-align: right;\">\n",
       "      <th></th>\n",
       "      <th>model</th>\n",
       "      <th>learning_rate</th>\n",
       "      <th>num_leaves</th>\n",
       "      <th>dropout_prob</th>\n",
       "      <th>score</th>\n",
       "    </tr>\n",
       "  </thead>\n",
       "  <tbody>\n",
       "    <tr>\n",
       "      <th>0</th>\n",
       "      <td>initial</td>\n",
       "      <td>0.3000</td>\n",
       "      <td>1</td>\n",
       "      <td>50.0</td>\n",
       "      <td>1.78967</td>\n",
       "    </tr>\n",
       "    <tr>\n",
       "      <th>1</th>\n",
       "      <td>add_features</td>\n",
       "      <td>0.3000</td>\n",
       "      <td>1</td>\n",
       "      <td>50.0</td>\n",
       "      <td>0.67789</td>\n",
       "    </tr>\n",
       "    <tr>\n",
       "      <th>2</th>\n",
       "      <td>hpo</td>\n",
       "      <td>0.0005</td>\n",
       "      <td>36</td>\n",
       "      <td>0.1</td>\n",
       "      <td>1.78960</td>\n",
       "    </tr>\n",
       "  </tbody>\n",
       "</table>\n",
       "</div>"
      ],
      "text/plain": [
       "          model  learning_rate  num_leaves  dropout_prob    score\n",
       "0       initial         0.3000           1          50.0  1.78967\n",
       "1  add_features         0.3000           1          50.0  0.67789\n",
       "2           hpo         0.0005          36           0.1  1.78960"
      ]
     },
     "execution_count": 45,
     "metadata": {},
     "output_type": "execute_result"
    }
   ],
   "source": [
    "# The 3 hyperparameters we tuned with the kaggle score as the result\n",
    "pd.DataFrame({\n",
    "    \"model\": [\"initial\", \"add_features\", \"hpo\"],\n",
    "    \"learning_rate\": [0.3, 0.3, 5e-4],\n",
    "    \"num_leaves\": [1, 1, 36],\n",
    "    \"dropout_prob\": [50, 50, 0.1],\n",
    "    \"score\": [1.78967, 0.67789, 1.7896]\n",
    "})"
   ]
  },
  {
   "cell_type": "code",
   "execution_count": 46,
   "id": "eeb8847a",
   "metadata": {
    "execution": {
     "iopub.execute_input": "2022-08-01T10:22:58.718826Z",
     "iopub.status.busy": "2022-08-01T10:22:58.718230Z",
     "iopub.status.idle": "2022-08-01T10:22:58.791894Z",
     "shell.execute_reply": "2022-08-01T10:22:58.790997Z"
    },
    "papermill": {
     "duration": 0.158717,
     "end_time": "2022-08-01T10:22:58.794128",
     "exception": false,
     "start_time": "2022-08-01T10:22:58.635411",
     "status": "completed"
    },
    "tags": []
   },
   "outputs": [],
   "source": [
    "import seaborn as sns"
   ]
  },
  {
   "cell_type": "code",
   "execution_count": 47,
   "id": "5361a4af",
   "metadata": {
    "execution": {
     "iopub.execute_input": "2022-08-01T10:22:58.965858Z",
     "iopub.status.busy": "2022-08-01T10:22:58.965501Z",
     "iopub.status.idle": "2022-08-01T10:22:58.991335Z",
     "shell.execute_reply": "2022-08-01T10:22:58.990320Z"
    },
    "papermill": {
     "duration": 0.11417,
     "end_time": "2022-08-01T10:22:58.993501",
     "exception": false,
     "start_time": "2022-08-01T10:22:58.879331",
     "status": "completed"
    },
    "tags": []
   },
   "outputs": [
    {
     "data": {
      "text/html": [
       "<div>\n",
       "<style scoped>\n",
       "    .dataframe tbody tr th:only-of-type {\n",
       "        vertical-align: middle;\n",
       "    }\n",
       "\n",
       "    .dataframe tbody tr th {\n",
       "        vertical-align: top;\n",
       "    }\n",
       "\n",
       "    .dataframe thead th {\n",
       "        text-align: right;\n",
       "    }\n",
       "</style>\n",
       "<table border=\"1\" class=\"dataframe\">\n",
       "  <thead>\n",
       "    <tr style=\"text-align: right;\">\n",
       "      <th></th>\n",
       "      <th>holiday</th>\n",
       "      <th>workingday</th>\n",
       "      <th>temp</th>\n",
       "      <th>atemp</th>\n",
       "      <th>humidity</th>\n",
       "      <th>windspeed</th>\n",
       "      <th>casual</th>\n",
       "      <th>registered</th>\n",
       "      <th>count</th>\n",
       "      <th>hour</th>\n",
       "    </tr>\n",
       "  </thead>\n",
       "  <tbody>\n",
       "    <tr>\n",
       "      <th>holiday</th>\n",
       "      <td>1.000000</td>\n",
       "      <td>-0.250491</td>\n",
       "      <td>0.000295</td>\n",
       "      <td>-0.005215</td>\n",
       "      <td>0.001929</td>\n",
       "      <td>0.008409</td>\n",
       "      <td>0.043799</td>\n",
       "      <td>-0.020956</td>\n",
       "      <td>-0.005393</td>\n",
       "      <td>-0.000354</td>\n",
       "    </tr>\n",
       "    <tr>\n",
       "      <th>workingday</th>\n",
       "      <td>-0.250491</td>\n",
       "      <td>1.000000</td>\n",
       "      <td>0.029966</td>\n",
       "      <td>0.024660</td>\n",
       "      <td>-0.010880</td>\n",
       "      <td>0.013373</td>\n",
       "      <td>-0.319111</td>\n",
       "      <td>0.119460</td>\n",
       "      <td>0.011594</td>\n",
       "      <td>0.002780</td>\n",
       "    </tr>\n",
       "    <tr>\n",
       "      <th>temp</th>\n",
       "      <td>0.000295</td>\n",
       "      <td>0.029966</td>\n",
       "      <td>1.000000</td>\n",
       "      <td>0.984948</td>\n",
       "      <td>-0.064949</td>\n",
       "      <td>-0.017852</td>\n",
       "      <td>0.467097</td>\n",
       "      <td>0.318571</td>\n",
       "      <td>0.394454</td>\n",
       "      <td>0.145430</td>\n",
       "    </tr>\n",
       "    <tr>\n",
       "      <th>atemp</th>\n",
       "      <td>-0.005215</td>\n",
       "      <td>0.024660</td>\n",
       "      <td>0.984948</td>\n",
       "      <td>1.000000</td>\n",
       "      <td>-0.043536</td>\n",
       "      <td>-0.057473</td>\n",
       "      <td>0.462067</td>\n",
       "      <td>0.314635</td>\n",
       "      <td>0.389784</td>\n",
       "      <td>0.140343</td>\n",
       "    </tr>\n",
       "    <tr>\n",
       "      <th>humidity</th>\n",
       "      <td>0.001929</td>\n",
       "      <td>-0.010880</td>\n",
       "      <td>-0.064949</td>\n",
       "      <td>-0.043536</td>\n",
       "      <td>1.000000</td>\n",
       "      <td>-0.318607</td>\n",
       "      <td>-0.348187</td>\n",
       "      <td>-0.265458</td>\n",
       "      <td>-0.317371</td>\n",
       "      <td>-0.278011</td>\n",
       "    </tr>\n",
       "    <tr>\n",
       "      <th>windspeed</th>\n",
       "      <td>0.008409</td>\n",
       "      <td>0.013373</td>\n",
       "      <td>-0.017852</td>\n",
       "      <td>-0.057473</td>\n",
       "      <td>-0.318607</td>\n",
       "      <td>1.000000</td>\n",
       "      <td>0.092276</td>\n",
       "      <td>0.091052</td>\n",
       "      <td>0.101369</td>\n",
       "      <td>0.146631</td>\n",
       "    </tr>\n",
       "    <tr>\n",
       "      <th>casual</th>\n",
       "      <td>0.043799</td>\n",
       "      <td>-0.319111</td>\n",
       "      <td>0.467097</td>\n",
       "      <td>0.462067</td>\n",
       "      <td>-0.348187</td>\n",
       "      <td>0.092276</td>\n",
       "      <td>1.000000</td>\n",
       "      <td>0.497250</td>\n",
       "      <td>0.690414</td>\n",
       "      <td>0.302045</td>\n",
       "    </tr>\n",
       "    <tr>\n",
       "      <th>registered</th>\n",
       "      <td>-0.020956</td>\n",
       "      <td>0.119460</td>\n",
       "      <td>0.318571</td>\n",
       "      <td>0.314635</td>\n",
       "      <td>-0.265458</td>\n",
       "      <td>0.091052</td>\n",
       "      <td>0.497250</td>\n",
       "      <td>1.000000</td>\n",
       "      <td>0.970948</td>\n",
       "      <td>0.380540</td>\n",
       "    </tr>\n",
       "    <tr>\n",
       "      <th>count</th>\n",
       "      <td>-0.005393</td>\n",
       "      <td>0.011594</td>\n",
       "      <td>0.394454</td>\n",
       "      <td>0.389784</td>\n",
       "      <td>-0.317371</td>\n",
       "      <td>0.101369</td>\n",
       "      <td>0.690414</td>\n",
       "      <td>0.970948</td>\n",
       "      <td>1.000000</td>\n",
       "      <td>0.400601</td>\n",
       "    </tr>\n",
       "    <tr>\n",
       "      <th>hour</th>\n",
       "      <td>-0.000354</td>\n",
       "      <td>0.002780</td>\n",
       "      <td>0.145430</td>\n",
       "      <td>0.140343</td>\n",
       "      <td>-0.278011</td>\n",
       "      <td>0.146631</td>\n",
       "      <td>0.302045</td>\n",
       "      <td>0.380540</td>\n",
       "      <td>0.400601</td>\n",
       "      <td>1.000000</td>\n",
       "    </tr>\n",
       "  </tbody>\n",
       "</table>\n",
       "</div>"
      ],
      "text/plain": [
       "             holiday  workingday      temp     atemp  humidity  windspeed  \\\n",
       "holiday     1.000000   -0.250491  0.000295 -0.005215  0.001929   0.008409   \n",
       "workingday -0.250491    1.000000  0.029966  0.024660 -0.010880   0.013373   \n",
       "temp        0.000295    0.029966  1.000000  0.984948 -0.064949  -0.017852   \n",
       "atemp      -0.005215    0.024660  0.984948  1.000000 -0.043536  -0.057473   \n",
       "humidity    0.001929   -0.010880 -0.064949 -0.043536  1.000000  -0.318607   \n",
       "windspeed   0.008409    0.013373 -0.017852 -0.057473 -0.318607   1.000000   \n",
       "casual      0.043799   -0.319111  0.467097  0.462067 -0.348187   0.092276   \n",
       "registered -0.020956    0.119460  0.318571  0.314635 -0.265458   0.091052   \n",
       "count      -0.005393    0.011594  0.394454  0.389784 -0.317371   0.101369   \n",
       "hour       -0.000354    0.002780  0.145430  0.140343 -0.278011   0.146631   \n",
       "\n",
       "              casual  registered     count      hour  \n",
       "holiday     0.043799   -0.020956 -0.005393 -0.000354  \n",
       "workingday -0.319111    0.119460  0.011594  0.002780  \n",
       "temp        0.467097    0.318571  0.394454  0.145430  \n",
       "atemp       0.462067    0.314635  0.389784  0.140343  \n",
       "humidity   -0.348187   -0.265458 -0.317371 -0.278011  \n",
       "windspeed   0.092276    0.091052  0.101369  0.146631  \n",
       "casual      1.000000    0.497250  0.690414  0.302045  \n",
       "registered  0.497250    1.000000  0.970948  0.380540  \n",
       "count       0.690414    0.970948  1.000000  0.400601  \n",
       "hour        0.302045    0.380540  0.400601  1.000000  "
      ]
     },
     "execution_count": 47,
     "metadata": {},
     "output_type": "execute_result"
    }
   ],
   "source": [
    "train.iloc[:,:-1].corr()"
   ]
  },
  {
   "cell_type": "code",
   "execution_count": 48,
   "id": "3a36fd66",
   "metadata": {
    "execution": {
     "iopub.execute_input": "2022-08-01T10:22:59.166606Z",
     "iopub.status.busy": "2022-08-01T10:22:59.166132Z",
     "iopub.status.idle": "2022-08-01T10:22:59.171436Z",
     "shell.execute_reply": "2022-08-01T10:22:59.170343Z"
    },
    "papermill": {
     "duration": 0.093306,
     "end_time": "2022-08-01T10:22:59.173505",
     "exception": false,
     "start_time": "2022-08-01T10:22:59.080199",
     "status": "completed"
    },
    "tags": []
   },
   "outputs": [],
   "source": [
    "import matplotlib.pyplot as plt"
   ]
  },
  {
   "cell_type": "code",
   "execution_count": 49,
   "id": "b83e3ea9",
   "metadata": {
    "execution": {
     "iopub.execute_input": "2022-08-01T10:22:59.346249Z",
     "iopub.status.busy": "2022-08-01T10:22:59.345879Z",
     "iopub.status.idle": "2022-08-01T10:23:00.233211Z",
     "shell.execute_reply": "2022-08-01T10:23:00.232290Z"
    },
    "papermill": {
     "duration": 0.977937,
     "end_time": "2022-08-01T10:23:00.235861",
     "exception": false,
     "start_time": "2022-08-01T10:22:59.257924",
     "status": "completed"
    },
    "tags": []
   },
   "outputs": [
    {
     "data": {
      "image/png": "[encoded data removed]",
      "text/plain": [
       "<Figure size 720x720 with 2 Axes>"
      ]
     },
     "metadata": {
      "needs_background": "light"
     },
     "output_type": "display_data"
    }
   ],
   "source": [
    "plt.figure(figsize=(10,10))\n",
    "sns.heatmap(train.iloc[:,:-1].corr(),annot = True, fmt='.2g',cmap= 'coolwarm');"
   ]
  },
  {
   "cell_type": "code",
   "execution_count": null,
   "id": "5df4e945",
   "metadata": {
    "papermill": {
     "duration": 0.084888,
     "end_time": "2022-08-01T10:23:00.407856",
     "exception": false,
     "start_time": "2022-08-01T10:23:00.322968",
     "status": "completed"
    },
    "tags": []
   },
   "outputs": [],
   "source": []
  }
 ],
 "metadata": {
  "kernelspec": {
   "display_name": "Python 3",
   "language": "python",
   "name": "python3"
  },
  "language_info": {
   "codemirror_mode": {
    "name": "ipython",
    "version": 3
   },
   "file_extension": ".py",
   "mimetype": "text/x-python",
   "name": "python",
   "nbconvert_exporter": "python",
   "pygments_lexer": "ipython3",
   "version": "3.7.12"
  },
  "papermill": {
   "default_parameters": {},
   "duration": 2080.713626,
   "end_time": "2022-08-01T10:23:05.618986",
   "environment_variables": {},
   "exception": null,
   "input_path": "__notebook__.ipynb",
   "output_path": "__notebook__.ipynb",
   "parameters": {},
   "start_time": "2022-08-01T09:48:24.905360",
   "version": "2.3.4"
  },
  "widgets": {
   "application/vnd.jupyter.widget-state+json": {
    "state": {
     "0540fd3b200a451a84ef6a4aed43710b": {
      "model_module": "@jupyter-widgets/controls",
      "model_module_version": "1.5.0",
      "model_name": "DescriptionStyleModel",
      "state": {
       "_model_module": "@jupyter-widgets/controls",
       "_model_module_version": "1.5.0",
       "_model_name": "DescriptionStyleModel",
       "_view_count": null,
       "_view_module": "@jupyter-widgets/base",
       "_view_module_version": "1.2.0",
       "_view_name": "StyleView",
       "description_width": ""
      }
     },
     "0d3b6386c9e44d0ca09d176e9c05d5c1": {
      "model_module": "@jupyter-widgets/controls",
      "model_module_version": "1.5.0",
      "model_name": "DescriptionStyleModel",
      "state": {
       "_model_module": "@jupyter-widgets/controls",
       "_model_module_version": "1.5.0",
       "_model_name": "DescriptionStyleModel",
       "_view_count": null,
       "_view_module": "@jupyter-widgets/base",
       "_view_module_version": "1.2.0",
       "_view_name": "StyleView",
       "description_width": ""
      }
     },
     "3df32e65067d4e8d8bcfb8fbba3bd1d2": {
      "model_module": "@jupyter-widgets/controls",
      "model_module_version": "1.5.0",
      "model_name": "HTMLModel",
      "state": {
       "_dom_classes": [],
       "_model_module": "@jupyter-widgets/controls",
       "_model_module_version": "1.5.0",
       "_model_name": "HTMLModel",
       "_view_count": null,
       "_view_module": "@jupyter-widgets/controls",
       "_view_module_version": "1.5.0",
       "_view_name": "HTMLView",
       "description": "",
       "description_tooltip": null,
       "layout": "IPY_MODEL_4509c2ff33fc4f46b7f1a5f95c3287ac",
       "placeholder": "​",
       "style": "IPY_MODEL_0d3b6386c9e44d0ca09d176e9c05d5c1",
       "value": "100%"
      }
     },
     "3e0328c2858d4a51883d9d2847fbc911": {
      "model_module": "@jupyter-widgets/controls",
      "model_module_version": "1.5.0",
      "model_name": "DescriptionStyleModel",
      "state": {
       "_model_module": "@jupyter-widgets/controls",
       "_model_module_version": "1.5.0",
       "_model_name": "DescriptionStyleModel",
       "_view_count": null,
       "_view_module": "@jupyter-widgets/base",
       "_view_module_version": "1.2.0",
       "_view_name": "StyleView",
       "description_width": ""
      }
     },
     "4509c2ff33fc4f46b7f1a5f95c3287ac": {
      "model_module": "@jupyter-widgets/base",
      "model_module_version": "1.2.0",
      "model_name": "LayoutModel",
      "state": {
       "_model_module": "@jupyter-widgets/base",
       "_model_module_version": "1.2.0",
       "_model_name": "LayoutModel",
       "_view_count": null,
       "_view_module": "@jupyter-widgets/base",
       "_view_module_version": "1.2.0",
       "_view_name": "LayoutView",
       "align_content": null,
       "align_items": null,
       "align_self": null,
       "border": null,
       "bottom": null,
       "display": null,
       "flex": null,
       "flex_flow": null,
       "grid_area": null,
       "grid_auto_columns": null,
       "grid_auto_flow": null,
       "grid_auto_rows": null,
       "grid_column": null,
       "grid_gap": null,
       "grid_row": null,
       "grid_template_areas": null,
       "grid_template_columns": null,
       "grid_template_rows": null,
       "height": null,
       "justify_content": null,
       "justify_items": null,
       "left": null,
       "margin": null,
       "max_height": null,
       "max_width": null,
       "min_height": null,
       "min_width": null,
       "object_fit": null,
       "object_position": null,
       "order": null,
       "overflow": null,
       "overflow_x": null,
       "overflow_y": null,
       "padding": null,
       "right": null,
       "top": null,
       "visibility": null,
       "width": null
      }
     },
     "5f94533b28d74497ada6f49302abb169": {
      "model_module": "@jupyter-widgets/base",
      "model_module_version": "1.2.0",
      "model_name": "LayoutModel",
      "state": {
       "_model_module": "@jupyter-widgets/base",
       "_model_module_version": "1.2.0",
       "_model_name": "LayoutModel",
       "_view_count": null,
       "_view_module": "@jupyter-widgets/base",
       "_view_module_version": "1.2.0",
       "_view_name": "LayoutView",
       "align_content": null,
       "align_items": null,
       "align_self": null,
       "border": null,
       "bottom": null,
       "display": null,
       "flex": null,
       "flex_flow": null,
       "grid_area": null,
       "grid_auto_columns": null,
       "grid_auto_flow": null,
       "grid_auto_rows": null,
       "grid_column": null,
       "grid_gap": null,
       "grid_row": null,
       "grid_template_areas": null,
       "grid_template_columns": null,
       "grid_template_rows": null,
       "height": null,
       "justify_content": null,
       "justify_items": null,
       "left": null,
       "margin": null,
       "max_height": null,
       "max_width": null,
       "min_height": null,
       "min_width": null,
       "object_fit": null,
       "object_position": null,
       "order": null,
       "overflow": null,
       "overflow_x": null,
       "overflow_y": null,
       "padding": null,
       "right": null,
       "top": null,
       "visibility": null,
       "width": null
      }
     },
     "645a2f74fa5a43e4913a34c6a998d596": {
      "model_module": "@jupyter-widgets/controls",
      "model_module_version": "1.5.0",
      "model_name": "HTMLModel",
      "state": {
       "_dom_classes": [],
       "_model_module": "@jupyter-widgets/controls",
       "_model_module_version": "1.5.0",
       "_model_name": "HTMLModel",
       "_view_count": null,
       "_view_module": "@jupyter-widgets/controls",
       "_view_module_version": "1.5.0",
       "_view_name": "HTMLView",
       "description": "",
       "description_tooltip": null,
       "layout": "IPY_MODEL_caa2514e16c54b9a98d5fe52d8bea0e8",
       "placeholder": "​",
       "style": "IPY_MODEL_3e0328c2858d4a51883d9d2847fbc911",
       "value": " 5/5 [00:03&lt;00:00,  1.40it/s]"
      }
     },
     "707278e369a6489a8f209e6462061134": {
      "model_module": "@jupyter-widgets/controls",
      "model_module_version": "1.5.0",
      "model_name": "HBoxModel",
      "state": {
       "_dom_classes": [],
       "_model_module": "@jupyter-widgets/controls",
       "_model_module_version": "1.5.0",
       "_model_name": "HBoxModel",
       "_view_count": null,
       "_view_module": "@jupyter-widgets/controls",
       "_view_module_version": "1.5.0",
       "_view_name": "HBoxView",
       "box_style": "",
       "children": [
        "IPY_MODEL_91747cd5e0c44b6da07bf32fa3e333ed",
        "IPY_MODEL_f22ba0fc41ad484c84896fbe0465ca12",
        "IPY_MODEL_645a2f74fa5a43e4913a34c6a998d596"
       ],
       "layout": "IPY_MODEL_e4c6fa6ed09042ee925e8a32e1c0b9fb"
      }
     },
     "75dd279f9d6e4d4c8273802e35d54b45": {
      "model_module": "@jupyter-widgets/base",
      "model_module_version": "1.2.0",
      "model_name": "LayoutModel",
      "state": {
       "_model_module": "@jupyter-widgets/base",
       "_model_module_version": "1.2.0",
       "_model_name": "LayoutModel",
       "_view_count": null,
       "_view_module": "@jupyter-widgets/base",
       "_view_module_version": "1.2.0",
       "_view_name": "LayoutView",
       "align_content": null,
       "align_items": null,
       "align_self": null,
       "border": null,
       "bottom": null,
       "display": null,
       "flex": null,
       "flex_flow": null,
       "grid_area": null,
       "grid_auto_columns": null,
       "grid_auto_flow": null,
       "grid_auto_rows": null,
       "grid_column": null,
       "grid_gap": null,
       "grid_row": null,
       "grid_template_areas": null,
       "grid_template_columns": null,
       "grid_template_rows": null,
       "height": null,
       "justify_content": null,
       "justify_items": null,
       "left": null,
       "margin": null,
       "max_height": null,
       "max_width": null,
       "min_height": null,
       "min_width": null,
       "object_fit": null,
       "object_position": null,
       "order": null,
       "overflow": null,
       "overflow_x": null,
       "overflow_y": null,
       "padding": null,
       "right": null,
       "top": null,
       "visibility": null,
       "width": null
      }
     },
     "76f0966f07db431e8bdb6a63b1805c33": {
      "model_module": "@jupyter-widgets/controls",
      "model_module_version": "1.5.0",
      "model_name": "DescriptionStyleModel",
      "state": {
       "_model_module": "@jupyter-widgets/controls",
       "_model_module_version": "1.5.0",
       "_model_name": "DescriptionStyleModel",
       "_view_count": null,
       "_view_module": "@jupyter-widgets/base",
       "_view_module_version": "1.2.0",
       "_view_name": "StyleView",
       "description_width": ""
      }
     },
     "7d9f28150a8844f38cca6fea23ee2b16": {
      "model_module": "@jupyter-widgets/controls",
      "model_module_version": "1.5.0",
      "model_name": "ProgressStyleModel",
      "state": {
       "_model_module": "@jupyter-widgets/controls",
       "_model_module_version": "1.5.0",
       "_model_name": "ProgressStyleModel",
       "_view_count": null,
       "_view_module": "@jupyter-widgets/base",
       "_view_module_version": "1.2.0",
       "_view_name": "StyleView",
       "bar_color": null,
       "description_width": ""
      }
     },
     "7e7447b9f64b4da7bf60beed9d76ec35": {
      "model_module": "@jupyter-widgets/controls",
      "model_module_version": "1.5.0",
      "model_name": "HBoxModel",
      "state": {
       "_dom_classes": [],
       "_model_module": "@jupyter-widgets/controls",
       "_model_module_version": "1.5.0",
       "_model_name": "HBoxModel",
       "_view_count": null,
       "_view_module": "@jupyter-widgets/controls",
       "_view_module_version": "1.5.0",
       "_view_name": "HBoxView",
       "box_style": "",
       "children": [
        "IPY_MODEL_3df32e65067d4e8d8bcfb8fbba3bd1d2",
        "IPY_MODEL_9531c39a628e42ec9a52aa00bf5a929c",
        "IPY_MODEL_e32e35c17f814a8d83a656444b7d5a44"
       ],
       "layout": "IPY_MODEL_75dd279f9d6e4d4c8273802e35d54b45"
      }
     },
     "8d2d6b62261b4239a4479740f54b0a89": {
      "model_module": "@jupyter-widgets/base",
      "model_module_version": "1.2.0",
      "model_name": "LayoutModel",
      "state": {
       "_model_module": "@jupyter-widgets/base",
       "_model_module_version": "1.2.0",
       "_model_name": "LayoutModel",
       "_view_count": null,
       "_view_module": "@jupyter-widgets/base",
       "_view_module_version": "1.2.0",
       "_view_name": "LayoutView",
       "align_content": null,
       "align_items": null,
       "align_self": null,
       "border": null,
       "bottom": null,
       "display": null,
       "flex": null,
       "flex_flow": null,
       "grid_area": null,
       "grid_auto_columns": null,
       "grid_auto_flow": null,
       "grid_auto_rows": null,
       "grid_column": null,
       "grid_gap": null,
       "grid_row": null,
       "grid_template_areas": null,
       "grid_template_columns": null,
       "grid_template_rows": null,
       "height": null,
       "justify_content": null,
       "justify_items": null,
       "left": null,
       "margin": null,
       "max_height": null,
       "max_width": null,
       "min_height": null,
       "min_width": null,
       "object_fit": null,
       "object_position": null,
       "order": null,
       "overflow": null,
       "overflow_x": null,
       "overflow_y": null,
       "padding": null,
       "right": null,
       "top": null,
       "visibility": null,
       "width": null
      }
     },
     "91747cd5e0c44b6da07bf32fa3e333ed": {
      "model_module": "@jupyter-widgets/controls",
      "model_module_version": "1.5.0",
      "model_name": "HTMLModel",
      "state": {
       "_dom_classes": [],
       "_model_module": "@jupyter-widgets/controls",
       "_model_module_version": "1.5.0",
       "_model_name": "HTMLModel",
       "_view_count": null,
       "_view_module": "@jupyter-widgets/controls",
       "_view_module_version": "1.5.0",
       "_view_name": "HTMLView",
       "description": "",
       "description_tooltip": null,
       "layout": "IPY_MODEL_d35aba344cb44bd9951b85b4ef172549",
       "placeholder": "​",
       "style": "IPY_MODEL_0540fd3b200a451a84ef6a4aed43710b",
       "value": "100%"
      }
     },
     "9531c39a628e42ec9a52aa00bf5a929c": {
      "model_module": "@jupyter-widgets/controls",
      "model_module_version": "1.5.0",
      "model_name": "FloatProgressModel",
      "state": {
       "_dom_classes": [],
       "_model_module": "@jupyter-widgets/controls",
       "_model_module_version": "1.5.0",
       "_model_name": "FloatProgressModel",
       "_view_count": null,
       "_view_module": "@jupyter-widgets/controls",
       "_view_module_version": "1.5.0",
       "_view_name": "ProgressView",
       "bar_style": "success",
       "description": "",
       "description_tooltip": null,
       "layout": "IPY_MODEL_8d2d6b62261b4239a4479740f54b0a89",
       "max": 5.0,
       "min": 0.0,
       "orientation": "horizontal",
       "style": "IPY_MODEL_c30fa30ce7ee400f817ee23defa1a79b",
       "value": 5.0
      }
     },
     "9e25ba45912f4084b96956a7716a4322": {
      "model_module": "@jupyter-widgets/base",
      "model_module_version": "1.2.0",
      "model_name": "LayoutModel",
      "state": {
       "_model_module": "@jupyter-widgets/base",
       "_model_module_version": "1.2.0",
       "_model_name": "LayoutModel",
       "_view_count": null,
       "_view_module": "@jupyter-widgets/base",
       "_view_module_version": "1.2.0",
       "_view_name": "LayoutView",
       "align_content": null,
       "align_items": null,
       "align_self": null,
       "border": null,
       "bottom": null,
       "display": null,
       "flex": null,
       "flex_flow": null,
       "grid_area": null,
       "grid_auto_columns": null,
       "grid_auto_flow": null,
       "grid_auto_rows": null,
       "grid_column": null,
       "grid_gap": null,
       "grid_row": null,
       "grid_template_areas": null,
       "grid_template_columns": null,
       "grid_template_rows": null,
       "height": null,
       "justify_content": null,
       "justify_items": null,
       "left": null,
       "margin": null,
       "max_height": null,
       "max_width": null,
       "min_height": null,
       "min_width": null,
       "object_fit": null,
       "object_position": null,
       "order": null,
       "overflow": null,
       "overflow_x": null,
       "overflow_y": null,
       "padding": null,
       "right": null,
       "top": null,
       "visibility": null,
       "width": null
      }
     },
     "c30fa30ce7ee400f817ee23defa1a79b": {
      "model_module": "@jupyter-widgets/controls",
      "model_module_version": "1.5.0",
      "model_name": "ProgressStyleModel",
      "state": {
       "_model_module": "@jupyter-widgets/controls",
       "_model_module_version": "1.5.0",
       "_model_name": "ProgressStyleModel",
       "_view_count": null,
       "_view_module": "@jupyter-widgets/base",
       "_view_module_version": "1.2.0",
       "_view_name": "StyleView",
       "bar_color": null,
       "description_width": ""
      }
     },
     "caa2514e16c54b9a98d5fe52d8bea0e8": {
      "model_module": "@jupyter-widgets/base",
      "model_module_version": "1.2.0",
      "model_name": "LayoutModel",
      "state": {
       "_model_module": "@jupyter-widgets/base",
       "_model_module_version": "1.2.0",
       "_model_name": "LayoutModel",
       "_view_count": null,
       "_view_module": "@jupyter-widgets/base",
       "_view_module_version": "1.2.0",
       "_view_name": "LayoutView",
       "align_content": null,
       "align_items": null,
       "align_self": null,
       "border": null,
       "bottom": null,
       "display": null,
       "flex": null,
       "flex_flow": null,
       "grid_area": null,
       "grid_auto_columns": null,
       "grid_auto_flow": null,
       "grid_auto_rows": null,
       "grid_column": null,
       "grid_gap": null,
       "grid_row": null,
       "grid_template_areas": null,
       "grid_template_columns": null,
       "grid_template_rows": null,
       "height": null,
       "justify_content": null,
       "justify_items": null,
       "left": null,
       "margin": null,
       "max_height": null,
       "max_width": null,
       "min_height": null,
       "min_width": null,
       "object_fit": null,
       "object_position": null,
       "order": null,
       "overflow": null,
       "overflow_x": null,
       "overflow_y": null,
       "padding": null,
       "right": null,
       "top": null,
       "visibility": null,
       "width": null
      }
     },
     "d35aba344cb44bd9951b85b4ef172549": {
      "model_module": "@jupyter-widgets/base",
      "model_module_version": "1.2.0",
      "model_name": "LayoutModel",
      "state": {
       "_model_module": "@jupyter-widgets/base",
       "_model_module_version": "1.2.0",
       "_model_name": "LayoutModel",
       "_view_count": null,
       "_view_module": "@jupyter-widgets/base",
       "_view_module_version": "1.2.0",
       "_view_name": "LayoutView",
       "align_content": null,
       "align_items": null,
       "align_self": null,
       "border": null,
       "bottom": null,
       "display": null,
       "flex": null,
       "flex_flow": null,
       "grid_area": null,
       "grid_auto_columns": null,
       "grid_auto_flow": null,
       "grid_auto_rows": null,
       "grid_column": null,
       "grid_gap": null,
       "grid_row": null,
       "grid_template_areas": null,
       "grid_template_columns": null,
       "grid_template_rows": null,
       "height": null,
       "justify_content": null,
       "justify_items": null,
       "left": null,
       "margin": null,
       "max_height": null,
       "max_width": null,
       "min_height": null,
       "min_width": null,
       "object_fit": null,
       "object_position": null,
       "order": null,
       "overflow": null,
       "overflow_x": null,
       "overflow_y": null,
       "padding": null,
       "right": null,
       "top": null,
       "visibility": null,
       "width": null
      }
     },
     "e32e35c17f814a8d83a656444b7d5a44": {
      "model_module": "@jupyter-widgets/controls",
      "model_module_version": "1.5.0",
      "model_name": "HTMLModel",
      "state": {
       "_dom_classes": [],
       "_model_module": "@jupyter-widgets/controls",
       "_model_module_version": "1.5.0",
       "_model_name": "HTMLModel",
       "_view_count": null,
       "_view_module": "@jupyter-widgets/controls",
       "_view_module_version": "1.5.0",
       "_view_name": "HTMLView",
       "description": "",
       "description_tooltip": null,
       "layout": "IPY_MODEL_9e25ba45912f4084b96956a7716a4322",
       "placeholder": "​",
       "style": "IPY_MODEL_76f0966f07db431e8bdb6a63b1805c33",
       "value": " 5/5 [00:02&lt;00:00,  1.94it/s]"
      }
     },
     "e4c6fa6ed09042ee925e8a32e1c0b9fb": {
      "model_module": "@jupyter-widgets/base",
      "model_module_version": "1.2.0",
      "model_name": "LayoutModel",
      "state": {
       "_model_module": "@jupyter-widgets/base",
       "_model_module_version": "1.2.0",
       "_model_name": "LayoutModel",
       "_view_count": null,
       "_view_module": "@jupyter-widgets/base",
       "_view_module_version": "1.2.0",
       "_view_name": "LayoutView",
       "align_content": null,
       "align_items": null,
       "align_self": null,
       "border": null,
       "bottom": null,
       "display": null,
       "flex": null,
       "flex_flow": null,
       "grid_area": null,
       "grid_auto_columns": null,
       "grid_auto_flow": null,
       "grid_auto_rows": null,
       "grid_column": null,
       "grid_gap": null,
       "grid_row": null,
       "grid_template_areas": null,
       "grid_template_columns": null,
       "grid_template_rows": null,
       "height": null,
       "justify_content": null,
       "justify_items": null,
       "left": null,
       "margin": null,
       "max_height": null,
       "max_width": null,
       "min_height": null,
       "min_width": null,
       "object_fit": null,
       "object_position": null,
       "order": null,
       "overflow": null,
       "overflow_x": null,
       "overflow_y": null,
       "padding": null,
       "right": null,
       "top": null,
       "visibility": null,
       "width": null
      }
     },
     "f22ba0fc41ad484c84896fbe0465ca12": {
      "model_module": "@jupyter-widgets/controls",
      "model_module_version": "1.5.0",
      "model_name": "FloatProgressModel",
      "state": {
       "_dom_classes": [],
       "_model_module": "@jupyter-widgets/controls",
       "_model_module_version": "1.5.0",
       "_model_name": "FloatProgressModel",
       "_view_count": null,
       "_view_module": "@jupyter-widgets/controls",
       "_view_module_version": "1.5.0",
       "_view_name": "ProgressView",
       "bar_style": "success",
       "description": "",
       "description_tooltip": null,
       "layout": "IPY_MODEL_5f94533b28d74497ada6f49302abb169",
       "max": 5.0,
       "min": 0.0,
       "orientation": "horizontal",
       "style": "IPY_MODEL_7d9f28150a8844f38cca6fea23ee2b16",
       "value": 5.0
      }
     }
    },
    "version_major": 2,
    "version_minor": 0
   }
  }
 },
 "nbformat": 4,
 "nbformat_minor": 5
}
